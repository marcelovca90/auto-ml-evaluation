{
 "cells": [
  {
   "cell_type": "code",
   "execution_count": 1,
   "id": "b2ea4148-0d20-4005-9d77-bc34c65c5b72",
   "metadata": {
    "editable": true,
    "slideshow": {
     "slide_type": ""
    },
    "tags": []
   },
   "outputs": [],
   "source": [
    "# !pip install papermill"
   ]
  },
  {
   "cell_type": "code",
   "execution_count": 2,
   "id": "6bb8c7ef-e521-4386-9b25-627f2b8d1931",
   "metadata": {
    "editable": true,
    "slideshow": {
     "slide_type": ""
    },
    "tags": []
   },
   "outputs": [],
   "source": [
    "# Parameters\n",
    "scenarios = [\"binary\", \"multiclass\", \"multilabel_native\", \"multilabel_powerset\", \"all\"]\n",
    "alpha = 0.05"
   ]
  },
  {
   "cell_type": "code",
   "execution_count": 3,
   "id": "59aafce9-8a18-4e4c-bdbb-a7611ff47a46",
   "metadata": {
    "editable": true,
    "slideshow": {
     "slide_type": ""
    },
    "tags": []
   },
   "outputs": [
    {
     "name": "stdout",
     "output_type": "stream",
     "text": [
      "Running Step 0 (Results Gatherer)...\n"
     ]
    },
    {
     "data": {
      "application/vnd.jupyter.widget-view+json": {
       "model_id": "be53ed9ee42844a6b4d5130ebbabc371",
       "version_major": 2,
       "version_minor": 0
      },
      "text/plain": [
       "Executing:   0%|          | 0/6 [00:00<?, ?cell/s]"
      ]
     },
     "metadata": {},
     "output_type": "display_data"
    }
   ],
   "source": [
    "import papermill as pm\n",
    "\n",
    "# Step 0: Results Gatherer\n",
    "print(f\"Running Step 0 (Results Gatherer)...\")\n",
    "try:\n",
    "    _ = pm.execute_notebook(\"stats_step_0_results_gatherer.ipynb\", None)\n",
    "except Exception as e:\n",
    "    print(\"Error in Step 0 (Results Gatherer):\", e)"
   ]
  },
  {
   "cell_type": "code",
   "execution_count": 4,
   "id": "2c6f8cf5-ed0d-4ba6-8ad2-5770b3fe3dc8",
   "metadata": {
    "editable": true,
    "slideshow": {
     "slide_type": ""
    },
    "tags": []
   },
   "outputs": [
    {
     "name": "stdout",
     "output_type": "stream",
     "text": [
      "Running Step 1 (Per-Dataset Analysis) for 'binary'...\n"
     ]
    },
    {
     "data": {
      "application/vnd.jupyter.widget-view+json": {
       "model_id": "dccc586f694346ea8503c2422d8c24f1",
       "version_major": 2,
       "version_minor": 0
      },
      "text/plain": [
       "Executing:   0%|          | 0/33 [00:00<?, ?cell/s]"
      ]
     },
     "metadata": {},
     "output_type": "display_data"
    },
    {
     "name": "stdout",
     "output_type": "stream",
     "text": [
      "Running Step 2 (Across-Datasets Analysis) for 'binary'...\n"
     ]
    },
    {
     "data": {
      "application/vnd.jupyter.widget-view+json": {
       "model_id": "3f489d791db04b42bd8a8af8504d3ee8",
       "version_major": 2,
       "version_minor": 0
      },
      "text/plain": [
       "Executing:   0%|          | 0/25 [00:00<?, ?cell/s]"
      ]
     },
     "metadata": {},
     "output_type": "display_data"
    },
    {
     "name": "stdout",
     "output_type": "stream",
     "text": [
      "Running Step 1 (Per-Dataset Analysis) for 'multiclass'...\n"
     ]
    },
    {
     "data": {
      "application/vnd.jupyter.widget-view+json": {
       "model_id": "3fdab587b9ad4de2a818f96380c7c8e4",
       "version_major": 2,
       "version_minor": 0
      },
      "text/plain": [
       "Executing:   0%|          | 0/33 [00:00<?, ?cell/s]"
      ]
     },
     "metadata": {},
     "output_type": "display_data"
    },
    {
     "name": "stdout",
     "output_type": "stream",
     "text": [
      "Running Step 2 (Across-Datasets Analysis) for 'multiclass'...\n"
     ]
    },
    {
     "data": {
      "application/vnd.jupyter.widget-view+json": {
       "model_id": "a3a0b4b4b77549c5b25546c996ed211a",
       "version_major": 2,
       "version_minor": 0
      },
      "text/plain": [
       "Executing:   0%|          | 0/25 [00:00<?, ?cell/s]"
      ]
     },
     "metadata": {},
     "output_type": "display_data"
    },
    {
     "name": "stdout",
     "output_type": "stream",
     "text": [
      "Running Step 1 (Per-Dataset Analysis) for 'multilabel_native'...\n"
     ]
    },
    {
     "data": {
      "application/vnd.jupyter.widget-view+json": {
       "model_id": "6a87d8f2d023435085be51097286d569",
       "version_major": 2,
       "version_minor": 0
      },
      "text/plain": [
       "Executing:   0%|          | 0/33 [00:00<?, ?cell/s]"
      ]
     },
     "metadata": {},
     "output_type": "display_data"
    },
    {
     "name": "stdout",
     "output_type": "stream",
     "text": [
      "Running Step 2 (Across-Datasets Analysis) for 'multilabel_native'...\n"
     ]
    },
    {
     "data": {
      "application/vnd.jupyter.widget-view+json": {
       "model_id": "49c48556ed3d43939bfb613f48da42a0",
       "version_major": 2,
       "version_minor": 0
      },
      "text/plain": [
       "Executing:   0%|          | 0/25 [00:00<?, ?cell/s]"
      ]
     },
     "metadata": {},
     "output_type": "display_data"
    },
    {
     "name": "stdout",
     "output_type": "stream",
     "text": [
      "Running Step 1 (Per-Dataset Analysis) for 'multilabel_powerset'...\n"
     ]
    },
    {
     "data": {
      "application/vnd.jupyter.widget-view+json": {
       "model_id": "53b872d51e1d463d945a797f3e6c2011",
       "version_major": 2,
       "version_minor": 0
      },
      "text/plain": [
       "Executing:   0%|          | 0/33 [00:00<?, ?cell/s]"
      ]
     },
     "metadata": {},
     "output_type": "display_data"
    },
    {
     "name": "stdout",
     "output_type": "stream",
     "text": [
      "Running Step 2 (Across-Datasets Analysis) for 'multilabel_powerset'...\n"
     ]
    },
    {
     "data": {
      "application/vnd.jupyter.widget-view+json": {
       "model_id": "f6dad1802b5d45979d069e1a6f060184",
       "version_major": 2,
       "version_minor": 0
      },
      "text/plain": [
       "Executing:   0%|          | 0/25 [00:00<?, ?cell/s]"
      ]
     },
     "metadata": {},
     "output_type": "display_data"
    },
    {
     "name": "stdout",
     "output_type": "stream",
     "text": [
      "Running Step 1 (Per-Dataset Analysis) for 'all'...\n"
     ]
    },
    {
     "data": {
      "application/vnd.jupyter.widget-view+json": {
       "model_id": "387f52f832ba4b0b8fd79741f8520897",
       "version_major": 2,
       "version_minor": 0
      },
      "text/plain": [
       "Executing:   0%|          | 0/33 [00:00<?, ?cell/s]"
      ]
     },
     "metadata": {},
     "output_type": "display_data"
    },
    {
     "name": "stdout",
     "output_type": "stream",
     "text": [
      "Running Step 2 (Across-Datasets Analysis) for 'all'...\n"
     ]
    },
    {
     "data": {
      "application/vnd.jupyter.widget-view+json": {
       "model_id": "e9fb8c592608465aad10423f2a73ca47",
       "version_major": 2,
       "version_minor": 0
      },
      "text/plain": [
       "Executing:   0%|          | 0/25 [00:00<?, ?cell/s]"
      ]
     },
     "metadata": {},
     "output_type": "display_data"
    }
   ],
   "source": [
    "for scenario in scenarios:\n",
    "    # Step 1: Per-Dataset Analysis\n",
    "    print(f\"Running Step 1 (Per-Dataset Analysis) for '{scenario}'...\")\n",
    "    try:\n",
    "        _ = pm.execute_notebook(\n",
    "            \"stats_step_1_analysis_per_dataset.ipynb\",\n",
    "            f\"stats/{scenario}/step_1_analysis_per_dataset_output.ipynb\",\n",
    "            parameters=dict(scenario=scenario, alpha=alpha)\n",
    "        )\n",
    "    except Exception as e:\n",
    "        print(\"Error in Step 1 (Per-Dataset Analysis):\", e)\n",
    "    # Step 2: Across-Datasets Analysis\n",
    "    print(f\"Running Step 2 (Across-Datasets Analysis) for '{scenario}'...\")\n",
    "    try:\n",
    "        _ = pm.execute_notebook(\n",
    "            \"stats_step_2_analysis_across_datasets.ipynb\",\n",
    "            f\"stats/{scenario}/step_1_analysis_per_dataset_output.ipynb\",\n",
    "            parameters=dict(scenario=scenario, alpha=alpha)\n",
    "        )\n",
    "    except Exception as e:\n",
    "        print(\"Error in Step 2 (Across-Datasets Analysis):\", e)"
   ]
  }
 ],
 "metadata": {
  "kernelspec": {
   "display_name": "Python 3 (ipykernel)",
   "language": "python",
   "name": "python3"
  },
  "language_info": {
   "codemirror_mode": {
    "name": "ipython",
    "version": 3
   },
   "file_extension": ".py",
   "mimetype": "text/x-python",
   "name": "python",
   "nbconvert_exporter": "python",
   "pygments_lexer": "ipython3",
   "version": "3.9.18"
  }
 },
 "nbformat": 4,
 "nbformat_minor": 5
}
