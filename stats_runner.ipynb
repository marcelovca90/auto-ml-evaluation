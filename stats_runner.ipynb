{
 "cells": [
  {
   "cell_type": "code",
   "execution_count": 1,
   "id": "b2ea4148-0d20-4005-9d77-bc34c65c5b72",
   "metadata": {
    "editable": true,
    "slideshow": {
     "slide_type": ""
    },
    "tags": []
   },
   "outputs": [],
   "source": [
    "# !pip install papermill"
   ]
  },
  {
   "cell_type": "code",
   "execution_count": 2,
   "id": "6bb8c7ef-e521-4386-9b25-627f2b8d1931",
   "metadata": {
    "editable": true,
    "slideshow": {
     "slide_type": ""
    },
    "tags": []
   },
   "outputs": [],
   "source": [
    "# Parameters\n",
    "scenarios = [\"binary\", \"multiclass\", \"multilabel_native\", \"multilabel_powerset\", \"all\"]\n",
    "alpha = 0.05"
   ]
  },
  {
   "cell_type": "code",
   "execution_count": 3,
   "id": "59aafce9-8a18-4e4c-bdbb-a7611ff47a46",
   "metadata": {
    "editable": true,
    "slideshow": {
     "slide_type": ""
    },
    "tags": []
   },
   "outputs": [
    {
     "name": "stdout",
     "output_type": "stream",
     "text": [
      "Running Step 0 (Results Gatherer)...\n"
     ]
    },
    {
     "data": {
      "application/vnd.jupyter.widget-view+json": {
       "model_id": "665cab1c8fb24d0bb0fecff71c59ec9a",
       "version_major": 2,
       "version_minor": 0
      },
      "text/plain": [
       "Executing:   0%|          | 0/6 [00:00<?, ?cell/s]"
      ]
     },
     "metadata": {},
     "output_type": "display_data"
    }
   ],
   "source": [
    "import pandas as pd\n",
    "import papermill as pm\n",
    "\n",
    "# Step 0: Results Gatherer\n",
    "print(f\"Running Step 0 (Results Gatherer)...\")\n",
    "try:\n",
    "    _ = pm.execute_notebook(\"stats_step_0_results_gatherer.ipynb\", None)\n",
    "except Exception as e:\n",
    "    print(\"Error in Step 0 (Results Gatherer):\", e)"
   ]
  },
  {
   "cell_type": "code",
   "execution_count": 4,
   "id": "035121f5-2d97-4f86-854f-1378c65eb83f",
   "metadata": {
    "editable": true,
    "slideshow": {
     "slide_type": ""
    },
    "tags": []
   },
   "outputs": [
    {
     "name": "stdout",
     "output_type": "stream",
     "text": [
      "Running Step 1 (Per-Dataset Analysis) for 'binary'...\n"
     ]
    },
    {
     "data": {
      "application/vnd.jupyter.widget-view+json": {
       "model_id": "4cc8e69c2a0445e19eef3b41327acd1f",
       "version_major": 2,
       "version_minor": 0
      },
      "text/plain": [
       "Executing:   0%|          | 0/37 [00:00<?, ?cell/s]"
      ]
     },
     "metadata": {},
     "output_type": "display_data"
    },
    {
     "name": "stdout",
     "output_type": "stream",
     "text": [
      "Running Step 2 (Across-Datasets Analysis) for 'binary'...\n"
     ]
    },
    {
     "data": {
      "application/vnd.jupyter.widget-view+json": {
       "model_id": "90d34bc0ca7b4d45b9d35a9230e1fc80",
       "version_major": 2,
       "version_minor": 0
      },
      "text/plain": [
       "Executing:   0%|          | 0/36 [00:00<?, ?cell/s]"
      ]
     },
     "metadata": {},
     "output_type": "display_data"
    },
    {
     "name": "stdout",
     "output_type": "stream",
     "text": [
      "Running Step 1 (Per-Dataset Analysis) for 'multiclass'...\n"
     ]
    },
    {
     "data": {
      "application/vnd.jupyter.widget-view+json": {
       "model_id": "73ea6ed97e7b4ade9a91e69a48570099",
       "version_major": 2,
       "version_minor": 0
      },
      "text/plain": [
       "Executing:   0%|          | 0/37 [00:00<?, ?cell/s]"
      ]
     },
     "metadata": {},
     "output_type": "display_data"
    },
    {
     "name": "stdout",
     "output_type": "stream",
     "text": [
      "Running Step 2 (Across-Datasets Analysis) for 'multiclass'...\n"
     ]
    },
    {
     "data": {
      "application/vnd.jupyter.widget-view+json": {
       "model_id": "15866bd18f994b629514f5c41080c5b1",
       "version_major": 2,
       "version_minor": 0
      },
      "text/plain": [
       "Executing:   0%|          | 0/36 [00:00<?, ?cell/s]"
      ]
     },
     "metadata": {},
     "output_type": "display_data"
    },
    {
     "name": "stdout",
     "output_type": "stream",
     "text": [
      "Running Step 1 (Per-Dataset Analysis) for 'multilabel_native'...\n"
     ]
    },
    {
     "data": {
      "application/vnd.jupyter.widget-view+json": {
       "model_id": "b59817334ba1467889756ef951d20a9e",
       "version_major": 2,
       "version_minor": 0
      },
      "text/plain": [
       "Executing:   0%|          | 0/37 [00:00<?, ?cell/s]"
      ]
     },
     "metadata": {},
     "output_type": "display_data"
    },
    {
     "name": "stdout",
     "output_type": "stream",
     "text": [
      "Running Step 2 (Across-Datasets Analysis) for 'multilabel_native'...\n"
     ]
    },
    {
     "data": {
      "application/vnd.jupyter.widget-view+json": {
       "model_id": "e9f0a61b0d5e4ada943407fa62c8f173",
       "version_major": 2,
       "version_minor": 0
      },
      "text/plain": [
       "Executing:   0%|          | 0/36 [00:00<?, ?cell/s]"
      ]
     },
     "metadata": {},
     "output_type": "display_data"
    },
    {
     "name": "stdout",
     "output_type": "stream",
     "text": [
      "Running Step 1 (Per-Dataset Analysis) for 'multilabel_powerset'...\n"
     ]
    },
    {
     "data": {
      "application/vnd.jupyter.widget-view+json": {
       "model_id": "b6f2645e06484deaa98d61ec8e161d64",
       "version_major": 2,
       "version_minor": 0
      },
      "text/plain": [
       "Executing:   0%|          | 0/37 [00:00<?, ?cell/s]"
      ]
     },
     "metadata": {},
     "output_type": "display_data"
    },
    {
     "name": "stdout",
     "output_type": "stream",
     "text": [
      "Running Step 2 (Across-Datasets Analysis) for 'multilabel_powerset'...\n"
     ]
    },
    {
     "data": {
      "application/vnd.jupyter.widget-view+json": {
       "model_id": "0904962c24574596ab27530adaa948a3",
       "version_major": 2,
       "version_minor": 0
      },
      "text/plain": [
       "Executing:   0%|          | 0/36 [00:00<?, ?cell/s]"
      ]
     },
     "metadata": {},
     "output_type": "display_data"
    },
    {
     "name": "stdout",
     "output_type": "stream",
     "text": [
      "Running Step 1 (Per-Dataset Analysis) for 'all'...\n"
     ]
    },
    {
     "data": {
      "application/vnd.jupyter.widget-view+json": {
       "model_id": "5b403733b1784a45bdd9551d02f2153c",
       "version_major": 2,
       "version_minor": 0
      },
      "text/plain": [
       "Executing:   0%|          | 0/37 [00:00<?, ?cell/s]"
      ]
     },
     "metadata": {},
     "output_type": "display_data"
    },
    {
     "name": "stdout",
     "output_type": "stream",
     "text": [
      "Running Step 2 (Across-Datasets Analysis) for 'all'...\n"
     ]
    },
    {
     "data": {
      "application/vnd.jupyter.widget-view+json": {
       "model_id": "1492a906b42541ec87c7cab39ada44a5",
       "version_major": 2,
       "version_minor": 0
      },
      "text/plain": [
       "Executing:   0%|          | 0/36 [00:00<?, ?cell/s]"
      ]
     },
     "metadata": {},
     "output_type": "display_data"
    }
   ],
   "source": [
    "step_1_dfs_f1, step_1_dfs_time = [], []\n",
    "step_2_dfs_f1, step_2_dfs_time = [], []\n",
    "\n",
    "for scenario in scenarios:\n",
    "    \n",
    "    # Step 1: Per-Dataset Analysis\n",
    "    print(f\"Running Step 1 (Per-Dataset Analysis) for '{scenario}'...\")\n",
    "    try:\n",
    "        step_id = '3a' if scenario == 'all' else '1'\n",
    "        _ = pm.execute_notebook(\n",
    "            \"stats_step_1_analysis_per_dataset.ipynb\",\n",
    "            f\"stats/{scenario}/{scenario}_step_1_analysis_per_dataset_output.ipynb\",\n",
    "            parameters=dict(scenario=scenario, alpha=alpha)\n",
    "        )\n",
    "        step_1_dfs_f1.append(pd.read_csv(f\"stats/{scenario}/{scenario}_step_{step_id}_per_dataset_stat_results_f1.csv\"))\n",
    "        step_1_dfs_time.append(pd.read_csv(f\"stats/{scenario}/{scenario}_step_{step_id}_per_dataset_stat_results_time.csv\"))\n",
    "    except Exception as e:\n",
    "        print(\"Error in Step 1 (Per-Dataset Analysis):\", e)\n",
    "    \n",
    "    # Step 2: Across-Datasets Analysis\n",
    "    print(f\"Running Step 2 (Across-Datasets Analysis) for '{scenario}'...\")\n",
    "    try:\n",
    "        step_id = '3b' if scenario == 'all' else '2'\n",
    "        _ = pm.execute_notebook(\n",
    "            \"stats_step_2_analysis_across_datasets.ipynb\",\n",
    "            f\"stats/{scenario}/{scenario}_step_2_analysis_across_datasets_output.ipynb\",\n",
    "            parameters=dict(scenario=scenario, alpha=alpha)\n",
    "        )\n",
    "        step_2_dfs_f1.append(pd.read_csv(f\"stats/{scenario}/{scenario}_step_{step_id}_across_datasets_stat_results_f1.csv\"))\n",
    "        step_2_dfs_time.append(pd.read_csv(f\"stats/{scenario}/{scenario}_step_{step_id}_across_datasets_stat_results_time.csv\"))\n",
    "    except Exception as e:\n",
    "        print(\"Error in Step 2 (Across-Datasets Analysis):\", e)"
   ]
  },
  {
   "cell_type": "code",
   "execution_count": 5,
   "id": "ab5e19be-db4d-458a-94c2-6c32338d98eb",
   "metadata": {
    "editable": true,
    "slideshow": {
     "slide_type": ""
    },
    "tags": []
   },
   "outputs": [],
   "source": [
    "# Step 1: Per-Dataset Analysis (consolidate stats for scenario != 'all')\n",
    "df_step_1_f1 = pd.concat(step_1_dfs_f1, axis=0)\n",
    "df_step_1_f1 = df_step_1_f1[df_step_1_f1[\"scenario\"] != \"all\"]\n",
    "df_step_1_f1.to_csv(\"stats/step_1_per_dataset_stat_results_f1_condensed.csv\", index=False)\n",
    "df_step_1_time = pd.concat(step_1_dfs_time, axis=0)\n",
    "df_step_1_time = df_step_1_time[df_step_1_time[\"scenario\"] != \"all\"]\n",
    "df_step_1_time.to_csv(\"stats/step_1_per_dataset_stat_results_time_condensed.csv\", index=False)\n",
    "\n",
    "# Step 2: Across-Datasets Analysis (consolidate stats for scenario != 'all')\n",
    "df_step_2_f1 = pd.concat(step_2_dfs_f1, axis=0)\n",
    "df_step_2_f1 = df_step_2_f1[df_step_2_f1[\"scenario\"] != \"all\"]\n",
    "df_step_2_f1.to_csv(\"stats/step_2_across_datasets_stat_results_f1_condensed.csv\", index=False)\n",
    "df_step_2_time = pd.concat(step_2_dfs_time, axis=0)\n",
    "df_step_2_time = df_step_2_time[df_step_2_time[\"scenario\"] != \"all\"]\n",
    "df_step_2_time.to_csv(\"stats/step_2_across_datasets_stat_results_time_condensed.csv\", index=False)\n",
    "\n",
    "# Step 3: All-Datasets Analysis (consolidate stats for scenario == 'all')\n",
    "df_step_3_f1 = pd.concat(step_2_dfs_f1, axis=0)\n",
    "df_step_3_f1 = df_step_3_f1[df_step_3_f1[\"scenario\"] == \"all\"]\n",
    "df_step_3_f1.to_csv(\"stats/step_3_all_datasets_stat_results_f1.csv\", index=False)\n",
    "df_step_3_time = pd.concat(step_2_dfs_time, axis=0)\n",
    "df_step_3_time = df_step_3_time[df_step_3_time[\"scenario\"] == \"all\"]\n",
    "df_step_3_time.to_csv(\"stats/step_3_all_datasets_stat_results_time.csv\", index=False)"
   ]
  }
 ],
 "metadata": {
  "kernelspec": {
   "display_name": "Python 3 (ipykernel)",
   "language": "python",
   "name": "python3"
  },
  "language_info": {
   "codemirror_mode": {
    "name": "ipython",
    "version": 3
   },
   "file_extension": ".py",
   "mimetype": "text/x-python",
   "name": "python",
   "nbconvert_exporter": "python",
   "pygments_lexer": "ipython3",
   "version": "3.11.9"
  }
 },
 "nbformat": 4,
 "nbformat_minor": 5
}
