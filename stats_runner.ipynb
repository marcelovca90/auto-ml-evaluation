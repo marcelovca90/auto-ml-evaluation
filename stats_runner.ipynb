{
 "cells": [
  {
   "cell_type": "code",
   "execution_count": 1,
   "id": "b2ea4148-0d20-4005-9d77-bc34c65c5b72",
   "metadata": {
    "editable": true,
    "slideshow": {
     "slide_type": ""
    },
    "tags": []
   },
   "outputs": [],
   "source": [
    "# !pip install papermill"
   ]
  },
  {
   "cell_type": "code",
   "execution_count": 2,
   "id": "6bb8c7ef-e521-4386-9b25-627f2b8d1931",
   "metadata": {
    "editable": true,
    "slideshow": {
     "slide_type": ""
    },
    "tags": []
   },
   "outputs": [],
   "source": [
    "# Parameters\n",
    "scenarios = [\"binary\", \"multiclass\", \"multilabel_native\", \"multilabel_powerset\", \"all\"]\n",
    "alpha = 0.05"
   ]
  },
  {
   "cell_type": "code",
   "execution_count": 3,
   "id": "59aafce9-8a18-4e4c-bdbb-a7611ff47a46",
   "metadata": {
    "editable": true,
    "slideshow": {
     "slide_type": ""
    },
    "tags": []
   },
   "outputs": [
    {
     "name": "stdout",
     "output_type": "stream",
     "text": [
      "Running Step 0 (Results Gatherer)...\n"
     ]
    },
    {
     "data": {
      "application/vnd.jupyter.widget-view+json": {
       "model_id": "6c88eb5e87474a22829732eca553cb28",
       "version_major": 2,
       "version_minor": 0
      },
      "text/plain": [
       "Executing:   0%|          | 0/6 [00:00<?, ?cell/s]"
      ]
     },
     "metadata": {},
     "output_type": "display_data"
    }
   ],
   "source": [
    "import papermill as pm\n",
    "\n",
    "# Step 0: Results Gatherer\n",
    "print(f\"Running Step 0 (Results Gatherer)...\")\n",
    "try:\n",
    "    _ = pm.execute_notebook(\"stats_step_0_results_gatherer.ipynb\", None)\n",
    "except Exception as e:\n",
    "    print(\"Error in Step 0 (Results Gatherer):\", e)"
   ]
  },
  {
   "cell_type": "code",
   "execution_count": 4,
   "id": "2c6f8cf5-ed0d-4ba6-8ad2-5770b3fe3dc8",
   "metadata": {
    "editable": true,
    "slideshow": {
     "slide_type": ""
    },
    "tags": []
   },
   "outputs": [
    {
     "name": "stdout",
     "output_type": "stream",
     "text": [
      "Running Step 1 (Per-Dataset Analysis) for 'binary'...\n"
     ]
    },
    {
     "data": {
      "application/vnd.jupyter.widget-view+json": {
       "model_id": "d774f61f17d342bca94b0ebb375d97da",
       "version_major": 2,
       "version_minor": 0
      },
      "text/plain": [
       "Executing:   0%|          | 0/33 [00:00<?, ?cell/s]"
      ]
     },
     "metadata": {},
     "output_type": "display_data"
    },
    {
     "name": "stdout",
     "output_type": "stream",
     "text": [
      "Running Step 2 (Across-Datasets Analysis) for 'binary'...\n"
     ]
    },
    {
     "data": {
      "application/vnd.jupyter.widget-view+json": {
       "model_id": "d1f2eeb4efb840a2ba9ce7e0396d8d90",
       "version_major": 2,
       "version_minor": 0
      },
      "text/plain": [
       "Executing:   0%|          | 0/25 [00:00<?, ?cell/s]"
      ]
     },
     "metadata": {},
     "output_type": "display_data"
    },
    {
     "name": "stdout",
     "output_type": "stream",
     "text": [
      "Running Step 1 (Per-Dataset Analysis) for 'multiclass'...\n"
     ]
    },
    {
     "data": {
      "application/vnd.jupyter.widget-view+json": {
       "model_id": "8d3b7493d4ba42b79c8845181a791bc1",
       "version_major": 2,
       "version_minor": 0
      },
      "text/plain": [
       "Executing:   0%|          | 0/33 [00:00<?, ?cell/s]"
      ]
     },
     "metadata": {},
     "output_type": "display_data"
    },
    {
     "name": "stdout",
     "output_type": "stream",
     "text": [
      "Running Step 2 (Across-Datasets Analysis) for 'multiclass'...\n"
     ]
    },
    {
     "data": {
      "application/vnd.jupyter.widget-view+json": {
       "model_id": "5b30aa329faf4998a4c662a7fbd851df",
       "version_major": 2,
       "version_minor": 0
      },
      "text/plain": [
       "Executing:   0%|          | 0/25 [00:00<?, ?cell/s]"
      ]
     },
     "metadata": {},
     "output_type": "display_data"
    },
    {
     "name": "stdout",
     "output_type": "stream",
     "text": [
      "Running Step 1 (Per-Dataset Analysis) for 'multilabel_native'...\n"
     ]
    },
    {
     "data": {
      "application/vnd.jupyter.widget-view+json": {
       "model_id": "51f89dd02a294dbc85edc15ffb5b4c9a",
       "version_major": 2,
       "version_minor": 0
      },
      "text/plain": [
       "Executing:   0%|          | 0/33 [00:00<?, ?cell/s]"
      ]
     },
     "metadata": {},
     "output_type": "display_data"
    },
    {
     "name": "stdout",
     "output_type": "stream",
     "text": [
      "Running Step 2 (Across-Datasets Analysis) for 'multilabel_native'...\n"
     ]
    },
    {
     "data": {
      "application/vnd.jupyter.widget-view+json": {
       "model_id": "0bab0573f45a4115a3c066df70db4f11",
       "version_major": 2,
       "version_minor": 0
      },
      "text/plain": [
       "Executing:   0%|          | 0/25 [00:00<?, ?cell/s]"
      ]
     },
     "metadata": {},
     "output_type": "display_data"
    },
    {
     "name": "stdout",
     "output_type": "stream",
     "text": [
      "Running Step 1 (Per-Dataset Analysis) for 'multilabel_powerset'...\n"
     ]
    },
    {
     "data": {
      "application/vnd.jupyter.widget-view+json": {
       "model_id": "ff470073642f41929a771837cb7f7352",
       "version_major": 2,
       "version_minor": 0
      },
      "text/plain": [
       "Executing:   0%|          | 0/33 [00:00<?, ?cell/s]"
      ]
     },
     "metadata": {},
     "output_type": "display_data"
    },
    {
     "name": "stdout",
     "output_type": "stream",
     "text": [
      "Running Step 2 (Across-Datasets Analysis) for 'multilabel_powerset'...\n"
     ]
    },
    {
     "data": {
      "application/vnd.jupyter.widget-view+json": {
       "model_id": "946d0780824d4591aa69038401b83dbf",
       "version_major": 2,
       "version_minor": 0
      },
      "text/plain": [
       "Executing:   0%|          | 0/25 [00:00<?, ?cell/s]"
      ]
     },
     "metadata": {},
     "output_type": "display_data"
    },
    {
     "name": "stdout",
     "output_type": "stream",
     "text": [
      "Running Step 1 (Per-Dataset Analysis) for 'all'...\n"
     ]
    },
    {
     "data": {
      "application/vnd.jupyter.widget-view+json": {
       "model_id": "33d69024bf2d4a978fa62831a7e4a2f4",
       "version_major": 2,
       "version_minor": 0
      },
      "text/plain": [
       "Executing:   0%|          | 0/33 [00:00<?, ?cell/s]"
      ]
     },
     "metadata": {},
     "output_type": "display_data"
    },
    {
     "name": "stdout",
     "output_type": "stream",
     "text": [
      "Running Step 2 (Across-Datasets Analysis) for 'all'...\n"
     ]
    },
    {
     "data": {
      "application/vnd.jupyter.widget-view+json": {
       "model_id": "9b3fac7a07964b4ba34e0caea1430078",
       "version_major": 2,
       "version_minor": 0
      },
      "text/plain": [
       "Executing:   0%|          | 0/25 [00:00<?, ?cell/s]"
      ]
     },
     "metadata": {},
     "output_type": "display_data"
    }
   ],
   "source": [
    "for scenario in scenarios:\n",
    "    # Step 1: Per-Dataset Analysis\n",
    "    print(f\"Running Step 1 (Per-Dataset Analysis) for '{scenario}'...\")\n",
    "    try:\n",
    "        _ = pm.execute_notebook(\n",
    "            \"stats_step_1_analysis_per_dataset.ipynb\",\n",
    "            f\"stats/{scenario}/step_1_analysis_per_dataset_output.ipynb\",\n",
    "            parameters=dict(scenario=scenario, alpha=alpha)\n",
    "        )\n",
    "    except Exception as e:\n",
    "        print(\"Error in Step 1 (Per-Dataset Analysis):\", e)\n",
    "    # Step 2: Across-Datasets Analysis\n",
    "    print(f\"Running Step 2 (Across-Datasets Analysis) for '{scenario}'...\")\n",
    "    try:\n",
    "        _ = pm.execute_notebook(\n",
    "            \"stats_step_2_analysis_across_datasets.ipynb\",\n",
    "            f\"stats/{scenario}/step_2_analysis_across_datasets_output.ipynb\",\n",
    "            parameters=dict(scenario=scenario, alpha=alpha)\n",
    "        )\n",
    "    except Exception as e:\n",
    "        print(\"Error in Step 2 (Across-Datasets Analysis):\", e)"
   ]
  }
 ],
 "metadata": {
  "kernelspec": {
   "display_name": "Python 3 (ipykernel)",
   "language": "python",
   "name": "python3"
  },
  "language_info": {
   "codemirror_mode": {
    "name": "ipython",
    "version": 3
   },
   "file_extension": ".py",
   "mimetype": "text/x-python",
   "name": "python",
   "nbconvert_exporter": "python",
   "pygments_lexer": "ipython3",
   "version": "3.9.18"
  }
 },
 "nbformat": 4,
 "nbformat_minor": 5
}
