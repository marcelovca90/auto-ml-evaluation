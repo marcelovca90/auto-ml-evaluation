{
 "cells": [
  {
   "cell_type": "markdown",
   "id": "7e4e53e0-0dfe-4ec6-88c6-b681742f3bc6",
   "metadata": {
    "papermill": {
     "duration": 0.003,
     "end_time": "2025-02-15T07:23:03.948474",
     "exception": false,
     "start_time": "2025-02-15T07:23:03.945474",
     "status": "completed"
    },
    "tags": []
   },
   "source": [
    "# Step 2: Across-Datasets Analysis"
   ]
  },
  {
   "cell_type": "code",
   "execution_count": 1,
   "id": "270ee3f0-84e0-44ce-8bfa-545e8fa95d76",
   "metadata": {
    "editable": true,
    "execution": {
     "iopub.execute_input": "2025-02-15T07:23:03.955977Z",
     "iopub.status.busy": "2025-02-15T07:23:03.955977Z",
     "iopub.status.idle": "2025-02-15T07:23:03.960983Z",
     "shell.execute_reply": "2025-02-15T07:23:03.960983Z"
    },
    "papermill": {
     "duration": 0.010509,
     "end_time": "2025-02-15T07:23:03.962983",
     "exception": false,
     "start_time": "2025-02-15T07:23:03.952474",
     "status": "completed"
    },
    "slideshow": {
     "slide_type": ""
    },
    "tags": []
   },
   "outputs": [],
   "source": [
    "# !pip install pandas numpy \"scipy>1.12\" statsmodels pingouin scikit-posthocs matplotlib seaborn adjustText"
   ]
  },
  {
   "cell_type": "code",
   "execution_count": 2,
   "id": "fd4e57a6-fecc-4d52-90b1-036c6c5bbc15",
   "metadata": {
    "editable": true,
    "execution": {
     "iopub.execute_input": "2025-02-15T07:23:03.969982Z",
     "iopub.status.busy": "2025-02-15T07:23:03.968984Z",
     "iopub.status.idle": "2025-02-15T07:23:03.975985Z",
     "shell.execute_reply": "2025-02-15T07:23:03.975985Z"
    },
    "papermill": {
     "duration": 0.012017,
     "end_time": "2025-02-15T07:23:03.977001",
     "exception": false,
     "start_time": "2025-02-15T07:23:03.964984",
     "status": "completed"
    },
    "slideshow": {
     "slide_type": ""
    },
    "tags": [
     "parameters"
    ]
   },
   "outputs": [],
   "source": [
    "# binary, multiclass, multilabel_native, multilabel_powerset, all\n",
    "scenario = \"binary\"\n",
    "# significance level (used globally)\n",
    "alpha = 0.05 "
   ]
  },
  {
   "cell_type": "code",
   "execution_count": 3,
   "id": "56bcd63d",
   "metadata": {
    "execution": {
     "iopub.execute_input": "2025-02-15T07:23:03.984000Z",
     "iopub.status.busy": "2025-02-15T07:23:03.984000Z",
     "iopub.status.idle": "2025-02-15T07:23:03.991565Z",
     "shell.execute_reply": "2025-02-15T07:23:03.991565Z"
    },
    "papermill": {
     "duration": 0.012569,
     "end_time": "2025-02-15T07:23:03.992570",
     "exception": false,
     "start_time": "2025-02-15T07:23:03.980001",
     "status": "completed"
    },
    "tags": [
     "injected-parameters"
    ]
   },
   "outputs": [],
   "source": [
    "# Parameters\n",
    "scenario = \"multilabel_native\"\n",
    "alpha = 0.05\n"
   ]
  },
  {
   "cell_type": "code",
   "execution_count": 4,
   "id": "28fc226c-edda-4a34-bd1e-11d72752c370",
   "metadata": {
    "editable": true,
    "execution": {
     "iopub.execute_input": "2025-02-15T07:23:03.999569Z",
     "iopub.status.busy": "2025-02-15T07:23:03.999569Z",
     "iopub.status.idle": "2025-02-15T07:23:04.403794Z",
     "shell.execute_reply": "2025-02-15T07:23:04.403794Z"
    },
    "papermill": {
     "duration": 0.410226,
     "end_time": "2025-02-15T07:23:04.405795",
     "exception": false,
     "start_time": "2025-02-15T07:23:03.995569",
     "status": "completed"
    },
    "slideshow": {
     "slide_type": ""
    },
    "tags": []
   },
   "outputs": [
    {
     "name": "stdout",
     "output_type": "stream",
     "text": [
      "C:\\Users\\marce\\git\\auto-ml-evaluation-2025\\fonts\\cmunrm.ttf CMU Serif\n",
      "C:\\Users\\marce\\git\\auto-ml-evaluation-2025\\fonts\\cmunbx.ttf CMU Serif\n",
      "C:\\Users\\marce\\git\\auto-ml-evaluation-2025\\fonts\\cmunti.ttf CMU Serif\n"
     ]
    }
   ],
   "source": [
    "# change ~/anaconda3/Lib/site-packages/matplotlib/_mathtext.py:659\n",
    "# to uniindex = 0x2D  # currency char, for lack of anything better\n",
    "from matplotlib import font_manager\n",
    "import matplotlib.pyplot as plt\n",
    "\n",
    "font_files = font_manager.findSystemFonts(fontpaths=['fonts'])\n",
    "for font_file in font_files:\n",
    "    font_manager.fontManager.addfont(font_file)\n",
    "    prop = font_manager.FontProperties(fname=font_file)\n",
    "    print(font_file, prop.get_name())\n",
    "\n",
    "plt.rcParams['font.family'] = ['CMU Serif', 'DejaVu Sans']\n",
    "plt.rcParams['text.usetex'] = False\n",
    "plt.rcParams['axes.unicode_minus'] = False"
   ]
  },
  {
   "cell_type": "code",
   "execution_count": 5,
   "id": "bd7227ec-b7e1-428f-be8c-90d19f63ae54",
   "metadata": {
    "editable": true,
    "execution": {
     "iopub.execute_input": "2025-02-15T07:23:04.413792Z",
     "iopub.status.busy": "2025-02-15T07:23:04.412795Z",
     "iopub.status.idle": "2025-02-15T07:23:04.701421Z",
     "shell.execute_reply": "2025-02-15T07:23:04.701421Z"
    },
    "papermill": {
     "duration": 0.294632,
     "end_time": "2025-02-15T07:23:04.703424",
     "exception": false,
     "start_time": "2025-02-15T07:23:04.408792",
     "status": "completed"
    },
    "slideshow": {
     "slide_type": ""
    },
    "tags": []
   },
   "outputs": [],
   "source": [
    "import pandas as pd\n",
    "\n",
    "def aggregate_metric_per_dataset(df, dataset_col='dataset', framework_col='framework', \n",
    "                                 metric_col='f1', agg_func='mean'):\n",
    "    \"\"\"\n",
    "    Aggregates multiple trials per (dataset, framework) into a single metric.\n",
    "    Drops NaN values before aggregation without modifying the original dataframe.\n",
    "        \n",
    "    :param df: DataFrame with columns [dataset_col, framework_col, 'Trial', metric_col, ...]\n",
    "    :param dataset_col: Name of the column identifying datasets (e.g. 'dataset')\n",
    "    :param framework_col: Name of the column identifying frameworks (e.g. 'framework')\n",
    "    :param metric_col: Name of the metric column (e.g. 'f1' or 'training_time')\n",
    "    :param agg_func: 'mean' or 'median' or any valid agg function for groupby\n",
    "    :return: A new DataFrame with columns [dataset_col, framework_col, metric_col] in aggregated form.\n",
    "    \"\"\"\n",
    "    grouped = df.dropna(subset=[metric_col]).groupby([dataset_col, framework_col], as_index=False)[metric_col].agg(agg_func)\n",
    "    grouped.rename(columns={metric_col: f'{metric_col}_{agg_func}'}, inplace=True)\n",
    "    return grouped"
   ]
  },
  {
   "cell_type": "code",
   "execution_count": 6,
   "id": "372b384d-743c-4b49-8774-5989429c055d",
   "metadata": {
    "editable": true,
    "execution": {
     "iopub.execute_input": "2025-02-15T07:23:04.711423Z",
     "iopub.status.busy": "2025-02-15T07:23:04.711423Z",
     "iopub.status.idle": "2025-02-15T07:23:05.249959Z",
     "shell.execute_reply": "2025-02-15T07:23:05.249959Z"
    },
    "papermill": {
     "duration": 0.544535,
     "end_time": "2025-02-15T07:23:05.251959",
     "exception": false,
     "start_time": "2025-02-15T07:23:04.707424",
     "status": "completed"
    },
    "slideshow": {
     "slide_type": ""
    },
    "tags": []
   },
   "outputs": [],
   "source": [
    "from pingouin import rm_anova, sphericity\n",
    "from scipy.stats import friedmanchisquare\n",
    "import numpy as np\n",
    "\n",
    "def decide_test_and_run(df_agg, dataset_col='dataset', framework_col='framework', metric_col='f1_mean'):\n",
    "    \"\"\"\n",
    "    Decide whether to do repeated-measures ANOVA or Friedman, \n",
    "    run the test, and return the results.\n",
    "\n",
    "    Steps:\n",
    "      1) Drop rows with NaN in the metric (so each dataset-framework is valid).\n",
    "      2) Avoid pivoting unless needed for the test.\n",
    "      3) If sphericity is okay, try repeated-measures ANOVA. Otherwise, use Friedman.\n",
    "    \"\"\"\n",
    "    # 1) Rename columns for pingouin usage: subject=dataset, within=framework, dv=metric\n",
    "    df_long = df_agg.rename(columns={\n",
    "        dataset_col: 'subject',\n",
    "        framework_col: 'within',\n",
    "        metric_col: 'dv'\n",
    "    }).copy()\n",
    "    df_long.to_csv('long_1.csv')\n",
    "    \n",
    "    df_long.dropna(subset=['dv'], inplace=True)  # Drop missing metric values\n",
    "    df_long.to_csv('long_2.csv')\n",
    "\n",
    "    # 🚀 **Check if we have enough frameworks & subjects before pivoting**\n",
    "    frameworks = df_long['within'].nunique()\n",
    "    subjects = df_long['subject'].nunique()\n",
    "    \n",
    "    if frameworks < 2 or subjects < 2:\n",
    "        return {'method': 'Not enough data'}\n",
    "\n",
    "    # 🚀 **Check sphericity before pivoting**\n",
    "    try:\n",
    "        W, p_spher = sphericity(df_long, dv='dv', subject='subject', within='within')\n",
    "    except Exception:\n",
    "        p_spher = 0.0  # force fallback to Friedman\n",
    "    \n",
    "    if p_spher > alpha:\n",
    "        # 🚀 **Use long format directly for rm_anova (no pivot needed!)**\n",
    "        try:\n",
    "            aov = rm_anova(\n",
    "                data=df_long, \n",
    "                dv='dv', \n",
    "                within='within', \n",
    "                subject='subject', \n",
    "                detailed=True\n",
    "            )\n",
    "            pval_anova = aov.loc[0, 'p-GG-corr'] if 'p-GG-corr' in aov.columns else aov.loc[0, 'p-unc']\n",
    "            \n",
    "            return {\n",
    "                'method': 'Repeated-Measures ANOVA',\n",
    "                'anova_table': aov,\n",
    "                'pval_anova': pval_anova\n",
    "            }\n",
    "        except Exception:\n",
    "            pass  # If ANOVA fails, fallback to Friedman\n",
    "\n",
    "    # 🚀 **Extract Data for Friedman Test Without Pivoting**\n",
    "    grouped = df_long.groupby('within')['dv'].apply(list)\n",
    "    grouped.to_csv('grouped_1.csv')\n",
    "\n",
    "    # 🚀 **Ensure each framework has at least 3 subjects**\n",
    "    valid_frameworks = grouped[grouped.apply(len) >= 3]  # Keep only frameworks with 3+ subjects\n",
    "    \n",
    "    # 🚀 **Check if we still have enough frameworks to run Friedman**\n",
    "    if len(valid_frameworks) < 2:\n",
    "        return {'method': 'Not enough data'}\n",
    "    \n",
    "    # 🚀 **Equalize sample sizes by padding with NaNs**\n",
    "    max_len = max(valid_frameworks.apply(len))\n",
    "    padded_data = valid_frameworks.apply(lambda x: np.pad(x, (0, max_len - len(x)), constant_values=np.nan))\n",
    "    padded_data.to_csv('grouped_2.csv')\n",
    "    \n",
    "    # 🚀 **Run Friedman Test with `nan_policy='omit'`**\n",
    "    data_arrays = [padded_data[fw] for fw in padded_data.index]\n",
    "    fried_stat, fried_p = friedmanchisquare(*data_arrays, nan_policy='omit')\n",
    "\n",
    "    return {\n",
    "        'method': 'Friedman',\n",
    "        'friedman_stat': fried_stat,\n",
    "        'friedman_p': fried_p\n",
    "    }"
   ]
  },
  {
   "cell_type": "code",
   "execution_count": 7,
   "id": "37d112c0-a08f-47b7-ad9f-8017695d69ae",
   "metadata": {
    "execution": {
     "iopub.execute_input": "2025-02-15T07:23:05.259471Z",
     "iopub.status.busy": "2025-02-15T07:23:05.259471Z",
     "iopub.status.idle": "2025-02-15T07:23:05.296369Z",
     "shell.execute_reply": "2025-02-15T07:23:05.296369Z"
    },
    "papermill": {
     "duration": 0.04341,
     "end_time": "2025-02-15T07:23:05.298368",
     "exception": false,
     "start_time": "2025-02-15T07:23:05.254958",
     "status": "completed"
    },
    "tags": []
   },
   "outputs": [],
   "source": [
    "import scikit_posthocs as sp\n",
    "\n",
    "def posthoc_friedman(df_agg, dataset_col='dataset', framework_col='framework', metric_col='f1_mean', method='nemenyi'):\n",
    "    \"\"\"\n",
    "    df_agg has columns [dataset, framework, metric_col]\n",
    "    Returns a post-hoc matrix of p-values.\n",
    "    \"\"\"\n",
    "    # pivot to wide\n",
    "    pivoted = df_agg.pivot(index=dataset_col, columns=framework_col, values=metric_col)\n",
    "    # we can use the Nemenyi approach from scikit-posthocs\n",
    "    if method == 'nemenyi':\n",
    "        ph = sp.posthoc_nemenyi_friedman(pivoted)\n",
    "    elif method == 'conover':\n",
    "        ph = sp.posthoc_conover_friedman(pivoted)\n",
    "    else:\n",
    "        ph = None\n",
    "    return ph"
   ]
  },
  {
   "cell_type": "code",
   "execution_count": 8,
   "id": "7dfeffd1-578b-4892-a97e-a8eb30625d43",
   "metadata": {
    "execution": {
     "iopub.execute_input": "2025-02-15T07:23:05.305369Z",
     "iopub.status.busy": "2025-02-15T07:23:05.305369Z",
     "iopub.status.idle": "2025-02-15T07:23:05.312037Z",
     "shell.execute_reply": "2025-02-15T07:23:05.311539Z"
    },
    "papermill": {
     "duration": 0.011672,
     "end_time": "2025-02-15T07:23:05.313042",
     "exception": false,
     "start_time": "2025-02-15T07:23:05.301370",
     "status": "completed"
    },
    "tags": []
   },
   "outputs": [],
   "source": [
    "from pingouin import pairwise_tests\n",
    "\n",
    "def posthoc_rm_anova(df_agg, dataset_col='dataset', framework_col='framework', metric_col='f1_mean'):\n",
    "    \"\"\"\n",
    "    Pairwise comparisons with correction after repeated-measures ANOVA.\n",
    "    \"\"\"\n",
    "    df_long = df_agg.rename(columns={\n",
    "        dataset_col: 'subject',\n",
    "        framework_col: 'within',\n",
    "        metric_col: 'dv'\n",
    "    })\n",
    "    # pairwise_tests from pingouin\n",
    "    result = pairwise_tests(\n",
    "        data=df_long, \n",
    "        dv='dv', \n",
    "        within='within', \n",
    "        subject='subject', \n",
    "        padjust='holm'  # or 'bonferroni', 'fdr_bh', etc.\n",
    "    )\n",
    "    return result"
   ]
  },
  {
   "cell_type": "code",
   "execution_count": 9,
   "id": "27d8c26f-1e59-4d78-92c9-d3d0f4aad028",
   "metadata": {
    "execution": {
     "iopub.execute_input": "2025-02-15T07:23:05.320042Z",
     "iopub.status.busy": "2025-02-15T07:23:05.320042Z",
     "iopub.status.idle": "2025-02-15T07:23:05.326669Z",
     "shell.execute_reply": "2025-02-15T07:23:05.326669Z"
    },
    "papermill": {
     "duration": 0.011626,
     "end_time": "2025-02-15T07:23:05.327669",
     "exception": false,
     "start_time": "2025-02-15T07:23:05.316043",
     "status": "completed"
    },
    "tags": []
   },
   "outputs": [],
   "source": [
    "import os\n",
    "\n",
    "def plot_average_ranks(avg_ranks, title, save_path):\n",
    "    fig, ax = plt.subplots()\n",
    "    avg_ranks.plot(kind='barh', ax=ax)\n",
    "    ax.set_ylabel(\"Framework\")\n",
    "    ax.set_xlabel(\"Average Rank (Lower is Better)\")\n",
    "    ax.set_title(title)\n",
    "    plt.tight_layout()\n",
    "\n",
    "    # Ensure save directory exists\n",
    "    os.makedirs(os.path.dirname(save_path), exist_ok=True)\n",
    "    \n",
    "    # Save the plot\n",
    "    plt.savefig(save_path, dpi=300)\n",
    "    plt.show()"
   ]
  },
  {
   "cell_type": "markdown",
   "id": "5b43281e-0ca9-4b1a-8101-6e452837ce6f",
   "metadata": {
    "papermill": {
     "duration": 0.004002,
     "end_time": "2025-02-15T07:23:05.334672",
     "exception": false,
     "start_time": "2025-02-15T07:23:05.330670",
     "status": "completed"
    },
    "tags": []
   },
   "source": [
    "# Example Putting It All Together"
   ]
  },
  {
   "cell_type": "code",
   "execution_count": 10,
   "id": "b65e2dd8-46e1-412e-a8c2-50053b0ffd45",
   "metadata": {
    "execution": {
     "iopub.execute_input": "2025-02-15T07:23:05.340672Z",
     "iopub.status.busy": "2025-02-15T07:23:05.340672Z",
     "iopub.status.idle": "2025-02-15T07:23:05.358994Z",
     "shell.execute_reply": "2025-02-15T07:23:05.357980Z"
    },
    "papermill": {
     "duration": 0.023321,
     "end_time": "2025-02-15T07:23:05.359994",
     "exception": false,
     "start_time": "2025-02-15T07:23:05.336673",
     "status": "completed"
    },
    "tags": []
   },
   "outputs": [],
   "source": [
    "def across_datasets_analysis(df, dataset_col='dataset', framework_col='framework', metric_col='f1', agg_func='mean'):\n",
    "    \"\"\"\n",
    "    1) Aggregate trials into one metric per (dataset, framework)\n",
    "    2) Decide repeated-measures ANOVA or Friedman\n",
    "    3) If significant, do the relevant post-hoc\n",
    "    4) Optionally compute average ranks (Friedman) or show post-hoc results\n",
    "    5) Possibly produce bar chart or CD diagram\n",
    "    \"\"\"\n",
    "    # 1) Aggregate\n",
    "    df_agg = aggregate_metric_per_dataset(df, dataset_col, framework_col, metric_col, agg_func=agg_func)\n",
    "    new_col_name = f\"{metric_col}_{agg_func}\"\n",
    "    \n",
    "    # Remove frameworks with missing values\n",
    "    df_agg = df_agg.dropna(axis='index', subset=[new_col_name])\n",
    "    \n",
    "    # 2) Decide test\n",
    "    test_res = decide_test_and_run(df_agg, dataset_col, framework_col, new_col_name)\n",
    "    method = test_res['method']\n",
    "    \n",
    "    if method == 'Repeated-Measures ANOVA':\n",
    "        pval_anova = test_res['pval_anova']\n",
    "        print(\"Repeated-Measures ANOVA p-value:\", pval_anova)\n",
    "        if pval_anova < alpha:\n",
    "            print(\"Significant differences => post-hoc pairwise tests\")\n",
    "            posthoc_res = posthoc_rm_anova(df_agg, dataset_col, framework_col, new_col_name)\n",
    "            return {\n",
    "                'method': method,\n",
    "                'anova_result': test_res['anova_table'],\n",
    "                'posthoc': posthoc_res\n",
    "            }\n",
    "        else:\n",
    "            print(\"No significant difference among frameworks (p >= alpha).\")\n",
    "            return test_res\n",
    "    \n",
    "    elif method == 'Friedman':\n",
    "        friedman_p = test_res['friedman_p']\n",
    "        print(\"Friedman p-value:\", friedman_p)\n",
    "        if friedman_p < alpha:\n",
    "            print(\"Significant => do Nemenyi or Conover post-hoc\")\n",
    "            ph = posthoc_friedman(df_agg, dataset_col, framework_col, new_col_name, method='nemenyi')\n",
    "            # Example: also compute average ranks\n",
    "            pivoted = df_agg.pivot(index=dataset_col, columns=framework_col, values=new_col_name)\n",
    "            ascending_order = metric_col == 'training_time'  # True for time, False for F1\n",
    "            ranks = pivoted.rank(axis=1, method='average', ascending=ascending_order)\n",
    "            avg_ranks = ranks.mean(axis=0).sort_values()\n",
    "            \n",
    "            return {\n",
    "                'method': method,\n",
    "                'friedman_stat': test_res['friedman_stat'],\n",
    "                'friedman_p': friedman_p,\n",
    "                'posthoc': ph,\n",
    "                'avg_ranks': avg_ranks\n",
    "            }\n",
    "        else:\n",
    "            print(\"No significant difference among frameworks (p >= alpha).\")\n",
    "            return test_res\n",
    "    else:\n",
    "        print(\"Not enough data or sphericity test/ANOVA failed.\")\n",
    "        return test_res"
   ]
  },
  {
   "cell_type": "code",
   "execution_count": 11,
   "id": "087e3e77-3afe-42a1-a6bb-a7653750f3ae",
   "metadata": {
    "execution": {
     "iopub.execute_input": "2025-02-15T07:23:05.367593Z",
     "iopub.status.busy": "2025-02-15T07:23:05.367593Z",
     "iopub.status.idle": "2025-02-15T07:23:05.373896Z",
     "shell.execute_reply": "2025-02-15T07:23:05.373896Z"
    },
    "papermill": {
     "duration": 0.012461,
     "end_time": "2025-02-15T07:23:05.375896",
     "exception": false,
     "start_time": "2025-02-15T07:23:05.363435",
     "status": "completed"
    },
    "tags": []
   },
   "outputs": [],
   "source": [
    "def print_formatted_result(k, v):\n",
    "    if k == 'posthoc':\n",
    "        print(f'  {k}:')\n",
    "        display(v)\n",
    "    elif k == 'avg_ranks':\n",
    "        print(f'  {k}:')\n",
    "        display(v.to_frame(name='avg_rank'))\n",
    "    else:\n",
    "        print(f\"  {k}: {v}\")"
   ]
  },
  {
   "cell_type": "code",
   "execution_count": 12,
   "id": "ceef9e23-d02e-4f61-a132-3010d4519f24",
   "metadata": {
    "execution": {
     "iopub.execute_input": "2025-02-15T07:23:05.382897Z",
     "iopub.status.busy": "2025-02-15T07:23:05.382897Z",
     "iopub.status.idle": "2025-02-15T07:23:05.389895Z",
     "shell.execute_reply": "2025-02-15T07:23:05.389895Z"
    },
    "papermill": {
     "duration": 0.012999,
     "end_time": "2025-02-15T07:23:05.391896",
     "exception": false,
     "start_time": "2025-02-15T07:23:05.378897",
     "status": "completed"
    },
    "tags": []
   },
   "outputs": [],
   "source": [
    "# ========================\n",
    "# ====== MAIN CALL =======\n",
    "# ========================\n",
    "\n",
    "# Example CSV structure: dataset, framework, trial, f1, training_time\n",
    "# e.g., \"31,autogluon,1,0.6949,8.6927\"\n",
    "df = pd.read_csv(f\"stats/{scenario}/experimental_results.csv\")\n",
    "df = df.rename(columns={\n",
    "    'Dataset': 'dataset', \n",
    "    'Dataset Type': 'type', \n",
    "    'Framework': 'framework', \n",
    "    'Trial': 'trial', \n",
    "    'F1 Score': 'f1', \n",
    "    'Training Time': 'training_time'}\n",
    ")"
   ]
  },
  {
   "cell_type": "code",
   "execution_count": 13,
   "id": "61adaee8-4763-4c4d-a050-36701ec1247d",
   "metadata": {
    "execution": {
     "iopub.execute_input": "2025-02-15T07:23:05.399897Z",
     "iopub.status.busy": "2025-02-15T07:23:05.398897Z",
     "iopub.status.idle": "2025-02-15T07:23:05.469416Z",
     "shell.execute_reply": "2025-02-15T07:23:05.468415Z"
    },
    "papermill": {
     "duration": 0.075524,
     "end_time": "2025-02-15T07:23:05.470419",
     "exception": false,
     "start_time": "2025-02-15T07:23:05.394895",
     "status": "completed"
    },
    "scrolled": true,
    "tags": []
   },
   "outputs": [
    {
     "name": "stdout",
     "output_type": "stream",
     "text": [
      "Friedman p-value: 0.002905152774267437\n",
      "Significant => do Nemenyi or Conover post-hoc\n",
      "\n",
      "F1 Analysis:\n",
      "  method: Friedman\n",
      "  friedman_stat: 14.0\n",
      "  friedman_p: 0.002905152774267437\n",
      "  posthoc:\n"
     ]
    },
    {
     "data": {
      "text/html": [
       "<div>\n",
       "<style scoped>\n",
       "    .dataframe tbody tr th:only-of-type {\n",
       "        vertical-align: middle;\n",
       "    }\n",
       "\n",
       "    .dataframe tbody tr th {\n",
       "        vertical-align: top;\n",
       "    }\n",
       "\n",
       "    .dataframe thead th {\n",
       "        text-align: right;\n",
       "    }\n",
       "</style>\n",
       "<table border=\"1\" class=\"dataframe\">\n",
       "  <thead>\n",
       "    <tr style=\"text-align: right;\">\n",
       "      <th></th>\n",
       "      <th>autogluon</th>\n",
       "      <th>autokeras</th>\n",
       "      <th>autosklearn</th>\n",
       "      <th>fedot</th>\n",
       "    </tr>\n",
       "  </thead>\n",
       "  <tbody>\n",
       "    <tr>\n",
       "      <th>autogluon</th>\n",
       "      <td>1.000000</td>\n",
       "      <td>0.468608</td>\n",
       "      <td>0.000486</td>\n",
       "      <td>0.120947</td>\n",
       "    </tr>\n",
       "    <tr>\n",
       "      <th>autokeras</th>\n",
       "      <td>0.468608</td>\n",
       "      <td>1.000000</td>\n",
       "      <td>0.062368</td>\n",
       "      <td>0.872798</td>\n",
       "    </tr>\n",
       "    <tr>\n",
       "      <th>autosklearn</th>\n",
       "      <td>0.000486</td>\n",
       "      <td>0.062368</td>\n",
       "      <td>1.000000</td>\n",
       "      <td>0.310489</td>\n",
       "    </tr>\n",
       "    <tr>\n",
       "      <th>fedot</th>\n",
       "      <td>0.120947</td>\n",
       "      <td>0.872798</td>\n",
       "      <td>0.310489</td>\n",
       "      <td>1.000000</td>\n",
       "    </tr>\n",
       "  </tbody>\n",
       "</table>\n",
       "</div>"
      ],
      "text/plain": [
       "             autogluon  autokeras  autosklearn     fedot\n",
       "autogluon     1.000000   0.468608     0.000486  0.120947\n",
       "autokeras     0.468608   1.000000     0.062368  0.872798\n",
       "autosklearn   0.000486   0.062368     1.000000  0.310489\n",
       "fedot         0.120947   0.872798     0.310489  1.000000"
      ]
     },
     "metadata": {},
     "output_type": "display_data"
    },
    {
     "name": "stdout",
     "output_type": "stream",
     "text": [
      "  avg_ranks:\n"
     ]
    },
    {
     "data": {
      "text/html": [
       "<div>\n",
       "<style scoped>\n",
       "    .dataframe tbody tr th:only-of-type {\n",
       "        vertical-align: middle;\n",
       "    }\n",
       "\n",
       "    .dataframe tbody tr th {\n",
       "        vertical-align: top;\n",
       "    }\n",
       "\n",
       "    .dataframe thead th {\n",
       "        text-align: right;\n",
       "    }\n",
       "</style>\n",
       "<table border=\"1\" class=\"dataframe\">\n",
       "  <thead>\n",
       "    <tr style=\"text-align: right;\">\n",
       "      <th></th>\n",
       "      <th>avg_rank</th>\n",
       "    </tr>\n",
       "    <tr>\n",
       "      <th>framework</th>\n",
       "      <th></th>\n",
       "    </tr>\n",
       "  </thead>\n",
       "  <tbody>\n",
       "    <tr>\n",
       "      <th>autosklearn</th>\n",
       "      <td>1.000000</td>\n",
       "    </tr>\n",
       "    <tr>\n",
       "      <th>fedot</th>\n",
       "      <td>2.333333</td>\n",
       "    </tr>\n",
       "    <tr>\n",
       "      <th>autokeras</th>\n",
       "      <td>2.714286</td>\n",
       "    </tr>\n",
       "    <tr>\n",
       "      <th>autogluon</th>\n",
       "      <td>3.714286</td>\n",
       "    </tr>\n",
       "  </tbody>\n",
       "</table>\n",
       "</div>"
      ],
      "text/plain": [
       "             avg_rank\n",
       "framework            \n",
       "autosklearn  1.000000\n",
       "fedot        2.333333\n",
       "autokeras    2.714286\n",
       "autogluon    3.714286"
      ]
     },
     "metadata": {},
     "output_type": "display_data"
    }
   ],
   "source": [
    "res_f1 = across_datasets_analysis(df, metric_col='f1', agg_func='mean')\n",
    "\n",
    "print(\"\\nF1 Analysis:\")\n",
    "for k, v in res_f1.items():\n",
    "    print_formatted_result(k, v)"
   ]
  },
  {
   "cell_type": "code",
   "execution_count": 14,
   "id": "18e743af-47ff-4556-bcdf-8f19b55ca3c9",
   "metadata": {
    "execution": {
     "iopub.execute_input": "2025-02-15T07:23:05.478415Z",
     "iopub.status.busy": "2025-02-15T07:23:05.478415Z",
     "iopub.status.idle": "2025-02-15T07:23:05.501415Z",
     "shell.execute_reply": "2025-02-15T07:23:05.500415Z"
    },
    "papermill": {
     "duration": 0.028997,
     "end_time": "2025-02-15T07:23:05.502415",
     "exception": false,
     "start_time": "2025-02-15T07:23:05.473418",
     "status": "completed"
    },
    "tags": []
   },
   "outputs": [
    {
     "data": {
      "text/html": [
       "<div>\n",
       "<style scoped>\n",
       "    .dataframe tbody tr th:only-of-type {\n",
       "        vertical-align: middle;\n",
       "    }\n",
       "\n",
       "    .dataframe tbody tr th {\n",
       "        vertical-align: top;\n",
       "    }\n",
       "\n",
       "    .dataframe thead th {\n",
       "        text-align: right;\n",
       "    }\n",
       "</style>\n",
       "<table border=\"1\" class=\"dataframe\">\n",
       "  <thead>\n",
       "    <tr style=\"text-align: right;\">\n",
       "      <th></th>\n",
       "      <th>method</th>\n",
       "      <th>friedman_stat</th>\n",
       "      <th>friedman_p</th>\n",
       "      <th>significant</th>\n",
       "    </tr>\n",
       "  </thead>\n",
       "  <tbody>\n",
       "    <tr>\n",
       "      <th>0</th>\n",
       "      <td>Friedman</td>\n",
       "      <td>14.0</td>\n",
       "      <td>0.002905</td>\n",
       "      <td>True</td>\n",
       "    </tr>\n",
       "  </tbody>\n",
       "</table>\n",
       "</div>"
      ],
      "text/plain": [
       "     method friedman_stat friedman_p  significant\n",
       "0  Friedman          14.0   0.002905         True"
      ]
     },
     "execution_count": 14,
     "metadata": {},
     "output_type": "execute_result"
    }
   ],
   "source": [
    "undesired_columns = ['posthoc', 'avg_ranks']\n",
    "\n",
    "res_f1_filtered = {k: v if k not in undesired_columns else None for k,v in res_f1.items()}\n",
    "\n",
    "res_f1_df = pd.DataFrame.from_dict(res_f1_filtered, orient='index').T.drop(columns=undesired_columns)\n",
    "res_f1_df['significant'] = res_f1_df['friedman_p'] < alpha\n",
    "\n",
    "res_f1_df.to_csv(f\"stats/{scenario}/step_2_across_datasets_stat_results_f1.csv\")\n",
    "res_f1_df"
   ]
  },
  {
   "cell_type": "code",
   "execution_count": 15,
   "id": "823b959c-f523-4d58-8fcf-12011aedfac1",
   "metadata": {
    "execution": {
     "iopub.execute_input": "2025-02-15T07:23:05.511416Z",
     "iopub.status.busy": "2025-02-15T07:23:05.510415Z",
     "iopub.status.idle": "2025-02-15T07:23:05.769966Z",
     "shell.execute_reply": "2025-02-15T07:23:05.769966Z"
    },
    "papermill": {
     "duration": 0.264566,
     "end_time": "2025-02-15T07:23:05.770983",
     "exception": false,
     "start_time": "2025-02-15T07:23:05.506417",
     "status": "completed"
    },
    "scrolled": true,
    "tags": []
   },
   "outputs": [
    {
     "data": {
      "image/png": "[encoded data removed]",
      "text/plain": [
       "<Figure size 640x480 with 1 Axes>"
      ]
     },
     "metadata": {},
     "output_type": "display_data"
    }
   ],
   "source": [
    "plot_average_ranks(\n",
    "    res_f1['avg_ranks'],\n",
    "    \"Frameworks Average Ranks across Datasets (F1 Score)\",\n",
    "    save_path=f\"stats/{scenario}/step_2_across_datasets_avg_ranks_f1.png\"\n",
    ")"
   ]
  },
  {
   "cell_type": "code",
   "execution_count": 16,
   "id": "a14d819e-0eb8-45ab-bef3-f28969986f91",
   "metadata": {
    "execution": {
     "iopub.execute_input": "2025-02-15T07:23:05.779980Z",
     "iopub.status.busy": "2025-02-15T07:23:05.779980Z",
     "iopub.status.idle": "2025-02-15T07:23:06.071126Z",
     "shell.execute_reply": "2025-02-15T07:23:06.071126Z"
    },
    "papermill": {
     "duration": 0.298166,
     "end_time": "2025-02-15T07:23:06.073145",
     "exception": false,
     "start_time": "2025-02-15T07:23:05.774979",
     "status": "completed"
    },
    "tags": []
   },
   "outputs": [
    {
     "data": {
      "image/png": "[encoded data removed]",
      "text/plain": [
       "<Figure size 1000x400 with 1 Axes>"
      ]
     },
     "metadata": {},
     "output_type": "display_data"
    }
   ],
   "source": [
    "# https://scikit-posthocs.readthedocs.io/en/latest/generated/scikit_posthocs.critical_difference_diagram.html\n",
    "plt.figure(figsize=(10, 4))\n",
    "plt.title('Critical Difference Diagram of Average Ranks (F1 Score)')\n",
    "sp.critical_difference_diagram(ranks=res_f1['avg_ranks'], sig_matrix=res_f1['posthoc'])\n",
    "plt.tight_layout()\n",
    "plt.savefig(f\"stats/{scenario}/step_2_across_datasets_cd_diagram_f1.png\", dpi=300)"
   ]
  },
  {
   "cell_type": "code",
   "execution_count": 17,
   "id": "9998f425-1aa0-4598-8b11-947fe0445fc3",
   "metadata": {
    "execution": {
     "iopub.execute_input": "2025-02-15T07:23:06.082144Z",
     "iopub.status.busy": "2025-02-15T07:23:06.082144Z",
     "iopub.status.idle": "2025-02-15T07:23:06.118142Z",
     "shell.execute_reply": "2025-02-15T07:23:06.118142Z"
    },
    "papermill": {
     "duration": 0.042998,
     "end_time": "2025-02-15T07:23:06.120141",
     "exception": false,
     "start_time": "2025-02-15T07:23:06.077143",
     "status": "completed"
    },
    "scrolled": true,
    "tags": []
   },
   "outputs": [
    {
     "name": "stdout",
     "output_type": "stream",
     "text": [
      "Friedman p-value: 0.0009387420550450392\n",
      "Significant => do Nemenyi or Conover post-hoc\n",
      "\n",
      "Time Analysis:\n",
      "  method: Friedman\n",
      "  friedman_stat: 16.400000000000006\n",
      "  friedman_p: 0.0009387420550450392\n",
      "  posthoc:\n"
     ]
    },
    {
     "data": {
      "text/html": [
       "<div>\n",
       "<style scoped>\n",
       "    .dataframe tbody tr th:only-of-type {\n",
       "        vertical-align: middle;\n",
       "    }\n",
       "\n",
       "    .dataframe tbody tr th {\n",
       "        vertical-align: top;\n",
       "    }\n",
       "\n",
       "    .dataframe thead th {\n",
       "        text-align: right;\n",
       "    }\n",
       "</style>\n",
       "<table border=\"1\" class=\"dataframe\">\n",
       "  <thead>\n",
       "    <tr style=\"text-align: right;\">\n",
       "      <th></th>\n",
       "      <th>autogluon</th>\n",
       "      <th>autokeras</th>\n",
       "      <th>autosklearn</th>\n",
       "      <th>fedot</th>\n",
       "    </tr>\n",
       "  </thead>\n",
       "  <tbody>\n",
       "    <tr>\n",
       "      <th>autogluon</th>\n",
       "      <td>1.000000</td>\n",
       "      <td>0.841171</td>\n",
       "      <td>0.468608</td>\n",
       "      <td>0.010262</td>\n",
       "    </tr>\n",
       "    <tr>\n",
       "      <th>autokeras</th>\n",
       "      <td>0.841171</td>\n",
       "      <td>1.000000</td>\n",
       "      <td>0.103343</td>\n",
       "      <td>0.000486</td>\n",
       "    </tr>\n",
       "    <tr>\n",
       "      <th>autosklearn</th>\n",
       "      <td>0.468608</td>\n",
       "      <td>0.103343</td>\n",
       "      <td>1.000000</td>\n",
       "      <td>0.347174</td>\n",
       "    </tr>\n",
       "    <tr>\n",
       "      <th>fedot</th>\n",
       "      <td>0.010262</td>\n",
       "      <td>0.000486</td>\n",
       "      <td>0.347174</td>\n",
       "      <td>1.000000</td>\n",
       "    </tr>\n",
       "  </tbody>\n",
       "</table>\n",
       "</div>"
      ],
      "text/plain": [
       "             autogluon  autokeras  autosklearn     fedot\n",
       "autogluon     1.000000   0.841171     0.468608  0.010262\n",
       "autokeras     0.841171   1.000000     0.103343  0.000486\n",
       "autosklearn   0.468608   0.103343     1.000000  0.347174\n",
       "fedot         0.010262   0.000486     0.347174  1.000000"
      ]
     },
     "metadata": {},
     "output_type": "display_data"
    },
    {
     "name": "stdout",
     "output_type": "stream",
     "text": [
      "  avg_ranks:\n"
     ]
    },
    {
     "data": {
      "text/html": [
       "<div>\n",
       "<style scoped>\n",
       "    .dataframe tbody tr th:only-of-type {\n",
       "        vertical-align: middle;\n",
       "    }\n",
       "\n",
       "    .dataframe tbody tr th {\n",
       "        vertical-align: top;\n",
       "    }\n",
       "\n",
       "    .dataframe thead th {\n",
       "        text-align: right;\n",
       "    }\n",
       "</style>\n",
       "<table border=\"1\" class=\"dataframe\">\n",
       "  <thead>\n",
       "    <tr style=\"text-align: right;\">\n",
       "      <th></th>\n",
       "      <th>avg_rank</th>\n",
       "    </tr>\n",
       "    <tr>\n",
       "      <th>framework</th>\n",
       "      <th></th>\n",
       "    </tr>\n",
       "  </thead>\n",
       "  <tbody>\n",
       "    <tr>\n",
       "      <th>autokeras</th>\n",
       "      <td>1.285714</td>\n",
       "    </tr>\n",
       "    <tr>\n",
       "      <th>autogluon</th>\n",
       "      <td>1.857143</td>\n",
       "    </tr>\n",
       "    <tr>\n",
       "      <th>autosklearn</th>\n",
       "      <td>2.857143</td>\n",
       "    </tr>\n",
       "    <tr>\n",
       "      <th>fedot</th>\n",
       "      <td>4.000000</td>\n",
       "    </tr>\n",
       "  </tbody>\n",
       "</table>\n",
       "</div>"
      ],
      "text/plain": [
       "             avg_rank\n",
       "framework            \n",
       "autokeras    1.285714\n",
       "autogluon    1.857143\n",
       "autosklearn  2.857143\n",
       "fedot        4.000000"
      ]
     },
     "metadata": {},
     "output_type": "display_data"
    }
   ],
   "source": [
    "res_time = across_datasets_analysis(df, metric_col='training_time', agg_func='median')\n",
    "\n",
    "print(\"\\nTime Analysis:\")\n",
    "for k, v in res_time.items():\n",
    "    print_formatted_result(k, v)"
   ]
  },
  {
   "cell_type": "code",
   "execution_count": 18,
   "id": "f0961e61-7a08-4cd3-8a54-891a23a8d0bf",
   "metadata": {
    "execution": {
     "iopub.execute_input": "2025-02-15T07:23:06.129142Z",
     "iopub.status.busy": "2025-02-15T07:23:06.128142Z",
     "iopub.status.idle": "2025-02-15T07:23:06.150145Z",
     "shell.execute_reply": "2025-02-15T07:23:06.150145Z"
    },
    "papermill": {
     "duration": 0.028004,
     "end_time": "2025-02-15T07:23:06.152147",
     "exception": false,
     "start_time": "2025-02-15T07:23:06.124143",
     "status": "completed"
    },
    "tags": []
   },
   "outputs": [
    {
     "data": {
      "text/html": [
       "<div>\n",
       "<style scoped>\n",
       "    .dataframe tbody tr th:only-of-type {\n",
       "        vertical-align: middle;\n",
       "    }\n",
       "\n",
       "    .dataframe tbody tr th {\n",
       "        vertical-align: top;\n",
       "    }\n",
       "\n",
       "    .dataframe thead th {\n",
       "        text-align: right;\n",
       "    }\n",
       "</style>\n",
       "<table border=\"1\" class=\"dataframe\">\n",
       "  <thead>\n",
       "    <tr style=\"text-align: right;\">\n",
       "      <th></th>\n",
       "      <th>method</th>\n",
       "      <th>friedman_stat</th>\n",
       "      <th>friedman_p</th>\n",
       "      <th>significant</th>\n",
       "    </tr>\n",
       "  </thead>\n",
       "  <tbody>\n",
       "    <tr>\n",
       "      <th>0</th>\n",
       "      <td>Friedman</td>\n",
       "      <td>16.4</td>\n",
       "      <td>0.000939</td>\n",
       "      <td>True</td>\n",
       "    </tr>\n",
       "  </tbody>\n",
       "</table>\n",
       "</div>"
      ],
      "text/plain": [
       "     method friedman_stat friedman_p  significant\n",
       "0  Friedman          16.4   0.000939         True"
      ]
     },
     "execution_count": 18,
     "metadata": {},
     "output_type": "execute_result"
    }
   ],
   "source": [
    "undesired_columns = ['posthoc', 'avg_ranks']\n",
    "\n",
    "res_time_filtered = {k: v if k not in undesired_columns else None for k,v in res_time.items()}\n",
    "\n",
    "res_time_df = pd.DataFrame.from_dict(res_time_filtered, orient='index').T.drop(columns=undesired_columns)\n",
    "res_time_df['significant'] = res_time_df['friedman_p'] < alpha\n",
    "\n",
    "res_time_df.to_csv(f\"stats/{scenario}/step_2_across_datasets_stat_results_time.csv\")\n",
    "res_time_df"
   ]
  },
  {
   "cell_type": "code",
   "execution_count": 19,
   "id": "8cf595e5-475c-4999-95e5-ad55d442d626",
   "metadata": {
    "execution": {
     "iopub.execute_input": "2025-02-15T07:23:06.161658Z",
     "iopub.status.busy": "2025-02-15T07:23:06.160658Z",
     "iopub.status.idle": "2025-02-15T07:23:06.404469Z",
     "shell.execute_reply": "2025-02-15T07:23:06.404469Z"
    },
    "papermill": {
     "duration": 0.250324,
     "end_time": "2025-02-15T07:23:06.406469",
     "exception": false,
     "start_time": "2025-02-15T07:23:06.156145",
     "status": "completed"
    },
    "tags": []
   },
   "outputs": [
    {
     "data": {
      "image/png": "[encoded data removed]",
      "text/plain": [
       "<Figure size 640x480 with 1 Axes>"
      ]
     },
     "metadata": {},
     "output_type": "display_data"
    }
   ],
   "source": [
    "plot_average_ranks(\n",
    "    res_time['avg_ranks'],\n",
    "    \"Frameworks Average Ranks across Datasets (Training Time)\",\n",
    "    save_path=f\"stats/{scenario}/step_2_across_datasets_avg_ranks_time.png\"\n",
    ")"
   ]
  },
  {
   "cell_type": "code",
   "execution_count": 20,
   "id": "fa84eb0f-0e0d-4eed-ae9a-eb31f3114abc",
   "metadata": {
    "execution": {
     "iopub.execute_input": "2025-02-15T07:23:06.418469Z",
     "iopub.status.busy": "2025-02-15T07:23:06.417469Z",
     "iopub.status.idle": "2025-02-15T07:23:06.722015Z",
     "shell.execute_reply": "2025-02-15T07:23:06.722015Z"
    },
    "papermill": {
     "duration": 0.312549,
     "end_time": "2025-02-15T07:23:06.724018",
     "exception": false,
     "start_time": "2025-02-15T07:23:06.411469",
     "status": "completed"
    },
    "scrolled": true,
    "tags": []
   },
   "outputs": [
    {
     "data": {
      "image/png": "[encoded data removed]",
      "text/plain": [
       "<Figure size 1000x400 with 1 Axes>"
      ]
     },
     "metadata": {},
     "output_type": "display_data"
    }
   ],
   "source": [
    "# https://scikit-posthocs.readthedocs.io/en/latest/generated/scikit_posthocs.critical_difference_diagram.html\n",
    "plt.figure(figsize=(10, 4))\n",
    "plt.title('Critical Difference Diagram of Average Ranks (Training Time)')\n",
    "sp.critical_difference_diagram(ranks=res_time['avg_ranks'], sig_matrix=res_time['posthoc'])\n",
    "plt.tight_layout()\n",
    "plt.savefig(f\"stats/{scenario}/step_2_across_datasets_cd_diagram_time.png\", dpi=300)"
   ]
  },
  {
   "cell_type": "code",
   "execution_count": 21,
   "id": "2840c437-f411-413a-b2f0-d4074996d47b",
   "metadata": {
    "execution": {
     "iopub.execute_input": "2025-02-15T07:23:06.735016Z",
     "iopub.status.busy": "2025-02-15T07:23:06.735016Z",
     "iopub.status.idle": "2025-02-15T07:23:06.753276Z",
     "shell.execute_reply": "2025-02-15T07:23:06.753276Z"
    },
    "papermill": {
     "duration": 0.026264,
     "end_time": "2025-02-15T07:23:06.755280",
     "exception": false,
     "start_time": "2025-02-15T07:23:06.729016",
     "status": "completed"
    },
    "tags": []
   },
   "outputs": [
    {
     "data": {
      "text/html": [
       "<div>\n",
       "<style scoped>\n",
       "    .dataframe tbody tr th:only-of-type {\n",
       "        vertical-align: middle;\n",
       "    }\n",
       "\n",
       "    .dataframe tbody tr th {\n",
       "        vertical-align: top;\n",
       "    }\n",
       "\n",
       "    .dataframe thead th {\n",
       "        text-align: right;\n",
       "    }\n",
       "</style>\n",
       "<table border=\"1\" class=\"dataframe\">\n",
       "  <thead>\n",
       "    <tr style=\"text-align: right;\">\n",
       "      <th></th>\n",
       "      <th>Framework</th>\n",
       "      <th>Rank_F1</th>\n",
       "      <th>Rank_Time</th>\n",
       "    </tr>\n",
       "  </thead>\n",
       "  <tbody>\n",
       "    <tr>\n",
       "      <th>0</th>\n",
       "      <td>autosklearn</td>\n",
       "      <td>1.000000</td>\n",
       "      <td>2.857143</td>\n",
       "    </tr>\n",
       "    <tr>\n",
       "      <th>1</th>\n",
       "      <td>fedot</td>\n",
       "      <td>2.333333</td>\n",
       "      <td>4.000000</td>\n",
       "    </tr>\n",
       "    <tr>\n",
       "      <th>2</th>\n",
       "      <td>autokeras</td>\n",
       "      <td>2.714286</td>\n",
       "      <td>1.285714</td>\n",
       "    </tr>\n",
       "    <tr>\n",
       "      <th>3</th>\n",
       "      <td>autogluon</td>\n",
       "      <td>3.714286</td>\n",
       "      <td>1.857143</td>\n",
       "    </tr>\n",
       "  </tbody>\n",
       "</table>\n",
       "</div>"
      ],
      "text/plain": [
       "     Framework   Rank_F1  Rank_Time\n",
       "0  autosklearn  1.000000   2.857143\n",
       "1        fedot  2.333333   4.000000\n",
       "2    autokeras  2.714286   1.285714\n",
       "3    autogluon  3.714286   1.857143"
      ]
     },
     "execution_count": 21,
     "metadata": {},
     "output_type": "execute_result"
    }
   ],
   "source": [
    "# Suppose you already computed avg_ranks_f1 and avg_ranks_time as Pandas Series:\n",
    "#   - Index = framework name\n",
    "#   - Values = average rank\n",
    "# Combine them\n",
    "df_ranks = pd.DataFrame({\n",
    "    'Framework': res_f1['avg_ranks'].index,\n",
    "    'Rank_F1': res_f1['avg_ranks'].values,\n",
    "    'Rank_Time': res_time['avg_ranks'][res_f1['avg_ranks'].index].values  # align same frameworks\n",
    "})\n",
    "\n",
    "# Sort optionally by Rank_F1\n",
    "df_ranks.sort_values(by='Rank_F1', inplace=True)\n",
    "\n",
    "# Display the table\n",
    "df_ranks.to_csv(f\"stats/{scenario}/step_2_across_datasets_dual_ranks.csv\")\n",
    "df_ranks"
   ]
  },
  {
   "cell_type": "code",
   "execution_count": 22,
   "id": "db591270-2f9e-48be-b9b7-d2f2d68abd95",
   "metadata": {
    "execution": {
     "iopub.execute_input": "2025-02-15T07:23:06.766794Z",
     "iopub.status.busy": "2025-02-15T07:23:06.766794Z",
     "iopub.status.idle": "2025-02-15T07:23:07.290017Z",
     "shell.execute_reply": "2025-02-15T07:23:07.290017Z"
    },
    "papermill": {
     "duration": 0.531226,
     "end_time": "2025-02-15T07:23:07.292018",
     "exception": false,
     "start_time": "2025-02-15T07:23:06.760792",
     "status": "completed"
    },
    "tags": []
   },
   "outputs": [
    {
     "data": {
      "image/png": "[encoded data removed]",
      "text/plain": [
       "<Figure size 700x700 with 1 Axes>"
      ]
     },
     "metadata": {},
     "output_type": "display_data"
    }
   ],
   "source": [
    "from adjustText import adjust_text\n",
    "\n",
    "plt.figure(figsize=(7, 7))\n",
    "plt.scatter(df_ranks['Rank_F1'], df_ranks['Rank_Time'], color='blue', label=\"Frameworks\")\n",
    "\n",
    "# Create text labels\n",
    "texts = []\n",
    "for i, row in df_ranks.iterrows():\n",
    "    text = plt.text(\n",
    "        row['Rank_F1'], row['Rank_Time'], row['Framework'], \n",
    "        ha='center', va='center', fontsize=9\n",
    "    )\n",
    "    texts.append(text)\n",
    "\n",
    "# Automatically adjust text positions to avoid overlap\n",
    "adjust_text(texts, arrowprops=dict(arrowstyle=\"-\", color='gray', lw=0.5))\n",
    "\n",
    "# Labels & Titles\n",
    "plt.xlabel(\"Avg Rank (F1) - lower is better\")\n",
    "plt.ylabel(\"Avg Rank (Time) - lower is better\")\n",
    "plt.title(\"Frameworks: Rank in F1 Score vs. Rank in Training Time\")\n",
    "\n",
    "# Optional axis inversion\n",
    "plt.gca().invert_xaxis()\n",
    "plt.gca().invert_yaxis()\n",
    "\n",
    "plt.grid(True, linestyle=\"--\", alpha=0.6)\n",
    "plt.legend()\n",
    "plt.tight_layout()\n",
    "plt.savefig(f\"stats/{scenario}/step_2_across_datasets_dual_ranks_clean.png\", dpi=300)\n",
    "plt.show()"
   ]
  },
  {
   "cell_type": "code",
   "execution_count": 23,
   "id": "f1e0ee03-e91a-42dd-8572-f8501892b0eb",
   "metadata": {
    "editable": true,
    "execution": {
     "iopub.execute_input": "2025-02-15T07:23:07.304018Z",
     "iopub.status.busy": "2025-02-15T07:23:07.303018Z",
     "iopub.status.idle": "2025-02-15T07:23:07.860411Z",
     "shell.execute_reply": "2025-02-15T07:23:07.860411Z"
    },
    "papermill": {
     "duration": 0.565406,
     "end_time": "2025-02-15T07:23:07.862425",
     "exception": false,
     "start_time": "2025-02-15T07:23:07.297019",
     "status": "completed"
    },
    "slideshow": {
     "slide_type": ""
    },
    "tags": []
   },
   "outputs": [
    {
     "data": {
      "image/png": "[encoded data removed]",
      "text/plain": [
       "<Figure size 700x700 with 1 Axes>"
      ]
     },
     "metadata": {},
     "output_type": "display_data"
    }
   ],
   "source": [
    "from adjustText import adjust_text\n",
    "\n",
    "# Suppose df_ranks has columns: [Framework, Rank_F1, Rank_Time]\n",
    "# 1) Compute sum of ranks for each framework\n",
    "df_ranks['Rank_Sum'] = df_ranks['Rank_F1'] + df_ranks['Rank_Time']\n",
    "\n",
    "# 2) Find the \"best\" framework => minimal total rank\n",
    "best_idx = df_ranks['Rank_Sum'].idxmin()\n",
    "best_fw_row = df_ranks.loc[best_idx]  # row data\n",
    "\n",
    "plt.figure(figsize=(7, 7))\n",
    "\n",
    "# 3) Plot all frameworks in blue\n",
    "plt.scatter(df_ranks['Rank_F1'], df_ranks['Rank_Time'], color='blue', label=\"Frameworks\")\n",
    "\n",
    "# 4) Highlight the best framework in red\n",
    "plt.scatter(best_fw_row['Rank_F1'], best_fw_row['Rank_Time'],\n",
    "            color='red', s=120, edgecolor='k', label=\"Best (lowest sum)\")\n",
    "\n",
    "# Create text labels\n",
    "texts = []\n",
    "for i, row in df_ranks.iterrows():\n",
    "    text = plt.text(\n",
    "        row['Rank_F1'], row['Rank_Time'], \n",
    "        row['Framework'], ha='center', va='center', fontsize=9\n",
    "    )\n",
    "    texts.append(text)\n",
    "\n",
    "# Automatically adjust text positions to avoid overlap\n",
    "adjust_text(texts, arrowprops=dict(arrowstyle=\"-\", color='gray', lw=0.5))\n",
    "\n",
    "# Labels & Titles\n",
    "plt.xlabel(\"Avg Rank (F1) - lower is better\")\n",
    "plt.ylabel(\"Avg Rank (Time) - lower is better\")\n",
    "plt.title(\"Frameworks: Rank in F1 Score vs. Rank in Training Time\")\n",
    "\n",
    "# Optional axis inversion\n",
    "plt.gca().invert_xaxis()\n",
    "plt.gca().invert_yaxis()\n",
    "\n",
    "plt.grid(True, linestyle=\"--\", alpha=0.6)\n",
    "plt.legend()\n",
    "plt.tight_layout()\n",
    "plt.savefig(f\"stats/{scenario}/step_2_across_datasets_dual_ranks_marked.png\", dpi=300)\n",
    "plt.show()"
   ]
  }
 ],
 "metadata": {
  "kernelspec": {
   "display_name": "Python 3 (ipykernel)",
   "language": "python",
   "name": "python3"
  },
  "language_info": {
   "codemirror_mode": {
    "name": "ipython",
    "version": 3
   },
   "file_extension": ".py",
   "mimetype": "text/x-python",
   "name": "python",
   "nbconvert_exporter": "python",
   "pygments_lexer": "ipython3",
   "version": "3.9.18"
  },
  "papermill": {
   "default_parameters": {},
   "duration": 5.538328,
   "end_time": "2025-02-15T07:23:08.208980",
   "environment_variables": {},
   "exception": null,
   "input_path": "stats_step_2_analysis_across_datasets.ipynb",
   "output_path": "stats/multilabel_native/step_2_analysis_across_datasets_output.ipynb",
   "parameters": {
    "alpha": 0.05,
    "scenario": "multilabel_native"
   },
   "start_time": "2025-02-15T07:23:02.670652",
   "version": "2.6.0"
  }
 },
 "nbformat": 4,
 "nbformat_minor": 5
}