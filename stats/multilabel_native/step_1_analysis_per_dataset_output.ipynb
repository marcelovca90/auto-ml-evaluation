{
 "cells": [
  {
   "cell_type": "markdown",
   "id": "51d93dab-5821-4356-b9b8-3d0765e5bba3",
   "metadata": {
    "papermill": {
     "duration": 0.004004,
     "end_time": "2025-02-15T07:22:54.285230",
     "exception": false,
     "start_time": "2025-02-15T07:22:54.281226",
     "status": "completed"
    },
    "tags": []
   },
   "source": [
    "# Step 1: Per-Dataset Analysis"
   ]
  },
  {
   "cell_type": "code",
   "execution_count": 1,
   "id": "cfa3e682-6b98-421f-85ae-e4ad4e629e05",
   "metadata": {
    "execution": {
     "iopub.execute_input": "2025-02-15T07:22:54.294231Z",
     "iopub.status.busy": "2025-02-15T07:22:54.294231Z",
     "iopub.status.idle": "2025-02-15T07:22:54.297233Z",
     "shell.execute_reply": "2025-02-15T07:22:54.297233Z"
    },
    "papermill": {
     "duration": 0.010001,
     "end_time": "2025-02-15T07:22:54.299232",
     "exception": false,
     "start_time": "2025-02-15T07:22:54.289231",
     "status": "completed"
    },
    "tags": []
   },
   "outputs": [],
   "source": [
    "# pip install numpy pandas scipy statsmodels scikit-posthocs matplotlib seaborn"
   ]
  },
  {
   "cell_type": "code",
   "execution_count": 2,
   "id": "a673f91f-4cb8-4ac3-80ad-81ce3699caf5",
   "metadata": {
    "editable": true,
    "execution": {
     "iopub.execute_input": "2025-02-15T07:22:54.307234Z",
     "iopub.status.busy": "2025-02-15T07:22:54.307234Z",
     "iopub.status.idle": "2025-02-15T07:22:54.313233Z",
     "shell.execute_reply": "2025-02-15T07:22:54.313233Z"
    },
    "papermill": {
     "duration": 0.012,
     "end_time": "2025-02-15T07:22:54.314231",
     "exception": false,
     "start_time": "2025-02-15T07:22:54.302231",
     "status": "completed"
    },
    "slideshow": {
     "slide_type": ""
    },
    "tags": [
     "parameters"
    ]
   },
   "outputs": [],
   "source": [
    "# binary, multiclass, multilabel_native, multilabel_powerset, all\n",
    "scenario = \"binary\"\n",
    "# significance level (used globally)\n",
    "alpha = 0.05 "
   ]
  },
  {
   "cell_type": "code",
   "execution_count": 3,
   "id": "8b8e2119",
   "metadata": {
    "execution": {
     "iopub.execute_input": "2025-02-15T07:22:54.322235Z",
     "iopub.status.busy": "2025-02-15T07:22:54.322235Z",
     "iopub.status.idle": "2025-02-15T07:22:54.329231Z",
     "shell.execute_reply": "2025-02-15T07:22:54.329231Z"
    },
    "papermill": {
     "duration": 0.012994,
     "end_time": "2025-02-15T07:22:54.331231",
     "exception": false,
     "start_time": "2025-02-15T07:22:54.318237",
     "status": "completed"
    },
    "tags": [
     "injected-parameters"
    ]
   },
   "outputs": [],
   "source": [
    "# Parameters\n",
    "scenario = \"multilabel_native\"\n",
    "alpha = 0.05\n"
   ]
  },
  {
   "cell_type": "code",
   "execution_count": 4,
   "id": "26abb4e9-935d-4920-acb3-de2a9a2e8f83",
   "metadata": {
    "editable": true,
    "execution": {
     "iopub.execute_input": "2025-02-15T07:22:54.339238Z",
     "iopub.status.busy": "2025-02-15T07:22:54.339238Z",
     "iopub.status.idle": "2025-02-15T07:22:54.720748Z",
     "shell.execute_reply": "2025-02-15T07:22:54.720500Z"
    },
    "papermill": {
     "duration": 0.38855,
     "end_time": "2025-02-15T07:22:54.722780",
     "exception": false,
     "start_time": "2025-02-15T07:22:54.334230",
     "status": "completed"
    },
    "slideshow": {
     "slide_type": ""
    },
    "tags": []
   },
   "outputs": [
    {
     "name": "stdout",
     "output_type": "stream",
     "text": [
      "C:\\Users\\marce\\git\\auto-ml-evaluation-2025\\fonts\\cmunti.ttf CMU Serif\n",
      "C:\\Users\\marce\\git\\auto-ml-evaluation-2025\\fonts\\cmunrm.ttf CMU Serif\n",
      "C:\\Users\\marce\\git\\auto-ml-evaluation-2025\\fonts\\cmunbx.ttf CMU Serif\n"
     ]
    }
   ],
   "source": [
    "# change ~/anaconda3/Lib/site-packages/matplotlib/_mathtext.py:659\n",
    "# to uniindex = 0x2D  # currency char, for lack of anything better\n",
    "from matplotlib import font_manager\n",
    "import matplotlib.pyplot as plt\n",
    "\n",
    "font_files = font_manager.findSystemFonts(fontpaths=['fonts'])\n",
    "for font_file in font_files:\n",
    "    font_manager.fontManager.addfont(font_file)\n",
    "    prop = font_manager.FontProperties(fname=font_file)\n",
    "    print(font_file, prop.get_name())\n",
    "\n",
    "plt.rcParams['font.family'] = ['CMU Serif', 'DejaVu Sans']\n",
    "plt.rcParams['text.usetex'] = False\n",
    "plt.rcParams['axes.unicode_minus'] = False"
   ]
  },
  {
   "cell_type": "code",
   "execution_count": 5,
   "id": "d5f71b33-0d0c-4013-9266-173770f3113b",
   "metadata": {
    "execution": {
     "iopub.execute_input": "2025-02-15T07:22:54.736959Z",
     "iopub.status.busy": "2025-02-15T07:22:54.736959Z",
     "iopub.status.idle": "2025-02-15T07:22:55.476588Z",
     "shell.execute_reply": "2025-02-15T07:22:55.476588Z"
    },
    "papermill": {
     "duration": 0.746632,
     "end_time": "2025-02-15T07:22:55.478586",
     "exception": false,
     "start_time": "2025-02-15T07:22:54.731954",
     "status": "completed"
    },
    "tags": []
   },
   "outputs": [],
   "source": [
    "from IPython.display import display\n",
    "from scipy.stats import shapiro, levene, f_oneway, kruskal\n",
    "from statsmodels.stats.multicomp import pairwise_tukeyhsd\n",
    "import numpy as np\n",
    "import os\n",
    "import pandas as pd\n",
    "import scikit_posthocs as sp\n",
    "import seaborn as sns"
   ]
  },
  {
   "cell_type": "code",
   "execution_count": 6,
   "id": "a972828c-c44b-4947-9e79-c1efcb89084a",
   "metadata": {
    "execution": {
     "iopub.execute_input": "2025-02-15T07:22:55.488575Z",
     "iopub.status.busy": "2025-02-15T07:22:55.488575Z",
     "iopub.status.idle": "2025-02-15T07:22:55.492576Z",
     "shell.execute_reply": "2025-02-15T07:22:55.492576Z"
    },
    "papermill": {
     "duration": 0.011002,
     "end_time": "2025-02-15T07:22:55.493577",
     "exception": false,
     "start_time": "2025-02-15T07:22:55.482575",
     "status": "completed"
    },
    "tags": []
   },
   "outputs": [],
   "source": [
    "def arcsine_sqrt_transform(x, eps=1e-6):\n",
    "    \"\"\"\n",
    "    Applies arcsine sqrt transform for data in [0,1].\n",
    "    Handles corner cases by clamping [0,1] to [eps, 1-eps].\n",
    "    \"\"\"\n",
    "    x_clamped = np.clip(x, eps, 1.0 - eps)\n",
    "    return np.arcsin(np.sqrt(x_clamped))"
   ]
  },
  {
   "cell_type": "code",
   "execution_count": 7,
   "id": "7eefc012-eb5b-4302-9fd3-dc983903d940",
   "metadata": {
    "execution": {
     "iopub.execute_input": "2025-02-15T07:22:55.502575Z",
     "iopub.status.busy": "2025-02-15T07:22:55.502575Z",
     "iopub.status.idle": "2025-02-15T07:22:55.507576Z",
     "shell.execute_reply": "2025-02-15T07:22:55.507576Z"
    },
    "papermill": {
     "duration": 0.011004,
     "end_time": "2025-02-15T07:22:55.508579",
     "exception": false,
     "start_time": "2025-02-15T07:22:55.497575",
     "status": "completed"
    },
    "tags": []
   },
   "outputs": [],
   "source": [
    "def log1p_transform(x, eps=1e-6):\n",
    "    \"\"\"\n",
    "    Safely applies log(1 + x). \n",
    "    If any x < 0, add a small shift so that all data >= -0.9999... \n",
    "    (In typical training-time data, negative times shouldn't occur. \n",
    "     But in case of small floating errors, handle it.)\n",
    "    \"\"\"\n",
    "    min_val = x.min()\n",
    "    shift = 0.0\n",
    "    if min_val < 0:\n",
    "        shift = abs(min_val) + eps  # ensure positivity\n",
    "    return np.log1p(x + shift)"
   ]
  },
  {
   "cell_type": "code",
   "execution_count": 8,
   "id": "b40280a7-d483-4685-8c5f-59fc2d48a405",
   "metadata": {
    "execution": {
     "iopub.execute_input": "2025-02-15T07:22:55.517576Z",
     "iopub.status.busy": "2025-02-15T07:22:55.517576Z",
     "iopub.status.idle": "2025-02-15T07:22:55.522576Z",
     "shell.execute_reply": "2025-02-15T07:22:55.522576Z"
    },
    "papermill": {
     "duration": 0.011002,
     "end_time": "2025-02-15T07:22:55.523577",
     "exception": false,
     "start_time": "2025-02-15T07:22:55.512575",
     "status": "completed"
    },
    "tags": []
   },
   "outputs": [],
   "source": [
    "def check_normality_auto(data, threshold=50):\n",
    "    \"\"\"\n",
    "    Automatically choose between Shapiro–Wilk (SW) and Kolmogorov–Smirnov (K–S)\n",
    "    based on sample size.\n",
    "    \n",
    "    :param data: 1D array-like of numeric values\n",
    "    :param threshold: sample-size threshold for deciding which test to use\n",
    "    :return: dict with keys: \n",
    "        'test_name', 'statistic', 'p_value', 'is_normal'\n",
    "    \"\"\"\n",
    "    data = pd.Series(data).dropna()  # ensure it's a clean Series\n",
    "    n = len(data)\n",
    "    \n",
    "    # If not enough points or no data\n",
    "    if n < 3:\n",
    "        return {\n",
    "            'test_name': 'none',\n",
    "            'statistic': np.nan,\n",
    "            'p_value': np.nan,\n",
    "            'is_normal': False,\n",
    "            'reason': f\"Not enough data points (n={n})\"\n",
    "        }\n",
    "    \n",
    "    if n <= threshold:\n",
    "        # Use Shapiro–Wilk\n",
    "        stat, p_val = shapiro(data)\n",
    "        test_name = 'Shapiro-Wilk'\n",
    "    else:\n",
    "        # Use Kolmogorov–Smirnov\n",
    "        # We compute the mean and std of the data to define the normal distribution\n",
    "        mu, sigma = data.mean(), data.std(ddof=1)\n",
    "        if sigma == 0:\n",
    "            # If all data are identical, that might cause zero std\n",
    "            # K-S is not well-defined here, or it trivially fails\n",
    "            return {\n",
    "                'test_name': 'Kolmogorov-Smirnov',\n",
    "                'statistic': 0.0,\n",
    "                'p_value': 1.0,\n",
    "                'is_normal': True,\n",
    "                'reason': 'All data points identical'\n",
    "            }\n",
    "        # kstest with cdf='norm' requires specifying loc=mu, scale=sigma\n",
    "        stat, p_val = kstest(data, 'norm', args=(mu, sigma))\n",
    "        test_name = 'Kolmogorov-Smirnov'\n",
    "    \n",
    "    is_normal = (p_val > alpha)\n",
    "    return {\n",
    "        'test_name': test_name,\n",
    "        'statistic': stat,\n",
    "        'p_value': p_val,\n",
    "        'is_normal': is_normal\n",
    "    }"
   ]
  },
  {
   "cell_type": "code",
   "execution_count": 9,
   "id": "93b07aec-cd79-437a-a66a-31dfe21fa75e",
   "metadata": {
    "execution": {
     "iopub.execute_input": "2025-02-15T07:22:55.532575Z",
     "iopub.status.busy": "2025-02-15T07:22:55.531576Z",
     "iopub.status.idle": "2025-02-15T07:22:55.538580Z",
     "shell.execute_reply": "2025-02-15T07:22:55.538580Z"
    },
    "papermill": {
     "duration": 0.012008,
     "end_time": "2025-02-15T07:22:55.539584",
     "exception": false,
     "start_time": "2025-02-15T07:22:55.527576",
     "status": "completed"
    },
    "tags": []
   },
   "outputs": [],
   "source": [
    "def check_normality_variances(df, metric_col='f1', group_col='framework'):\n",
    "    \"\"\"\n",
    "    1) Checks normality for each framework (automatically deciding between\n",
    "       Shapiro-Wilk or Kolmogorov-Smirnov) and collects results in norm_results.\n",
    "    2) Determines 'normal' = True if *all* frameworks pass the normality test at alpha.\n",
    "    3) Checks homogeneity of variances via Levene’s test across all frameworks.\n",
    "    \n",
    "    Returns:\n",
    "      norm_results: dict mapping framework -> { 'test_name', 'statistic', 'p_value', 'is_normal', ... }\n",
    "      normal: bool indicating if all frameworks are normal\n",
    "      homoscedastic: bool indicating if Levene’s test fails to reject equal variances\n",
    "    \"\"\"\n",
    "    frameworks = df[group_col].unique()\n",
    "    \n",
    "    # Dictionary to store normality results per framework\n",
    "    norm_results = {}\n",
    "    \n",
    "    # 1) Check normality for each group (framework)\n",
    "    pvals_normality = []\n",
    "    for fw in frameworks:\n",
    "        data_fw = df.loc[df[group_col] == fw, metric_col].dropna()\n",
    "        # Decide between Shapiro-Wilk or Kolmogorov-Smirnov tests automatically\n",
    "        norm_res = check_normality_auto(data_fw, threshold=50)\n",
    "        norm_results[fw] = norm_res\n",
    "        # Check if the normality test was actually performed\n",
    "        if norm_res['test_name'] != 'none':\n",
    "            # We'll store the p-value to see if each group individually passes normality\n",
    "            pvals_normality.append(norm_res['p_value'])\n",
    "    \n",
    "    # \"Normal\" if all frameworks pass the normality test (is_normal == True)\n",
    "    # We only consider frameworks that had enough data for a test.\n",
    "    # If pvals_normality is empty (no frameworks or all had <3 data), normal=False\n",
    "    if len(pvals_normality) == 0:\n",
    "        normal = False\n",
    "    else:\n",
    "        normal = all(p > alpha for p in pvals_normality)\n",
    "    \n",
    "    # 2) Check homogeneity of variances using Levene’s test\n",
    "    group_data = [df.loc[df[group_col] == fw, metric_col].dropna() for fw in frameworks]\n",
    "    if sum(len(g) > 0 for g in group_data) < 2:\n",
    "        homoscedastic = False\n",
    "    else:\n",
    "        stat, pval = levene(*[g for g in group_data if len(g) > 1])\n",
    "        homoscedastic = (pval > alpha)\n",
    "    \n",
    "    return norm_results, normal, homoscedastic"
   ]
  },
  {
   "cell_type": "code",
   "execution_count": 10,
   "id": "bd699a93-ff79-4d25-90b2-102691f5ae57",
   "metadata": {
    "execution": {
     "iopub.execute_input": "2025-02-15T07:22:55.549580Z",
     "iopub.status.busy": "2025-02-15T07:22:55.548581Z",
     "iopub.status.idle": "2025-02-15T07:22:55.569978Z",
     "shell.execute_reply": "2025-02-15T07:22:55.569978Z"
    },
    "papermill": {
     "duration": 0.027399,
     "end_time": "2025-02-15T07:22:55.571979",
     "exception": false,
     "start_time": "2025-02-15T07:22:55.544580",
     "status": "completed"
    },
    "tags": []
   },
   "outputs": [],
   "source": [
    "def do_parametric_anova(df, metric_col='f1', group_col='framework'):\n",
    "    \"\"\"\n",
    "    Performs one-way ANOVA + Tukey post-hoc if significant.\n",
    "    Ensures all frameworks appear in the pairwise matrix, even if they have no valid trials.\n",
    "    \"\"\"\n",
    "    results = {}\n",
    "    frameworks = sorted(df[group_col].unique())  # Ensure consistent ordering\n",
    "    data_groups = [df.loc[df[group_col] == fw, metric_col].dropna() for fw in frameworks]\n",
    "\n",
    "    # Check for empty groups or all identical values\n",
    "    if any(len(g) < 2 for g in data_groups) or all(np.var(g) == 0 for g in data_groups if len(g) > 1):\n",
    "        results['anova_F'] = np.nan\n",
    "        results['anova_p'] = np.nan\n",
    "        tukey_matrix = pd.DataFrame(np.nan, index=frameworks, columns=frameworks)\n",
    "        results['posthoc'] = tukey_matrix\n",
    "        return results\n",
    "\n",
    "    # ANOVA Test\n",
    "    f_stat, p_val = f_oneway(*data_groups)\n",
    "    results['anova_F'] = f_stat\n",
    "    results['anova_p'] = p_val\n",
    "\n",
    "    # Prepare an empty symmetrical matrix with NaNs\n",
    "    tukey_matrix = pd.DataFrame(np.nan, index=frameworks, columns=frameworks)\n",
    "\n",
    "    if p_val < alpha:\n",
    "        # Tukey Post-Hoc Test\n",
    "        metric_values = []\n",
    "        group_labels = []\n",
    "        for fw, g_data in zip(frameworks, data_groups):\n",
    "            metric_values.extend(g_data)\n",
    "            group_labels.extend([fw] * len(g_data))\n",
    "\n",
    "        tukey = pairwise_tukeyhsd(endog=metric_values, groups=group_labels, alpha=alpha)\n",
    "\n",
    "        # Fill Tukey results into the matrix\n",
    "        for i, j, p_val in zip(tukey._multicomp.pairindices[0], tukey._multicomp.pairindices[1], tukey.pvalues):\n",
    "            fw1, fw2 = tukey.groupsunique[i], tukey.groupsunique[j]\n",
    "            tukey_matrix.loc[fw1, fw2] = p_val\n",
    "            tukey_matrix.loc[fw2, fw1] = p_val  # Mirror the matrix\n",
    "\n",
    "    results['posthoc'] = tukey_matrix  # Store the complete matrix\n",
    "\n",
    "    return results"
   ]
  },
  {
   "cell_type": "code",
   "execution_count": 11,
   "id": "9d52221a-618b-4d0d-9b14-58216c2dd1da",
   "metadata": {
    "execution": {
     "iopub.execute_input": "2025-02-15T07:22:55.580979Z",
     "iopub.status.busy": "2025-02-15T07:22:55.580979Z",
     "iopub.status.idle": "2025-02-15T07:22:55.602982Z",
     "shell.execute_reply": "2025-02-15T07:22:55.601979Z"
    },
    "papermill": {
     "duration": 0.028004,
     "end_time": "2025-02-15T07:22:55.603983",
     "exception": false,
     "start_time": "2025-02-15T07:22:55.575979",
     "status": "completed"
    },
    "tags": []
   },
   "outputs": [],
   "source": [
    "import pandas as pd\n",
    "import numpy as np\n",
    "from scipy.stats import kruskal\n",
    "import scikit_posthocs as sp\n",
    "\n",
    "def do_nonparametric_kruskal(df, all_frameworks, metric_col='f1', group_col='framework'):\n",
    "    \"\"\"\n",
    "    Performs Kruskal-Wallis + Dunn post-hoc if significant.\n",
    "    Ensures all frameworks appear in the pairwise matrix, even if they have no valid trials.\n",
    "    \n",
    "    Parameters:\n",
    "        - df: DataFrame with results\n",
    "        - metric_col: Metric being analyzed\n",
    "        - group_col: Framework column name\n",
    "        - alpha: Significance level\n",
    "        - all_frameworks: List of all possible frameworks (even if missing in df)\n",
    "    \n",
    "    Returns:\n",
    "        - Dictionary with Kruskal-Wallis test results and posthoc Dunn matrix.\n",
    "    \"\"\"\n",
    "    results = {}\n",
    "\n",
    "    # Ensure ALL frameworks are considered (even those missing from df)\n",
    "    if all_frameworks is None:\n",
    "        all_frameworks = sorted(df[group_col].unique())  # Default: existing frameworks only\n",
    "    else:\n",
    "        all_frameworks = sorted(all_frameworks)  # Use full list of expected frameworks\n",
    "\n",
    "    # Extract valid data groups (ignore completely missing frameworks for now)\n",
    "    valid_groups = {fw: df.loc[df[group_col] == fw, metric_col].dropna().values for fw in all_frameworks}\n",
    "    \n",
    "    # Filter out empty lists (frameworks that never produced results)\n",
    "    valid_groups = {fw: data for fw, data in valid_groups.items() if len(data) > 0}\n",
    "    \n",
    "    # Check if we have at least two valid frameworks for Kruskal-Wallis\n",
    "    if len(valid_groups) < 2:\n",
    "        results['kruskal_H'] = np.nan\n",
    "        results['kruskal_p'] = np.nan\n",
    "        dunn_matrix = pd.DataFrame(np.nan, index=all_frameworks, columns=all_frameworks)\n",
    "        results['posthoc'] = dunn_matrix\n",
    "        return results\n",
    "\n",
    "    # Run Kruskal-Wallis on valid groups only\n",
    "    try:\n",
    "        h_stat, p_val = kruskal(*valid_groups.values(), nan_policy='omit')\n",
    "    except ValueError:  # Handles cases where Kruskal cannot be computed\n",
    "        h_stat, p_val = np.nan, np.nan\n",
    "\n",
    "    results['kruskal_H'] = h_stat\n",
    "    results['kruskal_p'] = p_val\n",
    "\n",
    "    # Prepare an empty symmetrical matrix with NaNs (ensures all frameworks appear)\n",
    "    dunn_matrix = pd.DataFrame(np.nan, index=all_frameworks, columns=all_frameworks)\n",
    "\n",
    "    if p_val < alpha:\n",
    "        # Dunn Post-Hoc Test (only if we had valid groups)\n",
    "        df_ph = df[[group_col, metric_col]].dropna()\n",
    "        if not df_ph.empty:\n",
    "            dunn_res = sp.posthoc_dunn(df_ph, val_col=metric_col, group_col=group_col, p_adjust='holm')\n",
    "\n",
    "            # Ensure ALL frameworks are in the matrix (even if missing from Dunn’s results)\n",
    "            for fw1 in all_frameworks:\n",
    "                for fw2 in all_frameworks:\n",
    "                    if fw1 in dunn_res.index and fw2 in dunn_res.columns:\n",
    "                        dunn_matrix.loc[fw1, fw2] = dunn_res.loc[fw1, fw2]\n",
    "\n",
    "    results['posthoc'] = dunn_matrix  # Store the complete matrix\n",
    "\n",
    "    return results\n"
   ]
  },
  {
   "cell_type": "code",
   "execution_count": 12,
   "id": "0e1275de-0cf5-4ccc-809a-4796ea7810a6",
   "metadata": {
    "execution": {
     "iopub.execute_input": "2025-02-15T07:22:55.613979Z",
     "iopub.status.busy": "2025-02-15T07:22:55.613979Z",
     "iopub.status.idle": "2025-02-15T07:22:55.634312Z",
     "shell.execute_reply": "2025-02-15T07:22:55.633305Z"
    },
    "papermill": {
     "duration": 0.027333,
     "end_time": "2025-02-15T07:22:55.635313",
     "exception": false,
     "start_time": "2025-02-15T07:22:55.607980",
     "status": "completed"
    },
    "tags": []
   },
   "outputs": [],
   "source": [
    "def decide_transform_and_analyze(df, all_frameworks, metric_col, group_col='framework'):\n",
    "    \"\"\"\n",
    "    1) Decide transform:\n",
    "       - If metric_col == 'f1', do arcsine sqrt transform\n",
    "       - If metric_col == 'training_time', do log1p transform\n",
    "       - Otherwise, no transform.\n",
    "    2) Check normality & homoscedasticity on transformed data\n",
    "    3) If normal & homoscedastic:\n",
    "         -> ANOVA + Tukey on transformed data\n",
    "       Else:\n",
    "         -> Kruskal-Wallis + Dunn on original data\n",
    "    \"\"\"\n",
    "    result = {}\n",
    "    \n",
    "    # Drop rows with missing values for this metric\n",
    "    df = df.dropna(subset=[metric_col]).copy()\n",
    "    \n",
    "    # If fewer than 2 frameworks have valid data, skip\n",
    "    unique_fw = df[group_col].unique()\n",
    "    if len(unique_fw) < 2:\n",
    "        result['warning'] = 'Fewer than 2 frameworks have data; skipping test.'\n",
    "        return result\n",
    "    \n",
    "    # Decide which transform to apply\n",
    "    if metric_col == 'f1':\n",
    "        # arcsine sqrt transform (common for [0,1] data)\n",
    "        df['transformed_val'] = arcsine_sqrt_transform(df[metric_col].values)\n",
    "        chosen_transform = 'arcsine_sqrt'\n",
    "    elif metric_col == 'training_time':\n",
    "        # log1p transform (common for skewed positive data)\n",
    "        df['transformed_val'] = log1p_transform(df[metric_col].values)\n",
    "        chosen_transform = 'log1p'\n",
    "    else:\n",
    "        # default: no transform\n",
    "        df['transformed_val'] = df[metric_col]\n",
    "        chosen_transform = 'none'\n",
    "    \n",
    "    result['chosen_transform'] = chosen_transform\n",
    "    \n",
    "    # ----------------------------------------------------\n",
    "    # 1) Check parametric assumptions on the transformed data\n",
    "    #    We'll create a mini DataFrame with just {group_col, 'transformed_val'}\n",
    "    #    and pass 'transformed_val' as 'metric_col' to the checking function\n",
    "    # ----------------------------------------------------\n",
    "    df_for_assumptions = df[[group_col, 'transformed_val']].copy()\n",
    "    \n",
    "    norm_results, normal, homoscedastic = check_normality_variances(\n",
    "        df_for_assumptions,\n",
    "        metric_col='transformed_val',\n",
    "        group_col=group_col\n",
    "    )\n",
    "\n",
    "    result['normal_tests'] = set([v['test_name'] for v in norm_results.values()])\n",
    "    result['assumptions'] = {'normal': normal, 'homoscedastic': homoscedastic}\n",
    "    \n",
    "    # ----------------------------------------------------\n",
    "    # 2) Decide which statistical test to run\n",
    "    # ----------------------------------------------------\n",
    "    if normal and homoscedastic:\n",
    "        # Use parametric: One-Way ANOVA + Tukey\n",
    "        result['method'] = 'ANOVA + Tukey'\n",
    "        \n",
    "        # We'll do ANOVA on the transformed values\n",
    "        # Make a small DataFrame with the same format as do_parametric_anova expects:\n",
    "        # it looks for a column matching 'metric_col' for the data.\n",
    "        anova_df = df_for_assumptions.rename(columns={'transformed_val': 'temp_metric'})\n",
    "        \n",
    "        # Now run ANOVA with metric_col='temp_metric'\n",
    "        out = do_parametric_anova(\n",
    "            anova_df,\n",
    "            metric_col='temp_metric',\n",
    "            group_col=group_col\n",
    "        )\n",
    "        result.update(out)\n",
    "        \n",
    "    else:\n",
    "        # Use non-parametric: Kruskal-Wallis + Dunn\n",
    "        # Typically, we run it on the ORIGINAL metric (not transformed)\n",
    "        result['method'] = 'Kruskal-Wallis + Dunn'\n",
    "        \n",
    "        # Build a mini DataFrame with just {group_col, <original metric>}\n",
    "        kruskal_df = df[[group_col, metric_col]].copy()\n",
    "\n",
    "        out = do_nonparametric_kruskal(\n",
    "            kruskal_df,\n",
    "            all_frameworks=all_frameworks,\n",
    "            metric_col=metric_col,\n",
    "            group_col=group_col\n",
    "        )\n",
    "        result.update(out)\n",
    "    \n",
    "    return result"
   ]
  },
  {
   "cell_type": "code",
   "execution_count": 13,
   "id": "ea43c072-08b5-4414-8ae6-e3faa61f4168",
   "metadata": {
    "execution": {
     "iopub.execute_input": "2025-02-15T07:22:55.644319Z",
     "iopub.status.busy": "2025-02-15T07:22:55.644319Z",
     "iopub.status.idle": "2025-02-15T07:22:55.649318Z",
     "shell.execute_reply": "2025-02-15T07:22:55.649318Z"
    },
    "papermill": {
     "duration": 0.0115,
     "end_time": "2025-02-15T07:22:55.650824",
     "exception": false,
     "start_time": "2025-02-15T07:22:55.639324",
     "status": "completed"
    },
    "tags": []
   },
   "outputs": [],
   "source": [
    "def analyze_per_dataset(df):\n",
    "    \"\"\"\n",
    "    Loops through each dataset, does a separate analysis for 'f1' and 'training_time'.\n",
    "    Applies appropriate transform automatically for parametric test attempts.\n",
    "    Returns a list of results, one per dataset.\n",
    "    \"\"\"\n",
    "    all_results = []\n",
    "    datasets = df['dataset'].unique()\n",
    "    all_frameworks = df['framework'].unique().tolist()\n",
    "    \n",
    "    for dset in datasets:\n",
    "        dsub = df[df['dataset'] == dset]\n",
    "        \n",
    "        # Analyze F1\n",
    "        f1_res = decide_transform_and_analyze(dsub, all_frameworks, metric_col='f1')\n",
    "        \n",
    "        # Analyze training_time\n",
    "        time_res = decide_transform_and_analyze(dsub, all_frameworks, metric_col='training_time')\n",
    "        \n",
    "        row = {\n",
    "            'dataset': dset,\n",
    "            'f1_analysis': f1_res,\n",
    "            'time_analysis': time_res\n",
    "        }\n",
    "        all_results.append(row)\n",
    "    \n",
    "    return all_results"
   ]
  },
  {
   "cell_type": "code",
   "execution_count": 14,
   "id": "138e480a-1c8c-4fa3-8760-4670b8822f26",
   "metadata": {
    "execution": {
     "iopub.execute_input": "2025-02-15T07:22:55.659831Z",
     "iopub.status.busy": "2025-02-15T07:22:55.658830Z",
     "iopub.status.idle": "2025-02-15T07:22:55.664973Z",
     "shell.execute_reply": "2025-02-15T07:22:55.664973Z"
    },
    "papermill": {
     "duration": 0.01114,
     "end_time": "2025-02-15T07:22:55.665972",
     "exception": false,
     "start_time": "2025-02-15T07:22:55.654832",
     "status": "completed"
    },
    "tags": []
   },
   "outputs": [],
   "source": [
    "def print_formatted_result(k, v):\n",
    "    if k == 'posthoc':\n",
    "        print('  posthoc:')\n",
    "        display(v)\n",
    "    else:\n",
    "        print(f\"  {k}: {v}\")"
   ]
  },
  {
   "cell_type": "code",
   "execution_count": 15,
   "id": "c72b38b0-5f8c-4cff-87ed-84c269c97db4",
   "metadata": {
    "execution": {
     "iopub.execute_input": "2025-02-15T07:22:55.674972Z",
     "iopub.status.busy": "2025-02-15T07:22:55.674972Z",
     "iopub.status.idle": "2025-02-15T07:22:56.978124Z",
     "shell.execute_reply": "2025-02-15T07:22:56.978124Z"
    },
    "papermill": {
     "duration": 1.31018,
     "end_time": "2025-02-15T07:22:56.980151",
     "exception": false,
     "start_time": "2025-02-15T07:22:55.669971",
     "status": "completed"
    },
    "tags": []
   },
   "outputs": [
    {
     "name": "stdout",
     "output_type": "stream",
     "text": [
      "\n",
      "===== Dataset 285 =====\n",
      "F1 Analysis:\n",
      "  chosen_transform: arcsine_sqrt\n",
      "  normal_tests: {'Shapiro-Wilk'}\n",
      "  assumptions: {'normal': False, 'homoscedastic': False}\n",
      "  method: Kruskal-Wallis + Dunn\n",
      "  kruskal_H: 43.431994047619014\n",
      "  kruskal_p: 1.9924259951501485e-09\n",
      "  posthoc:\n"
     ]
    },
    {
     "data": {
      "text/html": [
       "<div>\n",
       "<style scoped>\n",
       "    .dataframe tbody tr th:only-of-type {\n",
       "        vertical-align: middle;\n",
       "    }\n",
       "\n",
       "    .dataframe tbody tr th {\n",
       "        vertical-align: top;\n",
       "    }\n",
       "\n",
       "    .dataframe thead th {\n",
       "        text-align: right;\n",
       "    }\n",
       "</style>\n",
       "<table border=\"1\" class=\"dataframe\">\n",
       "  <thead>\n",
       "    <tr style=\"text-align: right;\">\n",
       "      <th></th>\n",
       "      <th>autogluon</th>\n",
       "      <th>autokeras</th>\n",
       "      <th>autosklearn</th>\n",
       "      <th>fedot</th>\n",
       "    </tr>\n",
       "  </thead>\n",
       "  <tbody>\n",
       "    <tr>\n",
       "      <th>autogluon</th>\n",
       "      <td>1.000000e+00</td>\n",
       "      <td>1.000000e+00</td>\n",
       "      <td>8.283041e-08</td>\n",
       "      <td>0.066976</td>\n",
       "    </tr>\n",
       "    <tr>\n",
       "      <th>autokeras</th>\n",
       "      <td>1.000000e+00</td>\n",
       "      <td>1.000000e+00</td>\n",
       "      <td>2.497084e-07</td>\n",
       "      <td>0.068228</td>\n",
       "    </tr>\n",
       "    <tr>\n",
       "      <th>autosklearn</th>\n",
       "      <td>8.283041e-08</td>\n",
       "      <td>2.497084e-07</td>\n",
       "      <td>1.000000e+00</td>\n",
       "      <td>1.000000</td>\n",
       "    </tr>\n",
       "    <tr>\n",
       "      <th>fedot</th>\n",
       "      <td>6.697636e-02</td>\n",
       "      <td>6.822766e-02</td>\n",
       "      <td>1.000000e+00</td>\n",
       "      <td>1.000000</td>\n",
       "    </tr>\n",
       "  </tbody>\n",
       "</table>\n",
       "</div>"
      ],
      "text/plain": [
       "                autogluon     autokeras   autosklearn     fedot\n",
       "autogluon    1.000000e+00  1.000000e+00  8.283041e-08  0.066976\n",
       "autokeras    1.000000e+00  1.000000e+00  2.497084e-07  0.068228\n",
       "autosklearn  8.283041e-08  2.497084e-07  1.000000e+00  1.000000\n",
       "fedot        6.697636e-02  6.822766e-02  1.000000e+00  1.000000"
      ]
     },
     "metadata": {},
     "output_type": "display_data"
    },
    {
     "name": "stdout",
     "output_type": "stream",
     "text": [
      "\n",
      "Time Analysis:\n",
      "  chosen_transform: log1p\n",
      "  normal_tests: {'Shapiro-Wilk'}\n",
      "  assumptions: {'normal': False, 'homoscedastic': False}\n",
      "  method: Kruskal-Wallis + Dunn\n",
      "  kruskal_H: 55.048015873015856\n",
      "  kruskal_p: 6.70611461914932e-12\n",
      "  posthoc:\n"
     ]
    },
    {
     "data": {
      "text/html": [
       "<div>\n",
       "<style scoped>\n",
       "    .dataframe tbody tr th:only-of-type {\n",
       "        vertical-align: middle;\n",
       "    }\n",
       "\n",
       "    .dataframe tbody tr th {\n",
       "        vertical-align: top;\n",
       "    }\n",
       "\n",
       "    .dataframe thead th {\n",
       "        text-align: right;\n",
       "    }\n",
       "</style>\n",
       "<table border=\"1\" class=\"dataframe\">\n",
       "  <thead>\n",
       "    <tr style=\"text-align: right;\">\n",
       "      <th></th>\n",
       "      <th>autogluon</th>\n",
       "      <th>autokeras</th>\n",
       "      <th>autosklearn</th>\n",
       "      <th>fedot</th>\n",
       "    </tr>\n",
       "  </thead>\n",
       "  <tbody>\n",
       "    <tr>\n",
       "      <th>autogluon</th>\n",
       "      <td>1.000000</td>\n",
       "      <td>1.679719e-03</td>\n",
       "      <td>9.528927e-04</td>\n",
       "      <td>0.088456</td>\n",
       "    </tr>\n",
       "    <tr>\n",
       "      <th>autokeras</th>\n",
       "      <td>0.001680</td>\n",
       "      <td>1.000000e+00</td>\n",
       "      <td>6.248156e-12</td>\n",
       "      <td>0.000803</td>\n",
       "    </tr>\n",
       "    <tr>\n",
       "      <th>autosklearn</th>\n",
       "      <td>0.000953</td>\n",
       "      <td>6.248156e-12</td>\n",
       "      <td>1.000000e+00</td>\n",
       "      <td>0.892527</td>\n",
       "    </tr>\n",
       "    <tr>\n",
       "      <th>fedot</th>\n",
       "      <td>0.088456</td>\n",
       "      <td>8.026368e-04</td>\n",
       "      <td>8.925271e-01</td>\n",
       "      <td>1.000000</td>\n",
       "    </tr>\n",
       "  </tbody>\n",
       "</table>\n",
       "</div>"
      ],
      "text/plain": [
       "             autogluon     autokeras   autosklearn     fedot\n",
       "autogluon     1.000000  1.679719e-03  9.528927e-04  0.088456\n",
       "autokeras     0.001680  1.000000e+00  6.248156e-12  0.000803\n",
       "autosklearn   0.000953  6.248156e-12  1.000000e+00  0.892527\n",
       "fedot         0.088456  8.026368e-04  8.925271e-01  1.000000"
      ]
     },
     "metadata": {},
     "output_type": "display_data"
    },
    {
     "name": "stdout",
     "output_type": "stream",
     "text": [
      "\n",
      "===== Dataset 41464 =====\n",
      "F1 Analysis:\n",
      "  chosen_transform: arcsine_sqrt\n",
      "  normal_tests: {'Shapiro-Wilk'}\n",
      "  assumptions: {'normal': True, 'homoscedastic': False}\n",
      "  method: Kruskal-Wallis + Dunn\n",
      "  kruskal_H: 52.459016393442624\n",
      "  kruskal_p: 4.061339800128413e-12\n",
      "  posthoc:\n"
     ]
    },
    {
     "data": {
      "text/html": [
       "<div>\n",
       "<style scoped>\n",
       "    .dataframe tbody tr th:only-of-type {\n",
       "        vertical-align: middle;\n",
       "    }\n",
       "\n",
       "    .dataframe tbody tr th {\n",
       "        vertical-align: top;\n",
       "    }\n",
       "\n",
       "    .dataframe thead th {\n",
       "        text-align: right;\n",
       "    }\n",
       "</style>\n",
       "<table border=\"1\" class=\"dataframe\">\n",
       "  <thead>\n",
       "    <tr style=\"text-align: right;\">\n",
       "      <th></th>\n",
       "      <th>autogluon</th>\n",
       "      <th>autokeras</th>\n",
       "      <th>autosklearn</th>\n",
       "      <th>fedot</th>\n",
       "    </tr>\n",
       "  </thead>\n",
       "  <tbody>\n",
       "    <tr>\n",
       "      <th>autogluon</th>\n",
       "      <td>1.000000e+00</td>\n",
       "      <td>0.000586</td>\n",
       "      <td>1.317964e-12</td>\n",
       "      <td>NaN</td>\n",
       "    </tr>\n",
       "    <tr>\n",
       "      <th>autokeras</th>\n",
       "      <td>5.859585e-04</td>\n",
       "      <td>1.000000</td>\n",
       "      <td>5.859585e-04</td>\n",
       "      <td>NaN</td>\n",
       "    </tr>\n",
       "    <tr>\n",
       "      <th>autosklearn</th>\n",
       "      <td>1.317964e-12</td>\n",
       "      <td>0.000586</td>\n",
       "      <td>1.000000e+00</td>\n",
       "      <td>NaN</td>\n",
       "    </tr>\n",
       "    <tr>\n",
       "      <th>fedot</th>\n",
       "      <td>NaN</td>\n",
       "      <td>NaN</td>\n",
       "      <td>NaN</td>\n",
       "      <td>NaN</td>\n",
       "    </tr>\n",
       "  </tbody>\n",
       "</table>\n",
       "</div>"
      ],
      "text/plain": [
       "                autogluon  autokeras   autosklearn  fedot\n",
       "autogluon    1.000000e+00   0.000586  1.317964e-12    NaN\n",
       "autokeras    5.859585e-04   1.000000  5.859585e-04    NaN\n",
       "autosklearn  1.317964e-12   0.000586  1.000000e+00    NaN\n",
       "fedot                 NaN        NaN           NaN    NaN"
      ]
     },
     "metadata": {},
     "output_type": "display_data"
    },
    {
     "name": "stdout",
     "output_type": "stream",
     "text": [
      "\n",
      "Time Analysis:\n",
      "  chosen_transform: log1p\n",
      "  normal_tests: {'Shapiro-Wilk'}\n",
      "  assumptions: {'normal': False, 'homoscedastic': False}\n",
      "  method: Kruskal-Wallis + Dunn\n",
      "  kruskal_H: 46.333114754098375\n",
      "  kruskal_p: 8.687442966701108e-11\n",
      "  posthoc:\n"
     ]
    },
    {
     "data": {
      "text/html": [
       "<div>\n",
       "<style scoped>\n",
       "    .dataframe tbody tr th:only-of-type {\n",
       "        vertical-align: middle;\n",
       "    }\n",
       "\n",
       "    .dataframe tbody tr th {\n",
       "        vertical-align: top;\n",
       "    }\n",
       "\n",
       "    .dataframe thead th {\n",
       "        text-align: right;\n",
       "    }\n",
       "</style>\n",
       "<table border=\"1\" class=\"dataframe\">\n",
       "  <thead>\n",
       "    <tr style=\"text-align: right;\">\n",
       "      <th></th>\n",
       "      <th>autogluon</th>\n",
       "      <th>autokeras</th>\n",
       "      <th>autosklearn</th>\n",
       "      <th>fedot</th>\n",
       "    </tr>\n",
       "  </thead>\n",
       "  <tbody>\n",
       "    <tr>\n",
       "      <th>autogluon</th>\n",
       "      <td>1.000000</td>\n",
       "      <td>7.902125e-05</td>\n",
       "      <td>8.201892e-03</td>\n",
       "      <td>NaN</td>\n",
       "    </tr>\n",
       "    <tr>\n",
       "      <th>autokeras</th>\n",
       "      <td>0.000079</td>\n",
       "      <td>1.000000e+00</td>\n",
       "      <td>4.315705e-11</td>\n",
       "      <td>NaN</td>\n",
       "    </tr>\n",
       "    <tr>\n",
       "      <th>autosklearn</th>\n",
       "      <td>0.008202</td>\n",
       "      <td>4.315705e-11</td>\n",
       "      <td>1.000000e+00</td>\n",
       "      <td>NaN</td>\n",
       "    </tr>\n",
       "    <tr>\n",
       "      <th>fedot</th>\n",
       "      <td>NaN</td>\n",
       "      <td>NaN</td>\n",
       "      <td>NaN</td>\n",
       "      <td>NaN</td>\n",
       "    </tr>\n",
       "  </tbody>\n",
       "</table>\n",
       "</div>"
      ],
      "text/plain": [
       "             autogluon     autokeras   autosklearn  fedot\n",
       "autogluon     1.000000  7.902125e-05  8.201892e-03    NaN\n",
       "autokeras     0.000079  1.000000e+00  4.315705e-11    NaN\n",
       "autosklearn   0.008202  4.315705e-11  1.000000e+00    NaN\n",
       "fedot              NaN           NaN           NaN    NaN"
      ]
     },
     "metadata": {},
     "output_type": "display_data"
    },
    {
     "name": "stdout",
     "output_type": "stream",
     "text": [
      "\n",
      "===== Dataset 41465 =====\n",
      "F1 Analysis:\n",
      "  chosen_transform: arcsine_sqrt\n",
      "  normal_tests: {'Shapiro-Wilk'}\n",
      "  assumptions: {'normal': True, 'homoscedastic': True}\n",
      "  method: ANOVA + Tukey\n",
      "  anova_F: 945.3866289416914\n",
      "  anova_p: 4.696135556148512e-60\n",
      "  posthoc:\n"
     ]
    },
    {
     "data": {
      "text/html": [
       "<div>\n",
       "<style scoped>\n",
       "    .dataframe tbody tr th:only-of-type {\n",
       "        vertical-align: middle;\n",
       "    }\n",
       "\n",
       "    .dataframe tbody tr th {\n",
       "        vertical-align: top;\n",
       "    }\n",
       "\n",
       "    .dataframe thead th {\n",
       "        text-align: right;\n",
       "    }\n",
       "</style>\n",
       "<table border=\"1\" class=\"dataframe\">\n",
       "  <thead>\n",
       "    <tr style=\"text-align: right;\">\n",
       "      <th></th>\n",
       "      <th>autogluon</th>\n",
       "      <th>autokeras</th>\n",
       "      <th>autosklearn</th>\n",
       "      <th>fedot</th>\n",
       "    </tr>\n",
       "  </thead>\n",
       "  <tbody>\n",
       "    <tr>\n",
       "      <th>autogluon</th>\n",
       "      <td>NaN</td>\n",
       "      <td>0.0</td>\n",
       "      <td>0.000000</td>\n",
       "      <td>0.000000</td>\n",
       "    </tr>\n",
       "    <tr>\n",
       "      <th>autokeras</th>\n",
       "      <td>0.0</td>\n",
       "      <td>NaN</td>\n",
       "      <td>0.000000</td>\n",
       "      <td>0.000000</td>\n",
       "    </tr>\n",
       "    <tr>\n",
       "      <th>autosklearn</th>\n",
       "      <td>0.0</td>\n",
       "      <td>0.0</td>\n",
       "      <td>NaN</td>\n",
       "      <td>0.000431</td>\n",
       "    </tr>\n",
       "    <tr>\n",
       "      <th>fedot</th>\n",
       "      <td>0.0</td>\n",
       "      <td>0.0</td>\n",
       "      <td>0.000431</td>\n",
       "      <td>NaN</td>\n",
       "    </tr>\n",
       "  </tbody>\n",
       "</table>\n",
       "</div>"
      ],
      "text/plain": [
       "             autogluon  autokeras  autosklearn     fedot\n",
       "autogluon          NaN        0.0     0.000000  0.000000\n",
       "autokeras          0.0        NaN     0.000000  0.000000\n",
       "autosklearn        0.0        0.0          NaN  0.000431\n",
       "fedot              0.0        0.0     0.000431       NaN"
      ]
     },
     "metadata": {},
     "output_type": "display_data"
    },
    {
     "name": "stdout",
     "output_type": "stream",
     "text": [
      "\n",
      "Time Analysis:\n",
      "  chosen_transform: log1p\n",
      "  normal_tests: {'Shapiro-Wilk'}\n",
      "  assumptions: {'normal': False, 'homoscedastic': False}\n",
      "  method: Kruskal-Wallis + Dunn\n",
      "  kruskal_H: 70.2962962962963\n",
      "  kruskal_p: 3.688169027696872e-15\n",
      "  posthoc:\n"
     ]
    },
    {
     "data": {
      "text/html": [
       "<div>\n",
       "<style scoped>\n",
       "    .dataframe tbody tr th:only-of-type {\n",
       "        vertical-align: middle;\n",
       "    }\n",
       "\n",
       "    .dataframe tbody tr th {\n",
       "        vertical-align: top;\n",
       "    }\n",
       "\n",
       "    .dataframe thead th {\n",
       "        text-align: right;\n",
       "    }\n",
       "</style>\n",
       "<table border=\"1\" class=\"dataframe\">\n",
       "  <thead>\n",
       "    <tr style=\"text-align: right;\">\n",
       "      <th></th>\n",
       "      <th>autogluon</th>\n",
       "      <th>autokeras</th>\n",
       "      <th>autosklearn</th>\n",
       "      <th>fedot</th>\n",
       "    </tr>\n",
       "  </thead>\n",
       "  <tbody>\n",
       "    <tr>\n",
       "      <th>autogluon</th>\n",
       "      <td>1.000000</td>\n",
       "      <td>1.299117e-02</td>\n",
       "      <td>5.245911e-03</td>\n",
       "      <td>1.910774e-06</td>\n",
       "    </tr>\n",
       "    <tr>\n",
       "      <th>autokeras</th>\n",
       "      <td>0.012991</td>\n",
       "      <td>1.000000e+00</td>\n",
       "      <td>2.434935e-08</td>\n",
       "      <td>5.229346e-14</td>\n",
       "    </tr>\n",
       "    <tr>\n",
       "      <th>autosklearn</th>\n",
       "      <td>0.005246</td>\n",
       "      <td>2.434935e-08</td>\n",
       "      <td>1.000000e+00</td>\n",
       "      <td>5.675945e-02</td>\n",
       "    </tr>\n",
       "    <tr>\n",
       "      <th>fedot</th>\n",
       "      <td>0.000002</td>\n",
       "      <td>5.229346e-14</td>\n",
       "      <td>5.675945e-02</td>\n",
       "      <td>1.000000e+00</td>\n",
       "    </tr>\n",
       "  </tbody>\n",
       "</table>\n",
       "</div>"
      ],
      "text/plain": [
       "             autogluon     autokeras   autosklearn         fedot\n",
       "autogluon     1.000000  1.299117e-02  5.245911e-03  1.910774e-06\n",
       "autokeras     0.012991  1.000000e+00  2.434935e-08  5.229346e-14\n",
       "autosklearn   0.005246  2.434935e-08  1.000000e+00  5.675945e-02\n",
       "fedot         0.000002  5.229346e-14  5.675945e-02  1.000000e+00"
      ]
     },
     "metadata": {},
     "output_type": "display_data"
    },
    {
     "name": "stdout",
     "output_type": "stream",
     "text": [
      "\n",
      "===== Dataset 41468 =====\n",
      "F1 Analysis:\n",
      "  chosen_transform: arcsine_sqrt\n",
      "  normal_tests: {'Shapiro-Wilk'}\n",
      "  assumptions: {'normal': True, 'homoscedastic': False}\n",
      "  method: Kruskal-Wallis + Dunn\n",
      "  kruskal_H: 68.43174294060373\n",
      "  kruskal_p: 9.247353982163571e-15\n",
      "  posthoc:\n"
     ]
    },
    {
     "data": {
      "text/html": [
       "<div>\n",
       "<style scoped>\n",
       "    .dataframe tbody tr th:only-of-type {\n",
       "        vertical-align: middle;\n",
       "    }\n",
       "\n",
       "    .dataframe tbody tr th {\n",
       "        vertical-align: top;\n",
       "    }\n",
       "\n",
       "    .dataframe thead th {\n",
       "        text-align: right;\n",
       "    }\n",
       "</style>\n",
       "<table border=\"1\" class=\"dataframe\">\n",
       "  <thead>\n",
       "    <tr style=\"text-align: right;\">\n",
       "      <th></th>\n",
       "      <th>autogluon</th>\n",
       "      <th>autokeras</th>\n",
       "      <th>autosklearn</th>\n",
       "      <th>fedot</th>\n",
       "    </tr>\n",
       "  </thead>\n",
       "  <tbody>\n",
       "    <tr>\n",
       "      <th>autogluon</th>\n",
       "      <td>1.000000e+00</td>\n",
       "      <td>3.194427e-07</td>\n",
       "      <td>2.238750e-14</td>\n",
       "      <td>0.019789</td>\n",
       "    </tr>\n",
       "    <tr>\n",
       "      <th>autokeras</th>\n",
       "      <td>3.194427e-07</td>\n",
       "      <td>1.000000e+00</td>\n",
       "      <td>2.174473e-02</td>\n",
       "      <td>0.021745</td>\n",
       "    </tr>\n",
       "    <tr>\n",
       "      <th>autosklearn</th>\n",
       "      <td>2.238750e-14</td>\n",
       "      <td>2.174473e-02</td>\n",
       "      <td>1.000000e+00</td>\n",
       "      <td>0.000003</td>\n",
       "    </tr>\n",
       "    <tr>\n",
       "      <th>fedot</th>\n",
       "      <td>1.978930e-02</td>\n",
       "      <td>2.174473e-02</td>\n",
       "      <td>3.167701e-06</td>\n",
       "      <td>1.000000</td>\n",
       "    </tr>\n",
       "  </tbody>\n",
       "</table>\n",
       "</div>"
      ],
      "text/plain": [
       "                autogluon     autokeras   autosklearn     fedot\n",
       "autogluon    1.000000e+00  3.194427e-07  2.238750e-14  0.019789\n",
       "autokeras    3.194427e-07  1.000000e+00  2.174473e-02  0.021745\n",
       "autosklearn  2.238750e-14  2.174473e-02  1.000000e+00  0.000003\n",
       "fedot        1.978930e-02  2.174473e-02  3.167701e-06  1.000000"
      ]
     },
     "metadata": {},
     "output_type": "display_data"
    },
    {
     "name": "stdout",
     "output_type": "stream",
     "text": [
      "\n",
      "Time Analysis:\n",
      "  chosen_transform: log1p\n",
      "  normal_tests: {'Shapiro-Wilk'}\n",
      "  assumptions: {'normal': False, 'homoscedastic': False}\n",
      "  method: Kruskal-Wallis + Dunn\n",
      "  kruskal_H: 62.98874824191279\n",
      "  kruskal_p: 1.350443122030475e-13\n",
      "  posthoc:\n"
     ]
    },
    {
     "data": {
      "text/html": [
       "<div>\n",
       "<style scoped>\n",
       "    .dataframe tbody tr th:only-of-type {\n",
       "        vertical-align: middle;\n",
       "    }\n",
       "\n",
       "    .dataframe tbody tr th {\n",
       "        vertical-align: top;\n",
       "    }\n",
       "\n",
       "    .dataframe thead th {\n",
       "        text-align: right;\n",
       "    }\n",
       "</style>\n",
       "<table border=\"1\" class=\"dataframe\">\n",
       "  <thead>\n",
       "    <tr style=\"text-align: right;\">\n",
       "      <th></th>\n",
       "      <th>autogluon</th>\n",
       "      <th>autokeras</th>\n",
       "      <th>autosklearn</th>\n",
       "      <th>fedot</th>\n",
       "    </tr>\n",
       "  </thead>\n",
       "  <tbody>\n",
       "    <tr>\n",
       "      <th>autogluon</th>\n",
       "      <td>1.000000e+00</td>\n",
       "      <td>9.443728e-01</td>\n",
       "      <td>0.000053</td>\n",
       "      <td>4.877696e-10</td>\n",
       "    </tr>\n",
       "    <tr>\n",
       "      <th>autokeras</th>\n",
       "      <td>9.443728e-01</td>\n",
       "      <td>1.000000e+00</td>\n",
       "      <td>0.000052</td>\n",
       "      <td>3.725647e-10</td>\n",
       "    </tr>\n",
       "    <tr>\n",
       "      <th>autosklearn</th>\n",
       "      <td>5.332221e-05</td>\n",
       "      <td>5.180270e-05</td>\n",
       "      <td>1.000000</td>\n",
       "      <td>4.358288e-02</td>\n",
       "    </tr>\n",
       "    <tr>\n",
       "      <th>fedot</th>\n",
       "      <td>4.877696e-10</td>\n",
       "      <td>3.725647e-10</td>\n",
       "      <td>0.043583</td>\n",
       "      <td>1.000000e+00</td>\n",
       "    </tr>\n",
       "  </tbody>\n",
       "</table>\n",
       "</div>"
      ],
      "text/plain": [
       "                autogluon     autokeras  autosklearn         fedot\n",
       "autogluon    1.000000e+00  9.443728e-01     0.000053  4.877696e-10\n",
       "autokeras    9.443728e-01  1.000000e+00     0.000052  3.725647e-10\n",
       "autosklearn  5.332221e-05  5.180270e-05     1.000000  4.358288e-02\n",
       "fedot        4.877696e-10  3.725647e-10     0.043583  1.000000e+00"
      ]
     },
     "metadata": {},
     "output_type": "display_data"
    },
    {
     "name": "stdout",
     "output_type": "stream",
     "text": [
      "\n",
      "===== Dataset 41470 =====\n",
      "F1 Analysis:\n",
      "  chosen_transform: arcsine_sqrt\n",
      "  normal_tests: {'Shapiro-Wilk'}\n",
      "  assumptions: {'normal': True, 'homoscedastic': False}\n",
      "  method: Kruskal-Wallis + Dunn\n",
      "  kruskal_H: 67.14833333333337\n",
      "  kruskal_p: 1.7406497889548168e-14\n",
      "  posthoc:\n"
     ]
    },
    {
     "data": {
      "text/html": [
       "<div>\n",
       "<style scoped>\n",
       "    .dataframe tbody tr th:only-of-type {\n",
       "        vertical-align: middle;\n",
       "    }\n",
       "\n",
       "    .dataframe tbody tr th {\n",
       "        vertical-align: top;\n",
       "    }\n",
       "\n",
       "    .dataframe thead th {\n",
       "        text-align: right;\n",
       "    }\n",
       "</style>\n",
       "<table border=\"1\" class=\"dataframe\">\n",
       "  <thead>\n",
       "    <tr style=\"text-align: right;\">\n",
       "      <th></th>\n",
       "      <th>autogluon</th>\n",
       "      <th>autokeras</th>\n",
       "      <th>autosklearn</th>\n",
       "      <th>fedot</th>\n",
       "    </tr>\n",
       "  </thead>\n",
       "  <tbody>\n",
       "    <tr>\n",
       "      <th>autogluon</th>\n",
       "      <td>1.000000e+00</td>\n",
       "      <td>0.000562</td>\n",
       "      <td>1.929158e-15</td>\n",
       "      <td>0.000047</td>\n",
       "    </tr>\n",
       "    <tr>\n",
       "      <th>autokeras</th>\n",
       "      <td>5.620906e-04</td>\n",
       "      <td>1.000000</td>\n",
       "      <td>4.722723e-05</td>\n",
       "      <td>0.487668</td>\n",
       "    </tr>\n",
       "    <tr>\n",
       "      <th>autosklearn</th>\n",
       "      <td>1.929158e-15</td>\n",
       "      <td>0.000047</td>\n",
       "      <td>1.000000e+00</td>\n",
       "      <td>0.000562</td>\n",
       "    </tr>\n",
       "    <tr>\n",
       "      <th>fedot</th>\n",
       "      <td>4.722723e-05</td>\n",
       "      <td>0.487668</td>\n",
       "      <td>5.620906e-04</td>\n",
       "      <td>1.000000</td>\n",
       "    </tr>\n",
       "  </tbody>\n",
       "</table>\n",
       "</div>"
      ],
      "text/plain": [
       "                autogluon  autokeras   autosklearn     fedot\n",
       "autogluon    1.000000e+00   0.000562  1.929158e-15  0.000047\n",
       "autokeras    5.620906e-04   1.000000  4.722723e-05  0.487668\n",
       "autosklearn  1.929158e-15   0.000047  1.000000e+00  0.000562\n",
       "fedot        4.722723e-05   0.487668  5.620906e-04  1.000000"
      ]
     },
     "metadata": {},
     "output_type": "display_data"
    },
    {
     "name": "stdout",
     "output_type": "stream",
     "text": [
      "\n",
      "Time Analysis:\n",
      "  chosen_transform: log1p\n",
      "  normal_tests: {'Shapiro-Wilk'}\n",
      "  assumptions: {'normal': False, 'homoscedastic': False}\n",
      "  method: Kruskal-Wallis + Dunn\n",
      "  kruskal_H: 72.51185185185187\n",
      "  kruskal_p: 1.2367047762752941e-15\n",
      "  posthoc:\n"
     ]
    },
    {
     "data": {
      "text/html": [
       "<div>\n",
       "<style scoped>\n",
       "    .dataframe tbody tr th:only-of-type {\n",
       "        vertical-align: middle;\n",
       "    }\n",
       "\n",
       "    .dataframe tbody tr th {\n",
       "        vertical-align: top;\n",
       "    }\n",
       "\n",
       "    .dataframe thead th {\n",
       "        text-align: right;\n",
       "    }\n",
       "</style>\n",
       "<table border=\"1\" class=\"dataframe\">\n",
       "  <thead>\n",
       "    <tr style=\"text-align: right;\">\n",
       "      <th></th>\n",
       "      <th>autogluon</th>\n",
       "      <th>autokeras</th>\n",
       "      <th>autosklearn</th>\n",
       "      <th>fedot</th>\n",
       "    </tr>\n",
       "  </thead>\n",
       "  <tbody>\n",
       "    <tr>\n",
       "      <th>autogluon</th>\n",
       "      <td>1.000000e+00</td>\n",
       "      <td>1.280017e-02</td>\n",
       "      <td>5.164573e-07</td>\n",
       "      <td>2.159169e-15</td>\n",
       "    </tr>\n",
       "    <tr>\n",
       "      <th>autokeras</th>\n",
       "      <td>1.280017e-02</td>\n",
       "      <td>1.000000e+00</td>\n",
       "      <td>1.377423e-02</td>\n",
       "      <td>5.164573e-07</td>\n",
       "    </tr>\n",
       "    <tr>\n",
       "      <th>autosklearn</th>\n",
       "      <td>5.164573e-07</td>\n",
       "      <td>1.377423e-02</td>\n",
       "      <td>1.000000e+00</td>\n",
       "      <td>1.280017e-02</td>\n",
       "    </tr>\n",
       "    <tr>\n",
       "      <th>fedot</th>\n",
       "      <td>2.159169e-15</td>\n",
       "      <td>5.164573e-07</td>\n",
       "      <td>1.280017e-02</td>\n",
       "      <td>1.000000e+00</td>\n",
       "    </tr>\n",
       "  </tbody>\n",
       "</table>\n",
       "</div>"
      ],
      "text/plain": [
       "                autogluon     autokeras   autosklearn         fedot\n",
       "autogluon    1.000000e+00  1.280017e-02  5.164573e-07  2.159169e-15\n",
       "autokeras    1.280017e-02  1.000000e+00  1.377423e-02  5.164573e-07\n",
       "autosklearn  5.164573e-07  1.377423e-02  1.000000e+00  1.280017e-02\n",
       "fedot        2.159169e-15  5.164573e-07  1.280017e-02  1.000000e+00"
      ]
     },
     "metadata": {},
     "output_type": "display_data"
    },
    {
     "name": "stdout",
     "output_type": "stream",
     "text": [
      "\n",
      "===== Dataset 41471 =====\n",
      "F1 Analysis:\n",
      "  chosen_transform: arcsine_sqrt\n",
      "  normal_tests: {'Shapiro-Wilk'}\n",
      "  assumptions: {'normal': False, 'homoscedastic': True}\n",
      "  method: Kruskal-Wallis + Dunn\n",
      "  kruskal_H: 70.38907407407407\n",
      "  kruskal_p: 3.523245992504394e-15\n",
      "  posthoc:\n"
     ]
    },
    {
     "data": {
      "text/html": [
       "<div>\n",
       "<style scoped>\n",
       "    .dataframe tbody tr th:only-of-type {\n",
       "        vertical-align: middle;\n",
       "    }\n",
       "\n",
       "    .dataframe tbody tr th {\n",
       "        vertical-align: top;\n",
       "    }\n",
       "\n",
       "    .dataframe thead th {\n",
       "        text-align: right;\n",
       "    }\n",
       "</style>\n",
       "<table border=\"1\" class=\"dataframe\">\n",
       "  <thead>\n",
       "    <tr style=\"text-align: right;\">\n",
       "      <th></th>\n",
       "      <th>autogluon</th>\n",
       "      <th>autokeras</th>\n",
       "      <th>autosklearn</th>\n",
       "      <th>fedot</th>\n",
       "    </tr>\n",
       "  </thead>\n",
       "  <tbody>\n",
       "    <tr>\n",
       "      <th>autogluon</th>\n",
       "      <td>1.000000e+00</td>\n",
       "      <td>0.000001</td>\n",
       "      <td>3.197997e-15</td>\n",
       "      <td>0.007389</td>\n",
       "    </tr>\n",
       "    <tr>\n",
       "      <th>autokeras</th>\n",
       "      <td>1.005264e-06</td>\n",
       "      <td>1.000000</td>\n",
       "      <td>7.389217e-03</td>\n",
       "      <td>0.029967</td>\n",
       "    </tr>\n",
       "    <tr>\n",
       "      <th>autosklearn</th>\n",
       "      <td>3.197997e-15</td>\n",
       "      <td>0.007389</td>\n",
       "      <td>1.000000e+00</td>\n",
       "      <td>0.000002</td>\n",
       "    </tr>\n",
       "    <tr>\n",
       "      <th>fedot</th>\n",
       "      <td>7.389217e-03</td>\n",
       "      <td>0.029967</td>\n",
       "      <td>1.542769e-06</td>\n",
       "      <td>1.000000</td>\n",
       "    </tr>\n",
       "  </tbody>\n",
       "</table>\n",
       "</div>"
      ],
      "text/plain": [
       "                autogluon  autokeras   autosklearn     fedot\n",
       "autogluon    1.000000e+00   0.000001  3.197997e-15  0.007389\n",
       "autokeras    1.005264e-06   1.000000  7.389217e-03  0.029967\n",
       "autosklearn  3.197997e-15   0.007389  1.000000e+00  0.000002\n",
       "fedot        7.389217e-03   0.029967  1.542769e-06  1.000000"
      ]
     },
     "metadata": {},
     "output_type": "display_data"
    },
    {
     "name": "stdout",
     "output_type": "stream",
     "text": [
      "\n",
      "Time Analysis:\n",
      "  chosen_transform: log1p\n",
      "  normal_tests: {'Shapiro-Wilk'}\n",
      "  assumptions: {'normal': False, 'homoscedastic': False}\n",
      "  method: Kruskal-Wallis + Dunn\n",
      "  kruskal_H: 72.3901851851852\n",
      "  kruskal_p: 1.3131992834014296e-15\n",
      "  posthoc:\n"
     ]
    },
    {
     "data": {
      "text/html": [
       "<div>\n",
       "<style scoped>\n",
       "    .dataframe tbody tr th:only-of-type {\n",
       "        vertical-align: middle;\n",
       "    }\n",
       "\n",
       "    .dataframe tbody tr th {\n",
       "        vertical-align: top;\n",
       "    }\n",
       "\n",
       "    .dataframe thead th {\n",
       "        text-align: right;\n",
       "    }\n",
       "</style>\n",
       "<table border=\"1\" class=\"dataframe\">\n",
       "  <thead>\n",
       "    <tr style=\"text-align: right;\">\n",
       "      <th></th>\n",
       "      <th>autogluon</th>\n",
       "      <th>autokeras</th>\n",
       "      <th>autosklearn</th>\n",
       "      <th>fedot</th>\n",
       "    </tr>\n",
       "  </thead>\n",
       "  <tbody>\n",
       "    <tr>\n",
       "      <th>autogluon</th>\n",
       "      <td>1.000000e+00</td>\n",
       "      <td>1.272618e-02</td>\n",
       "      <td>1.252838e-02</td>\n",
       "      <td>5.167039e-07</td>\n",
       "    </tr>\n",
       "    <tr>\n",
       "      <th>autokeras</th>\n",
       "      <td>1.272618e-02</td>\n",
       "      <td>1.000000e+00</td>\n",
       "      <td>1.115886e-07</td>\n",
       "      <td>6.968621e-15</td>\n",
       "    </tr>\n",
       "    <tr>\n",
       "      <th>autosklearn</th>\n",
       "      <td>1.252838e-02</td>\n",
       "      <td>1.115886e-07</td>\n",
       "      <td>1.000000e+00</td>\n",
       "      <td>1.571496e-02</td>\n",
       "    </tr>\n",
       "    <tr>\n",
       "      <th>fedot</th>\n",
       "      <td>5.167039e-07</td>\n",
       "      <td>6.968621e-15</td>\n",
       "      <td>1.571496e-02</td>\n",
       "      <td>1.000000e+00</td>\n",
       "    </tr>\n",
       "  </tbody>\n",
       "</table>\n",
       "</div>"
      ],
      "text/plain": [
       "                autogluon     autokeras   autosklearn         fedot\n",
       "autogluon    1.000000e+00  1.272618e-02  1.252838e-02  5.167039e-07\n",
       "autokeras    1.272618e-02  1.000000e+00  1.115886e-07  6.968621e-15\n",
       "autosklearn  1.252838e-02  1.115886e-07  1.000000e+00  1.571496e-02\n",
       "fedot        5.167039e-07  6.968621e-15  1.571496e-02  1.000000e+00"
      ]
     },
     "metadata": {},
     "output_type": "display_data"
    },
    {
     "name": "stdout",
     "output_type": "stream",
     "text": [
      "\n",
      "===== Dataset 41473 =====\n",
      "F1 Analysis:\n",
      "  chosen_transform: arcsine_sqrt\n",
      "  normal_tests: {'Shapiro-Wilk'}\n",
      "  assumptions: {'normal': True, 'homoscedastic': True}\n",
      "  method: ANOVA + Tukey\n",
      "  anova_F: 3446.5784042621262\n",
      "  anova_p: 3.1277754173899806e-80\n",
      "  posthoc:\n"
     ]
    },
    {
     "data": {
      "text/html": [
       "<div>\n",
       "<style scoped>\n",
       "    .dataframe tbody tr th:only-of-type {\n",
       "        vertical-align: middle;\n",
       "    }\n",
       "\n",
       "    .dataframe tbody tr th {\n",
       "        vertical-align: top;\n",
       "    }\n",
       "\n",
       "    .dataframe thead th {\n",
       "        text-align: right;\n",
       "    }\n",
       "</style>\n",
       "<table border=\"1\" class=\"dataframe\">\n",
       "  <thead>\n",
       "    <tr style=\"text-align: right;\">\n",
       "      <th></th>\n",
       "      <th>autogluon</th>\n",
       "      <th>autokeras</th>\n",
       "      <th>autosklearn</th>\n",
       "      <th>fedot</th>\n",
       "    </tr>\n",
       "  </thead>\n",
       "  <tbody>\n",
       "    <tr>\n",
       "      <th>autogluon</th>\n",
       "      <td>NaN</td>\n",
       "      <td>0.077498</td>\n",
       "      <td>0.000000e+00</td>\n",
       "      <td>0.000000e+00</td>\n",
       "    </tr>\n",
       "    <tr>\n",
       "      <th>autokeras</th>\n",
       "      <td>0.077498</td>\n",
       "      <td>NaN</td>\n",
       "      <td>0.000000e+00</td>\n",
       "      <td>0.000000e+00</td>\n",
       "    </tr>\n",
       "    <tr>\n",
       "      <th>autosklearn</th>\n",
       "      <td>0.000000</td>\n",
       "      <td>0.000000</td>\n",
       "      <td>NaN</td>\n",
       "      <td>2.317257e-12</td>\n",
       "    </tr>\n",
       "    <tr>\n",
       "      <th>fedot</th>\n",
       "      <td>0.000000</td>\n",
       "      <td>0.000000</td>\n",
       "      <td>2.317257e-12</td>\n",
       "      <td>NaN</td>\n",
       "    </tr>\n",
       "  </tbody>\n",
       "</table>\n",
       "</div>"
      ],
      "text/plain": [
       "             autogluon  autokeras   autosklearn         fedot\n",
       "autogluon          NaN   0.077498  0.000000e+00  0.000000e+00\n",
       "autokeras     0.077498        NaN  0.000000e+00  0.000000e+00\n",
       "autosklearn   0.000000   0.000000           NaN  2.317257e-12\n",
       "fedot         0.000000   0.000000  2.317257e-12           NaN"
      ]
     },
     "metadata": {},
     "output_type": "display_data"
    },
    {
     "name": "stdout",
     "output_type": "stream",
     "text": [
      "\n",
      "Time Analysis:\n",
      "  chosen_transform: log1p\n",
      "  normal_tests: {'Shapiro-Wilk'}\n",
      "  assumptions: {'normal': False, 'homoscedastic': False}\n",
      "  method: Kruskal-Wallis + Dunn\n",
      "  kruskal_H: 65.5027265156562\n",
      "  kruskal_p: 3.915777695154622e-14\n",
      "  posthoc:\n"
     ]
    },
    {
     "data": {
      "text/html": [
       "<div>\n",
       "<style scoped>\n",
       "    .dataframe tbody tr th:only-of-type {\n",
       "        vertical-align: middle;\n",
       "    }\n",
       "\n",
       "    .dataframe tbody tr th {\n",
       "        vertical-align: top;\n",
       "    }\n",
       "\n",
       "    .dataframe thead th {\n",
       "        text-align: right;\n",
       "    }\n",
       "</style>\n",
       "<table border=\"1\" class=\"dataframe\">\n",
       "  <thead>\n",
       "    <tr style=\"text-align: right;\">\n",
       "      <th></th>\n",
       "      <th>autogluon</th>\n",
       "      <th>autokeras</th>\n",
       "      <th>autosklearn</th>\n",
       "      <th>fedot</th>\n",
       "    </tr>\n",
       "  </thead>\n",
       "  <tbody>\n",
       "    <tr>\n",
       "      <th>autogluon</th>\n",
       "      <td>1.000000</td>\n",
       "      <td>9.406954e-05</td>\n",
       "      <td>0.777576</td>\n",
       "      <td>2.244555e-04</td>\n",
       "    </tr>\n",
       "    <tr>\n",
       "      <th>autokeras</th>\n",
       "      <td>0.000094</td>\n",
       "      <td>1.000000e+00</td>\n",
       "      <td>0.000193</td>\n",
       "      <td>3.704758e-15</td>\n",
       "    </tr>\n",
       "    <tr>\n",
       "      <th>autosklearn</th>\n",
       "      <td>0.777576</td>\n",
       "      <td>1.932307e-04</td>\n",
       "      <td>1.000000</td>\n",
       "      <td>1.381105e-04</td>\n",
       "    </tr>\n",
       "    <tr>\n",
       "      <th>fedot</th>\n",
       "      <td>0.000224</td>\n",
       "      <td>3.704758e-15</td>\n",
       "      <td>0.000138</td>\n",
       "      <td>1.000000e+00</td>\n",
       "    </tr>\n",
       "  </tbody>\n",
       "</table>\n",
       "</div>"
      ],
      "text/plain": [
       "             autogluon     autokeras  autosklearn         fedot\n",
       "autogluon     1.000000  9.406954e-05     0.777576  2.244555e-04\n",
       "autokeras     0.000094  1.000000e+00     0.000193  3.704758e-15\n",
       "autosklearn   0.777576  1.932307e-04     1.000000  1.381105e-04\n",
       "fedot         0.000224  3.704758e-15     0.000138  1.000000e+00"
      ]
     },
     "metadata": {},
     "output_type": "display_data"
    }
   ],
   "source": [
    "# ========================\n",
    "# ====== MAIN CALL =======\n",
    "# ========================\n",
    "\n",
    "# Example CSV structure: dataset, framework, trial, f1, training_time\n",
    "# e.g., \"31,autogluon,1,0.6949,8.6927\"\n",
    "df = pd.read_csv(f\"stats/{scenario}/experimental_results.csv\")\n",
    "df = df.rename(columns={\n",
    "    'Dataset': 'dataset', \n",
    "    'Dataset Type': 'type', \n",
    "    'Framework': 'framework', \n",
    "    'Trial': 'trial', \n",
    "    'F1 Score': 'f1', \n",
    "    'Training Time': 'training_time'}\n",
    ")\n",
    "\n",
    "# Run the analysis\n",
    "results = analyze_per_dataset(df)\n",
    "\n",
    "# Assert statistical significance\n",
    "# assert len(results) == df['dataset'].nunique(), 'Some datasets are missing in the results'\n",
    "# assert all(isinstance(r['f1_analysis']['posthoc'], pd.DataFrame) for r in results), \"Not all posthoc F1 Score results are DataFrames\"\n",
    "# assert all(isinstance(r['time_analysis']['posthoc'], pd.DataFrame) for r in results), \"Not all posthoc Training Time results are DataFrames\"\n",
    "\n",
    "# Print some sample outputs\n",
    "for r in results:\n",
    "    print(f\"\\n===== Dataset {r['dataset']} =====\")\n",
    "    print(\"F1 Analysis:\")\n",
    "    for k, v in r['f1_analysis'].items():\n",
    "        print_formatted_result(k, v)\n",
    "    print(\"\\nTime Analysis:\")\n",
    "    for k, v in r['time_analysis'].items():\n",
    "        print_formatted_result(k, v)"
   ]
  },
  {
   "cell_type": "markdown",
   "id": "ab2ba14a-4ba7-47b2-b33b-ec3a44cdde9e",
   "metadata": {
    "papermill": {
     "duration": 0.004997,
     "end_time": "2025-02-15T07:22:56.991153",
     "exception": false,
     "start_time": "2025-02-15T07:22:56.986156",
     "status": "completed"
    },
    "tags": []
   },
   "source": [
    "## Statistical assumptions and test results "
   ]
  },
  {
   "cell_type": "code",
   "execution_count": 16,
   "id": "c509f176-0300-4ed1-a74f-17d22c785364",
   "metadata": {
    "execution": {
     "iopub.execute_input": "2025-02-15T07:22:57.004152Z",
     "iopub.status.busy": "2025-02-15T07:22:57.003150Z",
     "iopub.status.idle": "2025-02-15T07:22:57.025551Z",
     "shell.execute_reply": "2025-02-15T07:22:57.025551Z"
    },
    "papermill": {
     "duration": 0.029415,
     "end_time": "2025-02-15T07:22:57.026566",
     "exception": false,
     "start_time": "2025-02-15T07:22:56.997151",
     "status": "completed"
    },
    "tags": []
   },
   "outputs": [
    {
     "data": {
      "text/html": [
       "<div>\n",
       "<style scoped>\n",
       "    .dataframe tbody tr th:only-of-type {\n",
       "        vertical-align: middle;\n",
       "    }\n",
       "\n",
       "    .dataframe tbody tr th {\n",
       "        vertical-align: top;\n",
       "    }\n",
       "\n",
       "    .dataframe thead th {\n",
       "        text-align: right;\n",
       "    }\n",
       "</style>\n",
       "<table border=\"1\" class=\"dataframe\">\n",
       "  <thead>\n",
       "    <tr style=\"text-align: right;\">\n",
       "      <th></th>\n",
       "      <th>normal</th>\n",
       "      <th>homoscedastic</th>\n",
       "      <th>parametric</th>\n",
       "      <th>method</th>\n",
       "      <th>p-value</th>\n",
       "      <th>significant</th>\n",
       "    </tr>\n",
       "    <tr>\n",
       "      <th>dataset</th>\n",
       "      <th></th>\n",
       "      <th></th>\n",
       "      <th></th>\n",
       "      <th></th>\n",
       "      <th></th>\n",
       "      <th></th>\n",
       "    </tr>\n",
       "  </thead>\n",
       "  <tbody>\n",
       "    <tr>\n",
       "      <th>285</th>\n",
       "      <td>False</td>\n",
       "      <td>False</td>\n",
       "      <td>False</td>\n",
       "      <td>Kruskal-Wallis + Dunn</td>\n",
       "      <td>1.992426e-09</td>\n",
       "      <td>True</td>\n",
       "    </tr>\n",
       "    <tr>\n",
       "      <th>41464</th>\n",
       "      <td>True</td>\n",
       "      <td>False</td>\n",
       "      <td>False</td>\n",
       "      <td>Kruskal-Wallis + Dunn</td>\n",
       "      <td>4.061340e-12</td>\n",
       "      <td>True</td>\n",
       "    </tr>\n",
       "    <tr>\n",
       "      <th>41465</th>\n",
       "      <td>True</td>\n",
       "      <td>True</td>\n",
       "      <td>True</td>\n",
       "      <td>ANOVA + Tukey</td>\n",
       "      <td>4.696136e-60</td>\n",
       "      <td>True</td>\n",
       "    </tr>\n",
       "    <tr>\n",
       "      <th>41468</th>\n",
       "      <td>True</td>\n",
       "      <td>False</td>\n",
       "      <td>False</td>\n",
       "      <td>Kruskal-Wallis + Dunn</td>\n",
       "      <td>9.247354e-15</td>\n",
       "      <td>True</td>\n",
       "    </tr>\n",
       "    <tr>\n",
       "      <th>41470</th>\n",
       "      <td>True</td>\n",
       "      <td>False</td>\n",
       "      <td>False</td>\n",
       "      <td>Kruskal-Wallis + Dunn</td>\n",
       "      <td>1.740650e-14</td>\n",
       "      <td>True</td>\n",
       "    </tr>\n",
       "    <tr>\n",
       "      <th>41471</th>\n",
       "      <td>False</td>\n",
       "      <td>True</td>\n",
       "      <td>False</td>\n",
       "      <td>Kruskal-Wallis + Dunn</td>\n",
       "      <td>3.523246e-15</td>\n",
       "      <td>True</td>\n",
       "    </tr>\n",
       "    <tr>\n",
       "      <th>41473</th>\n",
       "      <td>True</td>\n",
       "      <td>True</td>\n",
       "      <td>True</td>\n",
       "      <td>ANOVA + Tukey</td>\n",
       "      <td>3.127775e-80</td>\n",
       "      <td>True</td>\n",
       "    </tr>\n",
       "  </tbody>\n",
       "</table>\n",
       "</div>"
      ],
      "text/plain": [
       "         normal  homoscedastic  parametric                 method  \\\n",
       "dataset                                                             \n",
       "285       False          False       False  Kruskal-Wallis + Dunn   \n",
       "41464      True          False       False  Kruskal-Wallis + Dunn   \n",
       "41465      True           True        True          ANOVA + Tukey   \n",
       "41468      True          False       False  Kruskal-Wallis + Dunn   \n",
       "41470      True          False       False  Kruskal-Wallis + Dunn   \n",
       "41471     False           True       False  Kruskal-Wallis + Dunn   \n",
       "41473      True           True        True          ANOVA + Tukey   \n",
       "\n",
       "              p-value  significant  \n",
       "dataset                             \n",
       "285      1.992426e-09         True  \n",
       "41464    4.061340e-12         True  \n",
       "41465    4.696136e-60         True  \n",
       "41468    9.247354e-15         True  \n",
       "41470    1.740650e-14         True  \n",
       "41471    3.523246e-15         True  \n",
       "41473    3.127775e-80         True  "
      ]
     },
     "execution_count": 16,
     "metadata": {},
     "output_type": "execute_result"
    }
   ],
   "source": [
    "f1_stat_results = pd.DataFrame([\n",
    "    {\n",
    "        'dataset': r['dataset'],\n",
    "        'normal': r['f1_analysis']['assumptions']['normal'],\n",
    "        'homoscedastic': r['f1_analysis']['assumptions']['homoscedastic'],\n",
    "        'parametric': r['f1_analysis']['assumptions']['normal'] and r['f1_analysis']['assumptions']['homoscedastic'],\n",
    "        'method': r['f1_analysis']['method'],\n",
    "        'p-value': r['f1_analysis']['kruskal_p'] if 'Kruskal' in r['f1_analysis']['method'] else r['f1_analysis']['anova_p'],\n",
    "        'significant': (r['f1_analysis']['kruskal_p'] < alpha) if 'Kruskal' in r['f1_analysis']['method'] else (r['f1_analysis']['anova_p'] < alpha),\n",
    "    }\n",
    "    for r in results\n",
    "]).set_index('dataset')\n",
    "\n",
    "f1_stat_results.to_csv(f\"stats/{scenario}/step_1_per_dataset_stat_results_f1.csv\")\n",
    "f1_stat_results"
   ]
  },
  {
   "cell_type": "code",
   "execution_count": 17,
   "id": "0ee2ccc6-4513-4232-b6aa-2ac1555e3403",
   "metadata": {
    "execution": {
     "iopub.execute_input": "2025-02-15T07:22:57.038570Z",
     "iopub.status.busy": "2025-02-15T07:22:57.038570Z",
     "iopub.status.idle": "2025-02-15T07:22:57.056745Z",
     "shell.execute_reply": "2025-02-15T07:22:57.056745Z"
    },
    "papermill": {
     "duration": 0.025191,
     "end_time": "2025-02-15T07:22:57.057760",
     "exception": false,
     "start_time": "2025-02-15T07:22:57.032569",
     "status": "completed"
    },
    "tags": []
   },
   "outputs": [
    {
     "data": {
      "text/html": [
       "<div>\n",
       "<style scoped>\n",
       "    .dataframe tbody tr th:only-of-type {\n",
       "        vertical-align: middle;\n",
       "    }\n",
       "\n",
       "    .dataframe tbody tr th {\n",
       "        vertical-align: top;\n",
       "    }\n",
       "\n",
       "    .dataframe thead th {\n",
       "        text-align: right;\n",
       "    }\n",
       "</style>\n",
       "<table border=\"1\" class=\"dataframe\">\n",
       "  <thead>\n",
       "    <tr style=\"text-align: right;\">\n",
       "      <th></th>\n",
       "      <th>normal</th>\n",
       "      <th>homoscedastic</th>\n",
       "      <th>parametric</th>\n",
       "      <th>method</th>\n",
       "      <th>p-value</th>\n",
       "      <th>significant</th>\n",
       "    </tr>\n",
       "    <tr>\n",
       "      <th>dataset</th>\n",
       "      <th></th>\n",
       "      <th></th>\n",
       "      <th></th>\n",
       "      <th></th>\n",
       "      <th></th>\n",
       "      <th></th>\n",
       "    </tr>\n",
       "  </thead>\n",
       "  <tbody>\n",
       "    <tr>\n",
       "      <th>285</th>\n",
       "      <td>False</td>\n",
       "      <td>False</td>\n",
       "      <td>False</td>\n",
       "      <td>Kruskal-Wallis + Dunn</td>\n",
       "      <td>6.706115e-12</td>\n",
       "      <td>True</td>\n",
       "    </tr>\n",
       "    <tr>\n",
       "      <th>41464</th>\n",
       "      <td>False</td>\n",
       "      <td>False</td>\n",
       "      <td>False</td>\n",
       "      <td>Kruskal-Wallis + Dunn</td>\n",
       "      <td>8.687443e-11</td>\n",
       "      <td>True</td>\n",
       "    </tr>\n",
       "    <tr>\n",
       "      <th>41465</th>\n",
       "      <td>False</td>\n",
       "      <td>False</td>\n",
       "      <td>False</td>\n",
       "      <td>Kruskal-Wallis + Dunn</td>\n",
       "      <td>3.688169e-15</td>\n",
       "      <td>True</td>\n",
       "    </tr>\n",
       "    <tr>\n",
       "      <th>41468</th>\n",
       "      <td>False</td>\n",
       "      <td>False</td>\n",
       "      <td>False</td>\n",
       "      <td>Kruskal-Wallis + Dunn</td>\n",
       "      <td>1.350443e-13</td>\n",
       "      <td>True</td>\n",
       "    </tr>\n",
       "    <tr>\n",
       "      <th>41470</th>\n",
       "      <td>False</td>\n",
       "      <td>False</td>\n",
       "      <td>False</td>\n",
       "      <td>Kruskal-Wallis + Dunn</td>\n",
       "      <td>1.236705e-15</td>\n",
       "      <td>True</td>\n",
       "    </tr>\n",
       "    <tr>\n",
       "      <th>41471</th>\n",
       "      <td>False</td>\n",
       "      <td>False</td>\n",
       "      <td>False</td>\n",
       "      <td>Kruskal-Wallis + Dunn</td>\n",
       "      <td>1.313199e-15</td>\n",
       "      <td>True</td>\n",
       "    </tr>\n",
       "    <tr>\n",
       "      <th>41473</th>\n",
       "      <td>False</td>\n",
       "      <td>False</td>\n",
       "      <td>False</td>\n",
       "      <td>Kruskal-Wallis + Dunn</td>\n",
       "      <td>3.915778e-14</td>\n",
       "      <td>True</td>\n",
       "    </tr>\n",
       "  </tbody>\n",
       "</table>\n",
       "</div>"
      ],
      "text/plain": [
       "         normal  homoscedastic  parametric                 method  \\\n",
       "dataset                                                             \n",
       "285       False          False       False  Kruskal-Wallis + Dunn   \n",
       "41464     False          False       False  Kruskal-Wallis + Dunn   \n",
       "41465     False          False       False  Kruskal-Wallis + Dunn   \n",
       "41468     False          False       False  Kruskal-Wallis + Dunn   \n",
       "41470     False          False       False  Kruskal-Wallis + Dunn   \n",
       "41471     False          False       False  Kruskal-Wallis + Dunn   \n",
       "41473     False          False       False  Kruskal-Wallis + Dunn   \n",
       "\n",
       "              p-value  significant  \n",
       "dataset                             \n",
       "285      6.706115e-12         True  \n",
       "41464    8.687443e-11         True  \n",
       "41465    3.688169e-15         True  \n",
       "41468    1.350443e-13         True  \n",
       "41470    1.236705e-15         True  \n",
       "41471    1.313199e-15         True  \n",
       "41473    3.915778e-14         True  "
      ]
     },
     "execution_count": 17,
     "metadata": {},
     "output_type": "execute_result"
    }
   ],
   "source": [
    "time_stat_results = pd.DataFrame([\n",
    "    {\n",
    "        'dataset': r['dataset'],\n",
    "        'normal': r['time_analysis']['assumptions']['normal'],\n",
    "        'homoscedastic': r['time_analysis']['assumptions']['homoscedastic'],\n",
    "        'parametric': r['time_analysis']['assumptions']['normal'] and r['time_analysis']['assumptions']['homoscedastic'],\n",
    "        'method': r['time_analysis']['method'],\n",
    "        'p-value': r['time_analysis']['kruskal_p'] if 'Kruskal' in r['time_analysis']['method'] else r['time_analysis']['anova_p'],\n",
    "        'significant': (r['time_analysis']['kruskal_p'] < alpha) if 'Kruskal' in r['time_analysis']['method'] else (r['time_analysis']['anova_p'] < alpha),\n",
    "    }\n",
    "    for r in results\n",
    "]).set_index('dataset')\n",
    "\n",
    "time_stat_results.to_csv(f\"stats/{scenario}/step_1_per_dataset_stat_results_time.csv\")\n",
    "time_stat_results"
   ]
  },
  {
   "cell_type": "markdown",
   "id": "07bdf909-97b2-49b2-a159-c5b8fd4c142b",
   "metadata": {
    "papermill": {
     "duration": 0.005004,
     "end_time": "2025-02-15T07:22:57.069764",
     "exception": false,
     "start_time": "2025-02-15T07:22:57.064760",
     "status": "completed"
    },
    "tags": []
   },
   "source": [
    "## Plots"
   ]
  },
  {
   "cell_type": "code",
   "execution_count": 18,
   "id": "bf2ff9bd-1228-411b-a0aa-a794ce61034b",
   "metadata": {
    "execution": {
     "iopub.execute_input": "2025-02-15T07:22:57.081759Z",
     "iopub.status.busy": "2025-02-15T07:22:57.081759Z",
     "iopub.status.idle": "2025-02-15T07:22:57.088761Z",
     "shell.execute_reply": "2025-02-15T07:22:57.088761Z"
    },
    "papermill": {
     "duration": 0.015002,
     "end_time": "2025-02-15T07:22:57.089761",
     "exception": false,
     "start_time": "2025-02-15T07:22:57.074759",
     "status": "completed"
    },
    "tags": []
   },
   "outputs": [],
   "source": [
    "def aggregate_posthocs():\n",
    "    posthocs_agg = [{\n",
    "        'dataset': r['dataset'],\n",
    "        'posthoc_f1': r['f1_analysis']['posthoc'],\n",
    "        'posthoc_training_time': r['time_analysis']['posthoc']\n",
    "    } for r in results]\n",
    "    return posthocs_agg"
   ]
  },
  {
   "cell_type": "code",
   "execution_count": 19,
   "id": "9afa7519-75ca-41f2-94b3-00efad46a050",
   "metadata": {
    "execution": {
     "iopub.execute_input": "2025-02-15T07:22:57.102761Z",
     "iopub.status.busy": "2025-02-15T07:22:57.102761Z",
     "iopub.status.idle": "2025-02-15T07:22:57.120774Z",
     "shell.execute_reply": "2025-02-15T07:22:57.120774Z"
    },
    "papermill": {
     "duration": 0.027018,
     "end_time": "2025-02-15T07:22:57.122776",
     "exception": false,
     "start_time": "2025-02-15T07:22:57.095758",
     "status": "completed"
    },
    "tags": []
   },
   "outputs": [],
   "source": [
    "def create_mean_metric_dict(df, dataset_col='dataset', framework_col='framework', metric_col='f1'):\n",
    "    \"\"\"\n",
    "    Create a nested dictionary: mean_metric_dict[dataset_id][framework_name] = mean(metric).\n",
    "    \n",
    "    :param df: A DataFrame with columns for dataset, framework, and metric (e.g., f1).\n",
    "    :param dataset_col: Name of the column that identifies each dataset.\n",
    "    :param framework_col: Name of the column that identifies each framework.\n",
    "    :param metric_col: Name of the metric column (e.g. 'f1').\n",
    "    :return: A dict of dicts. For example:\n",
    "             {\n",
    "                 31: {'autogluon': 0.68, 'autokeras': 0.70, '4intelligence': 0.60},\n",
    "                 37: {'autogluon': 0.76, 'autokeras': 0.75, '4intelligence': 0.83},\n",
    "                 ...\n",
    "             }\n",
    "    \"\"\"\n",
    "\n",
    "    # 1) Group by dataset and framework, compute the mean of the metric\n",
    "    grouped = df.groupby([dataset_col, framework_col], as_index=False)[metric_col].mean()\n",
    "\n",
    "    # 2) Build the nested dictionary\n",
    "    mean_dict = {}\n",
    "    for _, row in grouped.iterrows():\n",
    "        ds = row[dataset_col]\n",
    "        fw = row[framework_col]\n",
    "        val = row[metric_col]\n",
    "        \n",
    "        if ds not in mean_dict:\n",
    "            mean_dict[ds] = {}\n",
    "        mean_dict[ds][fw] = val\n",
    "\n",
    "    return mean_dict"
   ]
  },
  {
   "cell_type": "code",
   "execution_count": 20,
   "id": "3df1a132-aff5-40f4-bbec-11dbd27f4112",
   "metadata": {
    "execution": {
     "iopub.execute_input": "2025-02-15T07:22:57.134776Z",
     "iopub.status.busy": "2025-02-15T07:22:57.134776Z",
     "iopub.status.idle": "2025-02-15T07:22:57.152065Z",
     "shell.execute_reply": "2025-02-15T07:22:57.151551Z"
    },
    "papermill": {
     "duration": 0.025297,
     "end_time": "2025-02-15T07:22:57.153072",
     "exception": false,
     "start_time": "2025-02-15T07:22:57.127775",
     "status": "completed"
    },
    "tags": []
   },
   "outputs": [],
   "source": [
    "def build_win_loss_matrix(\n",
    "    posthocs, \n",
    "    mean_metric_dict,\n",
    "    metric_col='f1'\n",
    "):\n",
    "    \"\"\"\n",
    "    Builds a win–loss count matrix for a given metric (e.g., 'f1' or 'training_time') based on:\n",
    "      1) posthocs: list of dicts with a key f\"posthoc_{metric_col}\" containing pairwise significance (p-values).\n",
    "      2) mean_metric_dict: dictionary with mean metric per (dataset, framework), \n",
    "         e.g. mean_metric_dict[ds][fw] = mean F1 or mean training time.\n",
    "      3) metric_col: string that indicates the metric name (defaults to 'f1').\n",
    "         - If metric_col == 'f1', higher is better.\n",
    "         - If metric_col == 'training_time', lower is better.\n",
    "\n",
    "    Returns a pd.DataFrame (F×F), with index & columns = unique frameworks,\n",
    "    and cell (i, j) = number of datasets where framework i significantly outperformed framework j.\n",
    "    \"\"\"\n",
    "\n",
    "    # Decide if \"higher is better\" or \"lower is better\"\n",
    "    if metric_col == 'training_time':\n",
    "        higher_is_better = False\n",
    "        posthoc_key = 'posthoc_training_time'\n",
    "    else:\n",
    "        # default or specifically 'f1'\n",
    "        higher_is_better = True\n",
    "        posthoc_key = f'posthoc_{metric_col}'\n",
    "\n",
    "    # 1) Collect all frameworks from mean_metric_dict\n",
    "    all_fw = set()\n",
    "    for ds_info in mean_metric_dict.values():\n",
    "        all_fw.update(ds_info.keys())\n",
    "    frameworks = sorted(all_fw)\n",
    "\n",
    "    # Initialize a 2D structure to store \"win\" counts\n",
    "    wins = {fw1: {fw2: 0 for fw2 in frameworks} for fw1 in frameworks}\n",
    "\n",
    "    # 2) Iterate over each dataset's post-hoc results\n",
    "    for entry in posthocs:\n",
    "        ds = entry['dataset']\n",
    "        # e.g. entry['posthoc_f1'] or entry['posthoc_training_time']\n",
    "        if posthoc_key not in entry:\n",
    "            continue\n",
    "        posthoc_df = entry[posthoc_key]\n",
    "\n",
    "        # If we don't have mean metric for this dataset, skip\n",
    "        if ds not in mean_metric_dict:\n",
    "            continue\n",
    "\n",
    "        # CASE A: scikit-posthocs (Dunn) => symmetrical matrix of p-values\n",
    "        if (\n",
    "            isinstance(posthoc_df, pd.DataFrame) \n",
    "            and set(posthoc_df.index) == set(posthoc_df.columns)\n",
    "        ):\n",
    "            for fw1 in posthoc_df.index:\n",
    "                for fw2 in posthoc_df.columns:\n",
    "                    if fw1 == fw2:\n",
    "                        continue\n",
    "                    pval = posthoc_df.loc[fw1, fw2]\n",
    "                    if pval < alpha:\n",
    "                        # There's a significant difference. Check mean metric.\n",
    "                        val1 = mean_metric_dict[ds].get(fw1, np.nan)\n",
    "                        val2 = mean_metric_dict[ds].get(fw2, np.nan)\n",
    "                        if not np.isnan(val1) and not np.isnan(val2):\n",
    "                            if higher_is_better:\n",
    "                                # Larger metric => better\n",
    "                                if val1 > val2:\n",
    "                                    wins[fw1][fw2] += 1\n",
    "                                else:\n",
    "                                    wins[fw2][fw1] += 1\n",
    "                            else:\n",
    "                                # Smaller metric => better\n",
    "                                if val1 < val2:\n",
    "                                    wins[fw1][fw2] += 1\n",
    "                                else:\n",
    "                                    wins[fw2][fw1] += 1\n",
    "\n",
    "        # CASE B: statsmodels Tukey => a long table with columns: \n",
    "        # [group1, group2, meandiff, p-adj, reject]\n",
    "        elif (\n",
    "            isinstance(posthoc_df, pd.DataFrame) \n",
    "            and {'group1','group2','meandiff','p-adj','reject'}.issubset(posthoc_df.columns)\n",
    "        ):\n",
    "            for _, row in posthoc_df.iterrows():\n",
    "                fw1, fw2 = row['group1'], row['group2']\n",
    "                pval = row['p-adj']\n",
    "                reject = row['reject']  # boolean (True if significant)\n",
    "                if reject and pval < alpha:\n",
    "                    # There's a significant difference. \n",
    "                    # meandiff = mean(group1) - mean(group2) in parametric tests\n",
    "                    # But let's check actual means if we prefer dictionary lookups:\n",
    "                    val1 = mean_metric_dict[ds].get(fw1, np.nan)\n",
    "                    val2 = mean_metric_dict[ds].get(fw2, np.nan)\n",
    "                    if not np.isnan(val1) and not np.isnan(val2):\n",
    "                        if higher_is_better:\n",
    "                            if val1 > val2:\n",
    "                                wins[fw1][fw2] += 1\n",
    "                            else:\n",
    "                                wins[fw2][fw1] += 1\n",
    "                        else:\n",
    "                            if val1 < val2:\n",
    "                                wins[fw1][fw2] += 1\n",
    "                            else:\n",
    "                                wins[fw2][fw1] += 1\n",
    "\n",
    "        # Otherwise, adapt for your custom post-hoc result structure\n",
    "\n",
    "    # 3) Convert the \"wins\" dictionary to a DataFrame (rows=winner, columns=loser)\n",
    "    df_wins = pd.DataFrame(wins).T\n",
    "    return df_wins"
   ]
  },
  {
   "cell_type": "code",
   "execution_count": 21,
   "id": "5ce0a0dc-efcf-41a0-b7da-a814208e950f",
   "metadata": {
    "execution": {
     "iopub.execute_input": "2025-02-15T07:22:57.166071Z",
     "iopub.status.busy": "2025-02-15T07:22:57.165074Z",
     "iopub.status.idle": "2025-02-15T07:22:57.895297Z",
     "shell.execute_reply": "2025-02-15T07:22:57.895297Z"
    },
    "papermill": {
     "duration": 0.737225,
     "end_time": "2025-02-15T07:22:57.896296",
     "exception": false,
     "start_time": "2025-02-15T07:22:57.159071",
     "status": "completed"
    },
    "tags": []
   },
   "outputs": [
    {
     "data": {
      "image/png": "[encoded data removed]",
      "text/plain": [
       "<Figure size 800x600 with 2 Axes>"
      ]
     },
     "metadata": {},
     "output_type": "display_data"
    },
    {
     "data": {
      "image/png": "[encoded data removed]",
      "text/plain": [
       "<Figure size 800x600 with 2 Axes>"
      ]
     },
     "metadata": {},
     "output_type": "display_data"
    }
   ],
   "source": [
    "def aggregate_win_loss_matrices(df, posthocs, metric_col):\n",
    "    \"\"\"\n",
    "    Builds a win-loss matrix for a given metric.\n",
    "\n",
    "    Parameters:\n",
    "    - df (pd.DataFrame): Original dataset.\n",
    "    - posthocs (dict): Aggregated post-hoc test results.\n",
    "    - metric_col (str): The metric to analyze ('f1' or 'training_time').\n",
    "\n",
    "    Returns:\n",
    "    - pd.DataFrame: Win-loss matrix for the given metric.\n",
    "    \"\"\"\n",
    "    mean_metric_dict = create_mean_metric_dict(df, dataset_col='dataset', framework_col='framework', metric_col=metric_col)\n",
    "    return build_win_loss_matrix(posthocs, mean_metric_dict, metric_col=metric_col)\n",
    "\n",
    "def plot_win_loss_heatmap(df_wins, title, cmap, save_path):\n",
    "    \"\"\"\n",
    "    Plots a heatmap for a given win-loss matrix.\n",
    "\n",
    "    Parameters:\n",
    "    - df_wins (pd.DataFrame): Win-loss matrix.\n",
    "    - title (str): Title of the plot.\n",
    "    - cmap (str): Color map for the heatmap.\n",
    "    \"\"\"\n",
    "    plt.figure(figsize=(8, 6))\n",
    "    sns.heatmap(\n",
    "        df_wins,\n",
    "        annot=True,\n",
    "        cmap=cmap,\n",
    "        fmt=\"d\",\n",
    "        linewidths=0.5\n",
    "    )\n",
    "    plt.title(title, fontsize=14)\n",
    "    plt.xlabel(\"Beaten Framework\", fontsize=12)\n",
    "    plt.ylabel(\"Winning Framework\", fontsize=12)\n",
    "    plt.tight_layout()\n",
    "\n",
    "    # Ensure save directory exists\n",
    "    os.makedirs(os.path.dirname(save_path), exist_ok=True)\n",
    "    \n",
    "    # Save the plot\n",
    "    plt.savefig(save_path, dpi=300)\n",
    "    plt.show()\n",
    "\n",
    "# Aggregate post-hoc test results\n",
    "posthocs = aggregate_posthocs()\n",
    "\n",
    "# Build win-loss matrices for F1 Score and Training Time\n",
    "df_wins_f1 = aggregate_win_loss_matrices(df, posthocs, metric_col='f1')\n",
    "df_wins_time = aggregate_win_loss_matrices(df, posthocs, metric_col='training_time')\n",
    "\n",
    "# Plot heatmaps for both metrics\n",
    "plot_win_loss_heatmap(df_wins_f1,\n",
    "                      title=\"Win–Loss Counts for F1 Score (Row Beats Column)\",\n",
    "                      cmap=\"Reds\",\n",
    "                      save_path=f\"stats/{scenario}/step_1_per_dataset_win_loss_heatmap_f1.png\")\n",
    "\n",
    "plot_win_loss_heatmap(df_wins_time,\n",
    "                      title=\"Win–Loss Counts for Training Time (Row Beats Column)\",\n",
    "                      cmap=\"Blues\",\n",
    "                      save_path=f\"stats/{scenario}/step_1_per_dataset_win_loss_heatmap_time.png\")"
   ]
  },
  {
   "cell_type": "code",
   "execution_count": 22,
   "id": "2eaf8d02-6da1-4041-bd26-aac9080fb3a3",
   "metadata": {
    "execution": {
     "iopub.execute_input": "2025-02-15T07:22:57.911296Z",
     "iopub.status.busy": "2025-02-15T07:22:57.911296Z",
     "iopub.status.idle": "2025-02-15T07:22:59.031181Z",
     "shell.execute_reply": "2025-02-15T07:22:59.031181Z"
    },
    "papermill": {
     "duration": 1.129922,
     "end_time": "2025-02-15T07:22:59.033222",
     "exception": false,
     "start_time": "2025-02-15T07:22:57.903300",
     "status": "completed"
    },
    "tags": []
   },
   "outputs": [
    {
     "name": "stderr",
     "output_type": "stream",
     "text": [
      "C:\\Users\\marce\\AppData\\Local\\Temp\\ipykernel_36460\\2722647950.py:81: UserWarning: This figure includes Axes that are not compatible with tight_layout, so results might be incorrect.\n",
      "  plt.tight_layout()\n"
     ]
    },
    {
     "data": {
      "image/png": "[encoded data removed]",
      "text/plain": [
       "<Figure size 1000x1000 with 3 Axes>"
      ]
     },
     "metadata": {},
     "output_type": "display_data"
    },
    {
     "name": "stderr",
     "output_type": "stream",
     "text": [
      "C:\\Users\\marce\\AppData\\Local\\Temp\\ipykernel_36460\\2722647950.py:81: UserWarning: This figure includes Axes that are not compatible with tight_layout, so results might be incorrect.\n",
      "  plt.tight_layout()\n"
     ]
    },
    {
     "data": {
      "image/png": "[encoded data removed]",
      "text/plain": [
       "<Figure size 1000x1000 with 3 Axes>"
      ]
     },
     "metadata": {},
     "output_type": "display_data"
    }
   ],
   "source": [
    "def plot_win_loss_heatmap_with_marginals(df_wins, save_path, title=\"Win–Loss Counts (Row beats Column)\", cmap=\"Reds\"):\n",
    "    \"\"\"\n",
    "    Creates a heatmap of win-loss counts with marginal bar charts for total wins and total losses.\n",
    "\n",
    "    Parameters:\n",
    "    - df_wins (pd.DataFrame): F×F DataFrame where:\n",
    "        - Rows = frameworks (winners)\n",
    "        - Columns = frameworks (losers)\n",
    "    - title (str): Title for the heatmap.\n",
    "    - cmap (str): Color map for the heatmap.\n",
    "    \"\"\"\n",
    "    # Compute total wins (row sums) and total losses (column sums)\n",
    "    row_sums = df_wins.sum(axis=1)  # Total wins per framework\n",
    "    col_sums = df_wins.sum(axis=0)  # Total times beaten\n",
    "\n",
    "    fig = plt.figure(figsize=(10, 10))\n",
    "\n",
    "    # Create a 2×2 GridSpec layout\n",
    "    gs = fig.add_gridspec(\n",
    "        2, 2,\n",
    "        width_ratios=[4, 1],  # Main heatmap is wider; marginal bar is narrower\n",
    "        height_ratios=[1, 4],  # Top bar is shorter; main heatmap is taller\n",
    "        wspace=0.05, \n",
    "        hspace=0.05\n",
    "    )\n",
    "\n",
    "    # Define subplots\n",
    "    ax_heatmap = fig.add_subplot(gs[1, 0])  # Main heatmap (bottom-left)\n",
    "    ax_row_sum = fig.add_subplot(gs[1, 1], sharey=ax_heatmap)  # Row sums (bottom-right)\n",
    "    ax_col_sum = fig.add_subplot(gs[0, 0], sharex=ax_heatmap)  # Column sums (top-left)\n",
    "\n",
    "    # -------------------------------\n",
    "    # 1) Main Heatmap\n",
    "    # -------------------------------\n",
    "    sns.heatmap(\n",
    "        df_wins,\n",
    "        annot=True,\n",
    "        cmap=cmap,\n",
    "        fmt=\"d\",\n",
    "        ax=ax_heatmap,\n",
    "        cbar=False  # Hide colorbar to avoid clutter\n",
    "    )\n",
    "    ax_heatmap.set_title(title, fontsize=14)\n",
    "    ax_heatmap.set_xlabel(\"Beaten Framework\", fontsize=12)\n",
    "    ax_heatmap.set_ylabel(\"Winning Framework\", fontsize=12)\n",
    "\n",
    "    # -------------------------------\n",
    "    # 2) Bar chart of total wins (right side)\n",
    "    # -------------------------------\n",
    "    sns.barplot(\n",
    "        x=row_sums.values, \n",
    "        y=row_sums.index, \n",
    "        orient='h',  # Horizontal bars\n",
    "        ax=ax_row_sum,\n",
    "        color='lightcoral' if cmap == \"Reds\" else 'lightblue'\n",
    "    )\n",
    "    ax_row_sum.set_ylabel(\"\")\n",
    "    ax_row_sum.set_xlabel(\"Total Wins\", fontsize=12)\n",
    "    ax_row_sum.yaxis.set_visible(False)  # Hide y-axis labels for clarity\n",
    "\n",
    "    # -------------------------------\n",
    "    # 3) Bar chart of total losses (top side)\n",
    "    # -------------------------------\n",
    "    sns.barplot(\n",
    "        x=col_sums.index, \n",
    "        y=col_sums.values, \n",
    "        ax=ax_col_sum,\n",
    "        color='lightcoral' if cmap == \"Reds\" else 'lightblue'\n",
    "    )\n",
    "    ax_col_sum.set_xlabel(\"\")\n",
    "    ax_col_sum.set_ylabel(\"Total Losses\", fontsize=12)\n",
    "\n",
    "    # Rotate x labels for readability\n",
    "    plt.setp(ax_col_sum.get_xticklabels(), rotation=90)\n",
    "\n",
    "    # Align top bar with heatmap's x-axis\n",
    "    ax_col_sum.xaxis.set_visible(False)  # Hide x-axis line\n",
    "    ax_col_sum.spines[\"bottom\"].set_visible(False)\n",
    "    ax_col_sum.margins(y=0.3)\n",
    "\n",
    "    plt.tight_layout()\n",
    "\n",
    "    # Ensure save directory exists\n",
    "    os.makedirs(os.path.dirname(save_path), exist_ok=True)\n",
    "    \n",
    "    # Save the plot\n",
    "    plt.savefig(save_path, dpi=300)\n",
    "    plt.show()\n",
    "\n",
    "# Call the function for both F1 Score and Training Time\n",
    "plot_win_loss_heatmap_with_marginals(df_wins_f1,\n",
    "                                     title=\"Win–Loss Counts (F1 Score)\",\n",
    "                                     cmap=\"Reds\",\n",
    "                                     save_path=f\"stats/{scenario}/step_1_per_dataset_win_loss_heatmap_with_marginals_f1.png\")\n",
    "\n",
    "plot_win_loss_heatmap_with_marginals(df_wins_time,\n",
    "                                     title=\"Win–Loss Counts (Training Time)\",\n",
    "                                     cmap=\"Blues\",\n",
    "                                     save_path=f\"stats/{scenario}/step_1_per_dataset_win_loss_heatmap_with_marginals_time.png\")"
   ]
  },
  {
   "cell_type": "code",
   "execution_count": 23,
   "id": "83a20eb2-0797-4530-aa2d-25d86a1dd961",
   "metadata": {
    "execution": {
     "iopub.execute_input": "2025-02-15T07:22:59.048358Z",
     "iopub.status.busy": "2025-02-15T07:22:59.048358Z",
     "iopub.status.idle": "2025-02-15T07:22:59.809626Z",
     "shell.execute_reply": "2025-02-15T07:22:59.809626Z"
    },
    "papermill": {
     "duration": 0.770304,
     "end_time": "2025-02-15T07:22:59.810635",
     "exception": false,
     "start_time": "2025-02-15T07:22:59.040331",
     "status": "completed"
    },
    "scrolled": true,
    "tags": []
   },
   "outputs": [
    {
     "data": {
      "image/png": "[encoded data removed]",
      "text/plain": [
       "<Figure size 1000x600 with 1 Axes>"
      ]
     },
     "metadata": {},
     "output_type": "display_data"
    },
    {
     "data": {
      "image/png": "[encoded data removed]",
      "text/plain": [
       "<Figure size 1000x600 with 1 Axes>"
      ]
     },
     "metadata": {},
     "output_type": "display_data"
    }
   ],
   "source": [
    "def plot_win_loss_bars(df_wins, save_path, title=\"Wins vs. Losses per Framework\"):\n",
    "    \"\"\"\n",
    "    Creates a stacked bar chart showing wins vs. losses per framework\n",
    "    based on the significant post-hoc test results.\n",
    "\n",
    "    Parameters:\n",
    "    - df_wins (pd.DataFrame): F×F DataFrame where:\n",
    "        - Rows = frameworks (winner)\n",
    "        - Columns = frameworks (loser)\n",
    "        - df_wins.loc[row_fw, col_fw] = # of datasets row_fw beats col_fw\n",
    "    - title (str): Title for the plot.\n",
    "    \"\"\"\n",
    "    # 1) Compute total wins and losses per framework\n",
    "    row_sums = df_wins.sum(axis=1)  # Total wins per framework\n",
    "    col_sums = df_wins.sum(axis=0)  # Total losses per framework\n",
    "\n",
    "    frameworks = df_wins.index.tolist()\n",
    "    wins = row_sums.values\n",
    "    losses = col_sums.values\n",
    "\n",
    "    # 2) Plot the stacked bars\n",
    "    x = np.arange(len(frameworks))\n",
    "    fig, ax = plt.subplots(figsize=(10, 6))\n",
    "\n",
    "    bars_wins = ax.bar(\n",
    "        x, wins, label=\"Wins\", color=\"green\"\n",
    "    )\n",
    "\n",
    "    bars_losses = ax.bar(\n",
    "        x, losses, bottom=wins, label=\"Losses\", color=\"red\"\n",
    "    )\n",
    "\n",
    "    # 3) Annotate each bar with the corresponding win/loss count\n",
    "    for i in range(len(frameworks)):\n",
    "        w, l = wins[i], losses[i]\n",
    "        \n",
    "        if w > 0:\n",
    "            ax.text(x[i], w / 2, str(int(w)), ha=\"center\", va=\"center\", color=\"white\", fontweight=\"bold\")\n",
    "        \n",
    "        if l > 0:\n",
    "            ax.text(x[i], w + (l / 2), str(int(l)), ha=\"center\", va=\"center\", color=\"black\", fontweight=\"bold\")\n",
    "\n",
    "    # 4) Cosmetic adjustments\n",
    "    ax.set_xticks(x)\n",
    "    ax.set_xticklabels(frameworks, rotation=45, ha=\"right\")\n",
    "    ax.set_ylabel(\"Significant Pairwise Comparisons (Wins + Losses)\")\n",
    "    ax.set_title(title)\n",
    "    ax.legend()\n",
    "\n",
    "    plt.tight_layout()\n",
    "\n",
    "    # Ensure save directory exists\n",
    "    os.makedirs(os.path.dirname(save_path), exist_ok=True)\n",
    "    \n",
    "    # Save the plot\n",
    "    plt.savefig(save_path, dpi=300)\n",
    "    plt.show()\n",
    "\n",
    "# Call the function for both F1 Score and Training Time\n",
    "plot_win_loss_bars(df_wins_f1,\n",
    "                   title=\"Wins vs. Losses per Framework (F1 Score)\",\n",
    "                   save_path=f\"stats/{scenario}/step_1_per_dataset_win_loss_bars_f1.png\")\n",
    "\n",
    "plot_win_loss_bars(df_wins_time,\n",
    "                   title=\"Wins vs. Losses per Framework (Training Time)\",\n",
    "                   save_path=f\"stats/{scenario}/step_1_per_dataset_win_loss_bars_time.png\")"
   ]
  },
  {
   "cell_type": "code",
   "execution_count": 24,
   "id": "42970f41-39ab-4730-9332-c4e6fbb3328d",
   "metadata": {
    "execution": {
     "iopub.execute_input": "2025-02-15T07:22:59.828825Z",
     "iopub.status.busy": "2025-02-15T07:22:59.828825Z",
     "iopub.status.idle": "2025-02-15T07:22:59.839773Z",
     "shell.execute_reply": "2025-02-15T07:22:59.839773Z"
    },
    "papermill": {
     "duration": 0.021137,
     "end_time": "2025-02-15T07:22:59.840771",
     "exception": false,
     "start_time": "2025-02-15T07:22:59.819634",
     "status": "completed"
    },
    "tags": []
   },
   "outputs": [],
   "source": [
    "import pandas as pd\n",
    "import numpy as np\n",
    "\n",
    "def convert_posthoc_to_long(posthocs):\n",
    "    \"\"\"\n",
    "    Converts post-hoc test results into a long-form DataFrame, ensuring all frameworks appear in both columns.\n",
    "\n",
    "    Parameters:\n",
    "    - posthocs (list of dict): List containing post-hoc test results with datasets.\n",
    "\n",
    "    Returns:\n",
    "    - pd.DataFrame: Long-form DataFrame with pairwise comparisons.\n",
    "    \"\"\"\n",
    "    posthoc_results_list = []\n",
    "\n",
    "    # Get full list of all frameworks from all datasets\n",
    "    all_frameworks = sorted(set(fw for entry in posthocs for fw in entry['posthoc_f1'].index).union(\n",
    "                             set(fw for entry in posthocs for fw in entry['posthoc_f1'].columns),\n",
    "                             set(fw for entry in posthocs for fw in entry['posthoc_training_time'].index),\n",
    "                             set(fw for entry in posthocs for fw in entry['posthoc_training_time'].columns)))\n",
    "\n",
    "    for entry in posthocs:\n",
    "        dataset = entry['dataset']\n",
    "        \n",
    "        for metric, posthoc_df in [('F1 Score', entry['posthoc_f1']), ('Training Time', entry['posthoc_training_time'])]:\n",
    "            # Ensure all frameworks are considered, even if missing from posthoc_df\n",
    "            frameworks = all_frameworks  # Use full list, not just posthoc_df.index\n",
    "\n",
    "            # Ensure the posthoc DataFrame includes all frameworks\n",
    "            for fw in frameworks:\n",
    "                if fw not in posthoc_df.index:\n",
    "                    posthoc_df.loc[fw] = np.nan  # Add missing row\n",
    "                if fw not in posthoc_df.columns:\n",
    "                    posthoc_df[fw] = np.nan  # Add missing column\n",
    "\n",
    "            for i, fw1 in enumerate(frameworks):\n",
    "                for j, fw2 in enumerate(frameworks):\n",
    "                    if i < j:  # Avoid duplicate pairs and diagonal\n",
    "                        # Retrieve the p-value if it exists, otherwise assign NaN\n",
    "                        p_value = posthoc_df.loc[fw1, fw2] if fw1 in posthoc_df.index and fw2 in posthoc_df.columns else float(\"nan\")\n",
    "\n",
    "                        # Randomize assignment to balance framework representation\n",
    "                        if np.random.rand() > 0.5:  \n",
    "                            fw1, fw2 = fw2, fw1  # Swap order randomly\n",
    "\n",
    "                        posthoc_results_list.append({\n",
    "                            \"dataset\": dataset,\n",
    "                            \"metric\": metric,\n",
    "                            \"Framework A\": fw1,\n",
    "                            \"Framework B\": fw2,\n",
    "                            \"p-value\": p_value\n",
    "                        })\n",
    "\n",
    "    return pd.DataFrame(posthoc_results_list)\n",
    "\n",
    "# Call the function\n",
    "df_posthoc = convert_posthoc_to_long(posthocs)"
   ]
  },
  {
   "cell_type": "code",
   "execution_count": 25,
   "id": "05651201-192a-48e9-b9c9-a011e85e7a2c",
   "metadata": {
    "execution": {
     "iopub.execute_input": "2025-02-15T07:22:59.857282Z",
     "iopub.status.busy": "2025-02-15T07:22:59.857282Z",
     "iopub.status.idle": "2025-02-15T07:22:59.871279Z",
     "shell.execute_reply": "2025-02-15T07:22:59.871279Z"
    },
    "papermill": {
     "duration": 0.023506,
     "end_time": "2025-02-15T07:22:59.872278",
     "exception": false,
     "start_time": "2025-02-15T07:22:59.848772",
     "status": "completed"
    },
    "tags": []
   },
   "outputs": [],
   "source": [
    "def fix_minus_sign(label):\n",
    "    \"\"\"Replace Unicode minus sign with a readable fallback.\"\"\"\n",
    "    return label.replace(\"−\", r\"$\\mathdefault{-}$\")  # Uses default TeX rendering for minus sign"
   ]
  },
  {
   "cell_type": "code",
   "execution_count": 26,
   "id": "9f64835b-8cb3-4ce8-8188-dbcc272963a5",
   "metadata": {
    "execution": {
     "iopub.execute_input": "2025-02-15T07:22:59.889281Z",
     "iopub.status.busy": "2025-02-15T07:22:59.889281Z",
     "iopub.status.idle": "2025-02-15T07:23:01.056318Z",
     "shell.execute_reply": "2025-02-15T07:23:01.056318Z"
    },
    "papermill": {
     "duration": 1.17707,
     "end_time": "2025-02-15T07:23:01.057350",
     "exception": false,
     "start_time": "2025-02-15T07:22:59.880280",
     "status": "completed"
    },
    "scrolled": true,
    "tags": []
   },
   "outputs": [
    {
     "name": "stderr",
     "output_type": "stream",
     "text": [
      "Font 'default' does not have a glyph for '\\u2212' [U+2212], substituting with a dummy symbol.\n"
     ]
    },
    {
     "name": "stderr",
     "output_type": "stream",
     "text": [
      "Font 'default' does not have a glyph for '\\u2212' [U+2212], substituting with a dummy symbol.\n"
     ]
    },
    {
     "name": "stderr",
     "output_type": "stream",
     "text": [
      "Font 'default' does not have a glyph for '\\u2212' [U+2212], substituting with a dummy symbol.\n"
     ]
    },
    {
     "name": "stderr",
     "output_type": "stream",
     "text": [
      "Font 'default' does not have a glyph for '\\u2212' [U+2212], substituting with a dummy symbol.\n"
     ]
    },
    {
     "name": "stderr",
     "output_type": "stream",
     "text": [
      "Font 'default' does not have a glyph for '\\u2212' [U+2212], substituting with a dummy symbol.\n"
     ]
    },
    {
     "name": "stderr",
     "output_type": "stream",
     "text": [
      "Font 'default' does not have a glyph for '\\u2212' [U+2212], substituting with a dummy symbol.\n"
     ]
    },
    {
     "name": "stderr",
     "output_type": "stream",
     "text": [
      "Font 'default' does not have a glyph for '\\u2212' [U+2212], substituting with a dummy symbol.\n"
     ]
    },
    {
     "name": "stderr",
     "output_type": "stream",
     "text": [
      "Font 'default' does not have a glyph for '\\u2212' [U+2212], substituting with a dummy symbol.\n"
     ]
    },
    {
     "name": "stderr",
     "output_type": "stream",
     "text": [
      "Font 'default' does not have a glyph for '\\u2212' [U+2212], substituting with a dummy symbol.\n"
     ]
    },
    {
     "name": "stderr",
     "output_type": "stream",
     "text": [
      "Font 'default' does not have a glyph for '\\u2212' [U+2212], substituting with a dummy symbol.\n"
     ]
    },
    {
     "name": "stderr",
     "output_type": "stream",
     "text": [
      "Font 'default' does not have a glyph for '\\u2212' [U+2212], substituting with a dummy symbol.\n"
     ]
    },
    {
     "name": "stderr",
     "output_type": "stream",
     "text": [
      "Font 'default' does not have a glyph for '\\u2212' [U+2212], substituting with a dummy symbol.\n"
     ]
    },
    {
     "name": "stderr",
     "output_type": "stream",
     "text": [
      "Font 'default' does not have a glyph for '\\u2212' [U+2212], substituting with a dummy symbol.\n"
     ]
    },
    {
     "name": "stderr",
     "output_type": "stream",
     "text": [
      "Font 'default' does not have a glyph for '\\u2212' [U+2212], substituting with a dummy symbol.\n"
     ]
    },
    {
     "name": "stderr",
     "output_type": "stream",
     "text": [
      "Font 'default' does not have a glyph for '\\u2212' [U+2212], substituting with a dummy symbol.\n"
     ]
    },
    {
     "name": "stderr",
     "output_type": "stream",
     "text": [
      "Font 'default' does not have a glyph for '\\u2212' [U+2212], substituting with a dummy symbol.\n"
     ]
    },
    {
     "name": "stderr",
     "output_type": "stream",
     "text": [
      "Font 'default' does not have a glyph for '\\u2212' [U+2212], substituting with a dummy symbol.\n"
     ]
    },
    {
     "name": "stderr",
     "output_type": "stream",
     "text": [
      "Font 'default' does not have a glyph for '\\u2212' [U+2212], substituting with a dummy symbol.\n"
     ]
    },
    {
     "name": "stderr",
     "output_type": "stream",
     "text": [
      "Font 'default' does not have a glyph for '\\u2212' [U+2212], substituting with a dummy symbol.\n"
     ]
    },
    {
     "name": "stderr",
     "output_type": "stream",
     "text": [
      "Font 'default' does not have a glyph for '\\u2212' [U+2212], substituting with a dummy symbol.\n"
     ]
    },
    {
     "name": "stderr",
     "output_type": "stream",
     "text": [
      "Font 'default' does not have a glyph for '\\u2212' [U+2212], substituting with a dummy symbol.\n"
     ]
    },
    {
     "name": "stderr",
     "output_type": "stream",
     "text": [
      "Font 'default' does not have a glyph for '\\u2212' [U+2212], substituting with a dummy symbol.\n"
     ]
    },
    {
     "name": "stderr",
     "output_type": "stream",
     "text": [
      "Font 'default' does not have a glyph for '\\u2212' [U+2212], substituting with a dummy symbol.\n"
     ]
    },
    {
     "name": "stdout",
     "output_type": "stream",
     "text": [
      "    dataset    metric Framework A  Framework B       p-value\n",
      "5       285  F1 Score       fedot  autosklearn  1.000000e+00\n",
      "14    41464  F1 Score       fedot    autogluon           NaN\n",
      "17    41464  F1 Score       fedot  autosklearn           NaN\n",
      "28    41465  F1 Score       fedot    autokeras  0.000000e+00\n",
      "29    41465  F1 Score       fedot  autosklearn  4.311761e-04\n",
      "40    41468  F1 Score       fedot  autosklearn  3.167701e-06\n",
      "52    41470  F1 Score       fedot    autokeras  4.876684e-01\n",
      "62    41471  F1 Score       fedot    autogluon  7.389217e-03\n",
      "65    41471  F1 Score       fedot  autosklearn  1.542769e-06\n",
      "74    41473  F1 Score       fedot  autosklearn  2.317257e-12\n",
      "76    41473  F1 Score       fedot  autosklearn  2.317257e-12\n"
     ]
    },
    {
     "name": "stderr",
     "output_type": "stream",
     "text": [
      "Font 'default' does not have a glyph for '\\u2212' [U+2212], substituting with a dummy symbol.\n"
     ]
    },
    {
     "name": "stderr",
     "output_type": "stream",
     "text": [
      "Font 'default' does not have a glyph for '\\u2212' [U+2212], substituting with a dummy symbol.\n"
     ]
    },
    {
     "name": "stderr",
     "output_type": "stream",
     "text": [
      "Font 'default' does not have a glyph for '\\u2212' [U+2212], substituting with a dummy symbol.\n"
     ]
    },
    {
     "name": "stderr",
     "output_type": "stream",
     "text": [
      "Font 'default' does not have a glyph for '\\u2212' [U+2212], substituting with a dummy symbol.\n"
     ]
    },
    {
     "name": "stderr",
     "output_type": "stream",
     "text": [
      "Font 'default' does not have a glyph for '\\u2212' [U+2212], substituting with a dummy symbol.\n"
     ]
    },
    {
     "name": "stderr",
     "output_type": "stream",
     "text": [
      "Font 'default' does not have a glyph for '\\u2212' [U+2212], substituting with a dummy symbol.\n"
     ]
    },
    {
     "name": "stderr",
     "output_type": "stream",
     "text": [
      "Font 'default' does not have a glyph for '\\u2212' [U+2212], substituting with a dummy symbol.\n"
     ]
    },
    {
     "name": "stderr",
     "output_type": "stream",
     "text": [
      "Font 'default' does not have a glyph for '\\u2212' [U+2212], substituting with a dummy symbol.\n"
     ]
    },
    {
     "name": "stderr",
     "output_type": "stream",
     "text": [
      "Font 'default' does not have a glyph for '\\u2212' [U+2212], substituting with a dummy symbol.\n"
     ]
    },
    {
     "name": "stderr",
     "output_type": "stream",
     "text": [
      "Font 'default' does not have a glyph for '\\u2212' [U+2212], substituting with a dummy symbol.\n"
     ]
    },
    {
     "name": "stderr",
     "output_type": "stream",
     "text": [
      "Font 'default' does not have a glyph for '\\u2212' [U+2212], substituting with a dummy symbol.\n"
     ]
    },
    {
     "name": "stderr",
     "output_type": "stream",
     "text": [
      "Font 'default' does not have a glyph for '\\u2212' [U+2212], substituting with a dummy symbol.\n"
     ]
    },
    {
     "name": "stderr",
     "output_type": "stream",
     "text": [
      "Font 'default' does not have a glyph for '\\u2212' [U+2212], substituting with a dummy symbol.\n"
     ]
    },
    {
     "name": "stderr",
     "output_type": "stream",
     "text": [
      "Font 'default' does not have a glyph for '\\u2212' [U+2212], substituting with a dummy symbol.\n"
     ]
    },
    {
     "name": "stderr",
     "output_type": "stream",
     "text": [
      "Font 'default' does not have a glyph for '\\u2212' [U+2212], substituting with a dummy symbol.\n"
     ]
    },
    {
     "name": "stderr",
     "output_type": "stream",
     "text": [
      "Font 'default' does not have a glyph for '\\u2212' [U+2212], substituting with a dummy symbol.\n"
     ]
    },
    {
     "name": "stderr",
     "output_type": "stream",
     "text": [
      "Font 'default' does not have a glyph for '\\u2212' [U+2212], substituting with a dummy symbol.\n"
     ]
    },
    {
     "name": "stderr",
     "output_type": "stream",
     "text": [
      "Font 'default' does not have a glyph for '\\u2212' [U+2212], substituting with a dummy symbol.\n"
     ]
    },
    {
     "name": "stderr",
     "output_type": "stream",
     "text": [
      "Font 'default' does not have a glyph for '\\u2212' [U+2212], substituting with a dummy symbol.\n"
     ]
    },
    {
     "name": "stderr",
     "output_type": "stream",
     "text": [
      "Font 'default' does not have a glyph for '\\u2212' [U+2212], substituting with a dummy symbol.\n"
     ]
    },
    {
     "name": "stderr",
     "output_type": "stream",
     "text": [
      "Font 'default' does not have a glyph for '\\u2212' [U+2212], substituting with a dummy symbol.\n"
     ]
    },
    {
     "name": "stderr",
     "output_type": "stream",
     "text": [
      "Font 'default' does not have a glyph for '\\u2212' [U+2212], substituting with a dummy symbol.\n"
     ]
    },
    {
     "name": "stderr",
     "output_type": "stream",
     "text": [
      "Font 'default' does not have a glyph for '\\u2212' [U+2212], substituting with a dummy symbol.\n"
     ]
    },
    {
     "name": "stderr",
     "output_type": "stream",
     "text": [
      "Font 'default' does not have a glyph for '\\u2212' [U+2212], substituting with a dummy symbol.\n"
     ]
    },
    {
     "name": "stderr",
     "output_type": "stream",
     "text": [
      "Font 'default' does not have a glyph for '\\u2212' [U+2212], substituting with a dummy symbol.\n"
     ]
    },
    {
     "name": "stderr",
     "output_type": "stream",
     "text": [
      "Font 'default' does not have a glyph for '\\u2212' [U+2212], substituting with a dummy symbol.\n"
     ]
    },
    {
     "name": "stderr",
     "output_type": "stream",
     "text": [
      "Font 'default' does not have a glyph for '\\u2212' [U+2212], substituting with a dummy symbol.\n"
     ]
    },
    {
     "name": "stderr",
     "output_type": "stream",
     "text": [
      "Font 'default' does not have a glyph for '\\u2212' [U+2212], substituting with a dummy symbol.\n"
     ]
    },
    {
     "name": "stderr",
     "output_type": "stream",
     "text": [
      "Font 'default' does not have a glyph for '\\u2212' [U+2212], substituting with a dummy symbol.\n"
     ]
    },
    {
     "name": "stderr",
     "output_type": "stream",
     "text": [
      "Font 'default' does not have a glyph for '\\u2212' [U+2212], substituting with a dummy symbol.\n"
     ]
    },
    {
     "name": "stderr",
     "output_type": "stream",
     "text": [
      "Font 'default' does not have a glyph for '\\u2212' [U+2212], substituting with a dummy symbol.\n"
     ]
    },
    {
     "name": "stderr",
     "output_type": "stream",
     "text": [
      "Font 'default' does not have a glyph for '\\u2212' [U+2212], substituting with a dummy symbol.\n"
     ]
    },
    {
     "name": "stderr",
     "output_type": "stream",
     "text": [
      "Font 'default' does not have a glyph for '\\u2212' [U+2212], substituting with a dummy symbol.\n"
     ]
    },
    {
     "data": {
      "image/png": "[encoded data removed]",
      "text/plain": [
       "<Figure size 1200x500 with 1 Axes>"
      ]
     },
     "metadata": {},
     "output_type": "display_data"
    },
    {
     "name": "stderr",
     "output_type": "stream",
     "text": [
      "Font 'default' does not have a glyph for '\\u2212' [U+2212], substituting with a dummy symbol.\n"
     ]
    },
    {
     "name": "stderr",
     "output_type": "stream",
     "text": [
      "Font 'default' does not have a glyph for '\\u2212' [U+2212], substituting with a dummy symbol.\n"
     ]
    },
    {
     "name": "stderr",
     "output_type": "stream",
     "text": [
      "Font 'default' does not have a glyph for '\\u2212' [U+2212], substituting with a dummy symbol.\n"
     ]
    },
    {
     "name": "stderr",
     "output_type": "stream",
     "text": [
      "Font 'default' does not have a glyph for '\\u2212' [U+2212], substituting with a dummy symbol.\n"
     ]
    },
    {
     "name": "stderr",
     "output_type": "stream",
     "text": [
      "Font 'default' does not have a glyph for '\\u2212' [U+2212], substituting with a dummy symbol.\n"
     ]
    },
    {
     "name": "stderr",
     "output_type": "stream",
     "text": [
      "Font 'default' does not have a glyph for '\\u2212' [U+2212], substituting with a dummy symbol.\n"
     ]
    },
    {
     "name": "stderr",
     "output_type": "stream",
     "text": [
      "Font 'default' does not have a glyph for '\\u2212' [U+2212], substituting with a dummy symbol.\n"
     ]
    },
    {
     "name": "stderr",
     "output_type": "stream",
     "text": [
      "Font 'default' does not have a glyph for '\\u2212' [U+2212], substituting with a dummy symbol.\n"
     ]
    },
    {
     "name": "stderr",
     "output_type": "stream",
     "text": [
      "Font 'default' does not have a glyph for '\\u2212' [U+2212], substituting with a dummy symbol.\n"
     ]
    },
    {
     "name": "stderr",
     "output_type": "stream",
     "text": [
      "Font 'default' does not have a glyph for '\\u2212' [U+2212], substituting with a dummy symbol.\n"
     ]
    },
    {
     "name": "stderr",
     "output_type": "stream",
     "text": [
      "Font 'default' does not have a glyph for '\\u2212' [U+2212], substituting with a dummy symbol.\n"
     ]
    },
    {
     "name": "stderr",
     "output_type": "stream",
     "text": [
      "Font 'default' does not have a glyph for '\\u2212' [U+2212], substituting with a dummy symbol.\n"
     ]
    },
    {
     "name": "stderr",
     "output_type": "stream",
     "text": [
      "Font 'default' does not have a glyph for '\\u2212' [U+2212], substituting with a dummy symbol.\n"
     ]
    },
    {
     "name": "stderr",
     "output_type": "stream",
     "text": [
      "Font 'default' does not have a glyph for '\\u2212' [U+2212], substituting with a dummy symbol.\n"
     ]
    },
    {
     "name": "stderr",
     "output_type": "stream",
     "text": [
      "Font 'default' does not have a glyph for '\\u2212' [U+2212], substituting with a dummy symbol.\n"
     ]
    },
    {
     "name": "stderr",
     "output_type": "stream",
     "text": [
      "Font 'default' does not have a glyph for '\\u2212' [U+2212], substituting with a dummy symbol.\n"
     ]
    },
    {
     "name": "stderr",
     "output_type": "stream",
     "text": [
      "Font 'default' does not have a glyph for '\\u2212' [U+2212], substituting with a dummy symbol.\n"
     ]
    },
    {
     "name": "stderr",
     "output_type": "stream",
     "text": [
      "Font 'default' does not have a glyph for '\\u2212' [U+2212], substituting with a dummy symbol.\n"
     ]
    },
    {
     "name": "stderr",
     "output_type": "stream",
     "text": [
      "Font 'default' does not have a glyph for '\\u2212' [U+2212], substituting with a dummy symbol.\n"
     ]
    },
    {
     "name": "stderr",
     "output_type": "stream",
     "text": [
      "Font 'default' does not have a glyph for '\\u2212' [U+2212], substituting with a dummy symbol.\n"
     ]
    },
    {
     "name": "stderr",
     "output_type": "stream",
     "text": [
      "Font 'default' does not have a glyph for '\\u2212' [U+2212], substituting with a dummy symbol.\n"
     ]
    },
    {
     "name": "stderr",
     "output_type": "stream",
     "text": [
      "Font 'default' does not have a glyph for '\\u2212' [U+2212], substituting with a dummy symbol.\n"
     ]
    },
    {
     "name": "stderr",
     "output_type": "stream",
     "text": [
      "Font 'default' does not have a glyph for '\\u2212' [U+2212], substituting with a dummy symbol.\n"
     ]
    },
    {
     "name": "stderr",
     "output_type": "stream",
     "text": [
      "Font 'default' does not have a glyph for '\\u2212' [U+2212], substituting with a dummy symbol.\n"
     ]
    },
    {
     "name": "stderr",
     "output_type": "stream",
     "text": [
      "Font 'default' does not have a glyph for '\\u2212' [U+2212], substituting with a dummy symbol.\n"
     ]
    },
    {
     "name": "stderr",
     "output_type": "stream",
     "text": [
      "Font 'default' does not have a glyph for '\\u2212' [U+2212], substituting with a dummy symbol.\n"
     ]
    },
    {
     "name": "stderr",
     "output_type": "stream",
     "text": [
      "Font 'default' does not have a glyph for '\\u2212' [U+2212], substituting with a dummy symbol.\n"
     ]
    },
    {
     "name": "stderr",
     "output_type": "stream",
     "text": [
      "Font 'default' does not have a glyph for '\\u2212' [U+2212], substituting with a dummy symbol.\n"
     ]
    },
    {
     "name": "stdout",
     "output_type": "stream",
     "text": [
      "    dataset         metric Framework A  Framework B       p-value\n",
      "8       285  Training Time       fedot  autosklearn  8.925271e-01\n",
      "11      285  Training Time       fedot  autosklearn  8.925271e-01\n",
      "23    41464  Training Time       fedot  autosklearn           NaN\n",
      "32    41465  Training Time       fedot    autokeras  5.229346e-14\n",
      "35    41465  Training Time       fedot  autosklearn  5.675945e-02\n",
      "44    41468  Training Time       fedot    autokeras  3.725647e-10\n",
      "70    41471  Training Time       fedot  autosklearn  1.571496e-02\n",
      "71    41471  Training Time       fedot  autosklearn  1.571496e-02\n",
      "82    41473  Training Time       fedot  autosklearn  1.381105e-04\n",
      "83    41473  Training Time       fedot  autosklearn  1.381105e-04\n"
     ]
    },
    {
     "name": "stderr",
     "output_type": "stream",
     "text": [
      "Font 'default' does not have a glyph for '\\u2212' [U+2212], substituting with a dummy symbol.\n"
     ]
    },
    {
     "name": "stderr",
     "output_type": "stream",
     "text": [
      "Font 'default' does not have a glyph for '\\u2212' [U+2212], substituting with a dummy symbol.\n"
     ]
    },
    {
     "name": "stderr",
     "output_type": "stream",
     "text": [
      "Font 'default' does not have a glyph for '\\u2212' [U+2212], substituting with a dummy symbol.\n"
     ]
    },
    {
     "name": "stderr",
     "output_type": "stream",
     "text": [
      "Font 'default' does not have a glyph for '\\u2212' [U+2212], substituting with a dummy symbol.\n"
     ]
    },
    {
     "name": "stderr",
     "output_type": "stream",
     "text": [
      "Font 'default' does not have a glyph for '\\u2212' [U+2212], substituting with a dummy symbol.\n"
     ]
    },
    {
     "name": "stderr",
     "output_type": "stream",
     "text": [
      "Font 'default' does not have a glyph for '\\u2212' [U+2212], substituting with a dummy symbol.\n"
     ]
    },
    {
     "name": "stderr",
     "output_type": "stream",
     "text": [
      "Font 'default' does not have a glyph for '\\u2212' [U+2212], substituting with a dummy symbol.\n"
     ]
    },
    {
     "name": "stderr",
     "output_type": "stream",
     "text": [
      "Font 'default' does not have a glyph for '\\u2212' [U+2212], substituting with a dummy symbol.\n"
     ]
    },
    {
     "name": "stderr",
     "output_type": "stream",
     "text": [
      "Font 'default' does not have a glyph for '\\u2212' [U+2212], substituting with a dummy symbol.\n"
     ]
    },
    {
     "name": "stderr",
     "output_type": "stream",
     "text": [
      "Font 'default' does not have a glyph for '\\u2212' [U+2212], substituting with a dummy symbol.\n"
     ]
    },
    {
     "name": "stderr",
     "output_type": "stream",
     "text": [
      "Font 'default' does not have a glyph for '\\u2212' [U+2212], substituting with a dummy symbol.\n"
     ]
    },
    {
     "name": "stderr",
     "output_type": "stream",
     "text": [
      "Font 'default' does not have a glyph for '\\u2212' [U+2212], substituting with a dummy symbol.\n"
     ]
    },
    {
     "name": "stderr",
     "output_type": "stream",
     "text": [
      "Font 'default' does not have a glyph for '\\u2212' [U+2212], substituting with a dummy symbol.\n"
     ]
    },
    {
     "name": "stderr",
     "output_type": "stream",
     "text": [
      "Font 'default' does not have a glyph for '\\u2212' [U+2212], substituting with a dummy symbol.\n"
     ]
    },
    {
     "name": "stderr",
     "output_type": "stream",
     "text": [
      "Font 'default' does not have a glyph for '\\u2212' [U+2212], substituting with a dummy symbol.\n"
     ]
    },
    {
     "name": "stderr",
     "output_type": "stream",
     "text": [
      "Font 'default' does not have a glyph for '\\u2212' [U+2212], substituting with a dummy symbol.\n"
     ]
    },
    {
     "name": "stderr",
     "output_type": "stream",
     "text": [
      "Font 'default' does not have a glyph for '\\u2212' [U+2212], substituting with a dummy symbol.\n"
     ]
    },
    {
     "name": "stderr",
     "output_type": "stream",
     "text": [
      "Font 'default' does not have a glyph for '\\u2212' [U+2212], substituting with a dummy symbol.\n"
     ]
    },
    {
     "name": "stderr",
     "output_type": "stream",
     "text": [
      "Font 'default' does not have a glyph for '\\u2212' [U+2212], substituting with a dummy symbol.\n"
     ]
    },
    {
     "name": "stderr",
     "output_type": "stream",
     "text": [
      "Font 'default' does not have a glyph for '\\u2212' [U+2212], substituting with a dummy symbol.\n"
     ]
    },
    {
     "name": "stderr",
     "output_type": "stream",
     "text": [
      "Font 'default' does not have a glyph for '\\u2212' [U+2212], substituting with a dummy symbol.\n"
     ]
    },
    {
     "name": "stderr",
     "output_type": "stream",
     "text": [
      "Font 'default' does not have a glyph for '\\u2212' [U+2212], substituting with a dummy symbol.\n"
     ]
    },
    {
     "name": "stderr",
     "output_type": "stream",
     "text": [
      "Font 'default' does not have a glyph for '\\u2212' [U+2212], substituting with a dummy symbol.\n"
     ]
    },
    {
     "name": "stderr",
     "output_type": "stream",
     "text": [
      "Font 'default' does not have a glyph for '\\u2212' [U+2212], substituting with a dummy symbol.\n"
     ]
    },
    {
     "name": "stderr",
     "output_type": "stream",
     "text": [
      "Font 'default' does not have a glyph for '\\u2212' [U+2212], substituting with a dummy symbol.\n"
     ]
    },
    {
     "name": "stderr",
     "output_type": "stream",
     "text": [
      "Font 'default' does not have a glyph for '\\u2212' [U+2212], substituting with a dummy symbol.\n"
     ]
    },
    {
     "name": "stderr",
     "output_type": "stream",
     "text": [
      "Font 'default' does not have a glyph for '\\u2212' [U+2212], substituting with a dummy symbol.\n"
     ]
    },
    {
     "name": "stderr",
     "output_type": "stream",
     "text": [
      "Font 'default' does not have a glyph for '\\u2212' [U+2212], substituting with a dummy symbol.\n"
     ]
    },
    {
     "data": {
      "image/png": "[encoded data removed]",
      "text/plain": [
       "<Figure size 1200x500 with 1 Axes>"
      ]
     },
     "metadata": {},
     "output_type": "display_data"
    }
   ],
   "source": [
    "import os\n",
    "import matplotlib.pyplot as plt\n",
    "import seaborn as sns\n",
    "import numpy as np\n",
    "\n",
    "def plot_posthoc_pvalues(df_posthoc, metric, title, save_path):\n",
    "    \"\"\"\n",
    "    Creates a boxplot for post-hoc p-values of a given metric, ensuring all frameworks appear.\n",
    "\n",
    "    Parameters:\n",
    "    - df_posthoc (pd.DataFrame): DataFrame containing post-hoc test results.\n",
    "    - metric (str): The metric to analyze ('F1 Score' or 'Training Time').\n",
    "    - title (str): Title for the plot.\n",
    "    - save_path (str): Path to save the generated plot.\n",
    "    \"\"\"\n",
    "    plt.figure(figsize=(12, 5))\n",
    "\n",
    "    # Compute all frameworks from 'Framework A' and 'Framework B'\n",
    "    all_frameworks = sorted(set(df_posthoc[\"Framework A\"]).union(set(df_posthoc[\"Framework B\"])))\n",
    "\n",
    "    # Filter for the metric of interest\n",
    "    df_filtered = df_posthoc[df_posthoc[\"metric\"] == metric].copy()\n",
    "\n",
    "    if df_filtered.empty:\n",
    "        print(f\"⚠️ No post-hoc results for {metric}. Skipping plot.\")\n",
    "        return\n",
    "\n",
    "    # Ensure missing frameworks in 'Framework A' appear with NaN\n",
    "    existing_frameworks_A = set(df_filtered[\"Framework A\"])\n",
    "    existing_frameworks_B = set(df_filtered[\"Framework B\"])\n",
    "\n",
    "    missing_frameworks_A = existing_frameworks_B - existing_frameworks_A  # Frameworks only in 'B'\n",
    "\n",
    "    if missing_frameworks_A:\n",
    "        print(f\"⚠️ Fixing missing frameworks in 'Framework A': {missing_frameworks_A}\")\n",
    "\n",
    "        missing_rows = pd.DataFrame({\n",
    "            \"Framework A\": list(missing_frameworks_A),\n",
    "            \"p-value\": np.nan,\n",
    "            \"metric\": metric\n",
    "        })\n",
    "        df_filtered = pd.concat([df_filtered, missing_rows], ignore_index=True)\n",
    "\n",
    "    # Ensure `Framework A` includes frameworks that appear in `Framework B`\n",
    "    frameworks_in_A = set(df_filtered[\"Framework A\"])\n",
    "    frameworks_in_B = set(df_filtered[\"Framework B\"])\n",
    "\n",
    "    missing_from_A = frameworks_in_B - frameworks_in_A  # Any framework that is only in \"Framework B\"\n",
    "    if missing_from_A:\n",
    "        print(f\"⚠️ Fixing missing frameworks from 'Framework B' into 'Framework A': {missing_from_A}\")\n",
    "        for fw in missing_from_A:\n",
    "            df_filtered = pd.concat([df_filtered, pd.DataFrame({\n",
    "                \"Framework A\": [fw],\n",
    "                \"p-value\": np.nan,\n",
    "                \"metric\": metric\n",
    "            })], ignore_index=True)\n",
    "\n",
    "    # Check if `fedot` has valid p-values\n",
    "    print(df_filtered[df_filtered[\"Framework A\"] == \"fedot\"])\n",
    "\n",
    "    # # Replace NaN p-values with 1.0 to make them visible but non-significant\n",
    "    # df_filtered[\"p-value\"].fillna(1.0, inplace=True)\n",
    "\n",
    "    # Plot the p-values\n",
    "    sns.boxplot(x=\"Framework A\", y=\"p-value\", data=df_filtered, order=all_frameworks)\n",
    "\n",
    "    plt.axhline(y=alpha, color='r', linestyle='--', label=f'Significance Threshold ({alpha})')\n",
    "    plt.title(title)\n",
    "    plt.legend()\n",
    "\n",
    "    # Improve x/y axis readability\n",
    "    plt.yscale('log')\n",
    "    plt.xticks(rotation=45, ha=\"right\")\n",
    "    plt.tight_layout()\n",
    "\n",
    "    # Ensure save directory exists\n",
    "    os.makedirs(os.path.dirname(save_path), exist_ok=True)\n",
    "\n",
    "    # Save the plot\n",
    "    plt.savefig(save_path, dpi=300)\n",
    "    plt.show()\n",
    "\n",
    "# Call the function for both F1 Score and Training Time\n",
    "plot_posthoc_pvalues(df_posthoc, metric=\"F1 Score\", \n",
    "                     title=\"Post-Hoc p-values (F1 Score)\", \n",
    "                     save_path=f\"stats/{scenario}/step_1_per_dataset_post_hoc_box_f1.png\")\n",
    "\n",
    "plot_posthoc_pvalues(df_posthoc, metric=\"Training Time\", \n",
    "                     title=\"Post-Hoc p-values (Training Time)\", \n",
    "                     save_path=f\"stats/{scenario}/step_1_per_dataset_post_hoc_box_time.png\")"
   ]
  },
  {
   "cell_type": "code",
   "execution_count": 27,
   "id": "be78fd72-3af8-43e2-8f59-2e7263c76c2d",
   "metadata": {
    "execution": {
     "iopub.execute_input": "2025-02-15T07:23:01.082349Z",
     "iopub.status.busy": "2025-02-15T07:23:01.082349Z",
     "iopub.status.idle": "2025-02-15T07:23:02.166281Z",
     "shell.execute_reply": "2025-02-15T07:23:02.166281Z"
    },
    "papermill": {
     "duration": 1.098931,
     "end_time": "2025-02-15T07:23:02.168281",
     "exception": false,
     "start_time": "2025-02-15T07:23:01.069350",
     "status": "completed"
    },
    "tags": []
   },
   "outputs": [
    {
     "data": {
      "image/png": "[encoded data removed]",
      "text/plain": [
       "<Figure size 1400x600 with 1 Axes>"
      ]
     },
     "metadata": {},
     "output_type": "display_data"
    },
    {
     "data": {
      "image/png": "[encoded data removed]",
      "text/plain": [
       "<Figure size 1400x600 with 1 Axes>"
      ]
     },
     "metadata": {},
     "output_type": "display_data"
    }
   ],
   "source": [
    "def plot_violin_strip_pvalues(df_posthoc, metric, title, save_path):\n",
    "    \"\"\"\n",
    "    Creates a violin + strip plot for post-hoc p-values of a given metric.\n",
    "\n",
    "    Parameters:\n",
    "    - df_posthoc (pd.DataFrame): DataFrame containing post-hoc test results.\n",
    "    - metric (str): The metric to analyze ('F1 Score' or 'Training Time').\n",
    "    - title (str): Title for the plot.\n",
    "    - save_path (str): Path to save the generated plot.\n",
    "    \"\"\"\n",
    "    plt.figure(figsize=(14, 6))\n",
    "    \n",
    "    df_filtered = df_posthoc[df_posthoc[\"metric\"] == metric]\n",
    "\n",
    "    # Violin plot (distribution)\n",
    "    sns.violinplot(x=\"Framework A\", y=\"p-value\", data=df_filtered, inner=None, color=\"lightgray\")\n",
    "    \n",
    "    # Strip plot (individual data points)\n",
    "    sns.stripplot(x=\"Framework A\", y=\"p-value\", data=df_filtered, jitter=True, dodge=True)\n",
    "    \n",
    "    # Significance threshold\n",
    "    plt.axhline(y=alpha, color='r', linestyle='--', label=f'Significance Threshold ({alpha})')\n",
    "    plt.title(title, fontsize=14)\n",
    "    plt.ylabel(\"p-value\")\n",
    "    plt.legend()\n",
    "\n",
    "    # Improve x-axis readability\n",
    "    plt.xticks(rotation=45, ha=\"right\")\n",
    "    plt.tight_layout()\n",
    "\n",
    "    # Ensure the save directory exists\n",
    "    os.makedirs(os.path.dirname(save_path), exist_ok=True)\n",
    "    \n",
    "    # Save the plot\n",
    "    plt.savefig(save_path, dpi=300)\n",
    "    plt.show()\n",
    "\n",
    "# Call the function for both F1 Score and Training Time\n",
    "plot_violin_strip_pvalues(df_posthoc, metric=\"F1 Score\", \n",
    "                          title=\"Post-Hoc p-values (F1 Score)\", \n",
    "                          save_path=f\"stats/{scenario}/step_1_per_dataset_post_hoc_violin_f1.png\")\n",
    "\n",
    "plot_violin_strip_pvalues(df_posthoc, metric=\"Training Time\", \n",
    "                          title=\"Post-Hoc p-values (Training Time)\", \n",
    "                          save_path=f\"stats/{scenario}/step_1_per_dataset_post_hoc_violin_time.png\")"
   ]
  },
  {
   "cell_type": "markdown",
   "id": "30f44e0d-3f42-4a77-a608-9de1d64c0042",
   "metadata": {
    "papermill": {
     "duration": 0.013002,
     "end_time": "2025-02-15T07:23:02.193283",
     "exception": false,
     "start_time": "2025-02-15T07:23:02.180281",
     "status": "completed"
    },
    "tags": []
   },
   "source": [
    "## Extra"
   ]
  },
  {
   "cell_type": "code",
   "execution_count": 28,
   "id": "e39aead2-3daa-41b0-90c4-5ef91d1d50fd",
   "metadata": {
    "execution": {
     "iopub.execute_input": "2025-02-15T07:23:02.218281Z",
     "iopub.status.busy": "2025-02-15T07:23:02.218281Z",
     "iopub.status.idle": "2025-02-15T07:23:02.245344Z",
     "shell.execute_reply": "2025-02-15T07:23:02.245344Z"
    },
    "papermill": {
     "duration": 0.041062,
     "end_time": "2025-02-15T07:23:02.246344",
     "exception": false,
     "start_time": "2025-02-15T07:23:02.205282",
     "status": "completed"
    },
    "tags": []
   },
   "outputs": [
    {
     "data": {
      "text/html": [
       "<div>\n",
       "<style scoped>\n",
       "    .dataframe tbody tr th:only-of-type {\n",
       "        vertical-align: middle;\n",
       "    }\n",
       "\n",
       "    .dataframe tbody tr th {\n",
       "        vertical-align: top;\n",
       "    }\n",
       "\n",
       "    .dataframe thead th {\n",
       "        text-align: right;\n",
       "    }\n",
       "</style>\n",
       "<table border=\"1\" class=\"dataframe\">\n",
       "  <thead>\n",
       "    <tr style=\"text-align: right;\">\n",
       "      <th></th>\n",
       "      <th>Dataset</th>\n",
       "      <th>Framework A</th>\n",
       "      <th>Framework B</th>\n",
       "      <th>p-value (F1 Score)</th>\n",
       "      <th>p-value (Training Time)</th>\n",
       "    </tr>\n",
       "  </thead>\n",
       "  <tbody>\n",
       "    <tr>\n",
       "      <th>1</th>\n",
       "      <td>285</td>\n",
       "      <td>autosklearn</td>\n",
       "      <td>autokeras</td>\n",
       "      <td>2.497084e-07</td>\n",
       "      <td>6.248156e-12</td>\n",
       "    </tr>\n",
       "    <tr>\n",
       "      <th>2</th>\n",
       "      <td>285</td>\n",
       "      <td>autosklearn</td>\n",
       "      <td>autokeras</td>\n",
       "      <td>2.497084e-07</td>\n",
       "      <td>6.248156e-12</td>\n",
       "    </tr>\n",
       "    <tr>\n",
       "      <th>5</th>\n",
       "      <td>41464</td>\n",
       "      <td>autokeras</td>\n",
       "      <td>autosklearn</td>\n",
       "      <td>5.859585e-04</td>\n",
       "      <td>4.315705e-11</td>\n",
       "    </tr>\n",
       "    <tr>\n",
       "      <th>6</th>\n",
       "      <td>41465</td>\n",
       "      <td>autokeras</td>\n",
       "      <td>autogluon</td>\n",
       "      <td>0.000000e+00</td>\n",
       "      <td>1.299117e-02</td>\n",
       "    </tr>\n",
       "    <tr>\n",
       "      <th>7</th>\n",
       "      <td>41465</td>\n",
       "      <td>autosklearn</td>\n",
       "      <td>autokeras</td>\n",
       "      <td>0.000000e+00</td>\n",
       "      <td>2.434935e-08</td>\n",
       "    </tr>\n",
       "    <tr>\n",
       "      <th>9</th>\n",
       "      <td>41465</td>\n",
       "      <td>autokeras</td>\n",
       "      <td>autosklearn</td>\n",
       "      <td>0.000000e+00</td>\n",
       "      <td>2.434935e-08</td>\n",
       "    </tr>\n",
       "    <tr>\n",
       "      <th>10</th>\n",
       "      <td>41465</td>\n",
       "      <td>fedot</td>\n",
       "      <td>autokeras</td>\n",
       "      <td>0.000000e+00</td>\n",
       "      <td>5.229346e-14</td>\n",
       "    </tr>\n",
       "    <tr>\n",
       "      <th>15</th>\n",
       "      <td>41468</td>\n",
       "      <td>autosklearn</td>\n",
       "      <td>autokeras</td>\n",
       "      <td>2.174473e-02</td>\n",
       "      <td>5.180270e-05</td>\n",
       "    </tr>\n",
       "    <tr>\n",
       "      <th>17</th>\n",
       "      <td>41468</td>\n",
       "      <td>autosklearn</td>\n",
       "      <td>fedot</td>\n",
       "      <td>3.167701e-06</td>\n",
       "      <td>4.358288e-02</td>\n",
       "    </tr>\n",
       "    <tr>\n",
       "      <th>18</th>\n",
       "      <td>41468</td>\n",
       "      <td>autosklearn</td>\n",
       "      <td>fedot</td>\n",
       "      <td>3.167701e-06</td>\n",
       "      <td>4.358288e-02</td>\n",
       "    </tr>\n",
       "    <tr>\n",
       "      <th>22</th>\n",
       "      <td>41470</td>\n",
       "      <td>autosklearn</td>\n",
       "      <td>fedot</td>\n",
       "      <td>5.620906e-04</td>\n",
       "      <td>1.280017e-02</td>\n",
       "    </tr>\n",
       "    <tr>\n",
       "      <th>23</th>\n",
       "      <td>41470</td>\n",
       "      <td>autosklearn</td>\n",
       "      <td>fedot</td>\n",
       "      <td>5.620906e-04</td>\n",
       "      <td>1.280017e-02</td>\n",
       "    </tr>\n",
       "    <tr>\n",
       "      <th>29</th>\n",
       "      <td>41471</td>\n",
       "      <td>fedot</td>\n",
       "      <td>autosklearn</td>\n",
       "      <td>1.542769e-06</td>\n",
       "      <td>1.571496e-02</td>\n",
       "    </tr>\n",
       "    <tr>\n",
       "      <th>30</th>\n",
       "      <td>41471</td>\n",
       "      <td>fedot</td>\n",
       "      <td>autosklearn</td>\n",
       "      <td>1.542769e-06</td>\n",
       "      <td>1.571496e-02</td>\n",
       "    </tr>\n",
       "    <tr>\n",
       "      <th>32</th>\n",
       "      <td>41473</td>\n",
       "      <td>fedot</td>\n",
       "      <td>autosklearn</td>\n",
       "      <td>2.317257e-12</td>\n",
       "      <td>1.381105e-04</td>\n",
       "    </tr>\n",
       "    <tr>\n",
       "      <th>33</th>\n",
       "      <td>41473</td>\n",
       "      <td>fedot</td>\n",
       "      <td>autosklearn</td>\n",
       "      <td>2.317257e-12</td>\n",
       "      <td>1.381105e-04</td>\n",
       "    </tr>\n",
       "    <tr>\n",
       "      <th>34</th>\n",
       "      <td>41473</td>\n",
       "      <td>autosklearn</td>\n",
       "      <td>autokeras</td>\n",
       "      <td>0.000000e+00</td>\n",
       "      <td>1.932307e-04</td>\n",
       "    </tr>\n",
       "    <tr>\n",
       "      <th>35</th>\n",
       "      <td>41473</td>\n",
       "      <td>fedot</td>\n",
       "      <td>autosklearn</td>\n",
       "      <td>2.317257e-12</td>\n",
       "      <td>1.381105e-04</td>\n",
       "    </tr>\n",
       "    <tr>\n",
       "      <th>36</th>\n",
       "      <td>41473</td>\n",
       "      <td>fedot</td>\n",
       "      <td>autosklearn</td>\n",
       "      <td>2.317257e-12</td>\n",
       "      <td>1.381105e-04</td>\n",
       "    </tr>\n",
       "  </tbody>\n",
       "</table>\n",
       "</div>"
      ],
      "text/plain": [
       "    Dataset  Framework A  Framework B  p-value (F1 Score)  \\\n",
       "1       285  autosklearn    autokeras        2.497084e-07   \n",
       "2       285  autosklearn    autokeras        2.497084e-07   \n",
       "5     41464    autokeras  autosklearn        5.859585e-04   \n",
       "6     41465    autokeras    autogluon        0.000000e+00   \n",
       "7     41465  autosklearn    autokeras        0.000000e+00   \n",
       "9     41465    autokeras  autosklearn        0.000000e+00   \n",
       "10    41465        fedot    autokeras        0.000000e+00   \n",
       "15    41468  autosklearn    autokeras        2.174473e-02   \n",
       "17    41468  autosklearn        fedot        3.167701e-06   \n",
       "18    41468  autosklearn        fedot        3.167701e-06   \n",
       "22    41470  autosklearn        fedot        5.620906e-04   \n",
       "23    41470  autosklearn        fedot        5.620906e-04   \n",
       "29    41471        fedot  autosklearn        1.542769e-06   \n",
       "30    41471        fedot  autosklearn        1.542769e-06   \n",
       "32    41473        fedot  autosklearn        2.317257e-12   \n",
       "33    41473        fedot  autosklearn        2.317257e-12   \n",
       "34    41473  autosklearn    autokeras        0.000000e+00   \n",
       "35    41473        fedot  autosklearn        2.317257e-12   \n",
       "36    41473        fedot  autosklearn        2.317257e-12   \n",
       "\n",
       "    p-value (Training Time)  \n",
       "1              6.248156e-12  \n",
       "2              6.248156e-12  \n",
       "5              4.315705e-11  \n",
       "6              1.299117e-02  \n",
       "7              2.434935e-08  \n",
       "9              2.434935e-08  \n",
       "10             5.229346e-14  \n",
       "15             5.180270e-05  \n",
       "17             4.358288e-02  \n",
       "18             4.358288e-02  \n",
       "22             1.280017e-02  \n",
       "23             1.280017e-02  \n",
       "29             1.571496e-02  \n",
       "30             1.571496e-02  \n",
       "32             1.381105e-04  \n",
       "33             1.381105e-04  \n",
       "34             1.932307e-04  \n",
       "35             1.381105e-04  \n",
       "36             1.381105e-04  "
      ]
     },
     "execution_count": 28,
     "metadata": {},
     "output_type": "execute_result"
    }
   ],
   "source": [
    "def extract_significant_comparisons(df_posthoc):\n",
    "    \"\"\"\n",
    "    Extracts significant post-hoc comparisons for F1 Score and Training Time.\n",
    "\n",
    "    Parameters:\n",
    "    - df_posthoc (pd.DataFrame): Long-form DataFrame containing post-hoc test results.\n",
    "\n",
    "    Returns:\n",
    "    - pd.DataFrame: Summary of significant pairwise comparisons.\n",
    "    \"\"\"\n",
    "    # Identify significant comparisons\n",
    "    significant_f1 = df_posthoc[(df_posthoc[\"metric\"] == \"F1 Score\") & (df_posthoc[\"p-value\"] < alpha)]\n",
    "    significant_time = df_posthoc[(df_posthoc[\"metric\"] == \"Training Time\") & (df_posthoc[\"p-value\"] < alpha)]\n",
    "\n",
    "    # Rename dataset column for consistency\n",
    "    significant_f1 = significant_f1.rename(columns={\"dataset\": \"Dataset\"})\n",
    "    significant_time = significant_time.rename(columns={\"dataset\": \"Dataset\"})\n",
    "\n",
    "    # Create a summary table for significant differences in F1 Score\n",
    "    significance_summary = pd.DataFrame({\n",
    "        \"Dataset\": significant_f1[\"Dataset\"],\n",
    "        \"Framework A\": significant_f1[\"Framework A\"],\n",
    "        \"Framework B\": significant_f1[\"Framework B\"],\n",
    "        \"p-value (F1 Score)\": significant_f1[\"p-value\"]\n",
    "    })\n",
    "\n",
    "    # Merge with significant training time comparisons\n",
    "    significant_time = significant_time.rename(columns={\"p-value\": \"p-value (Training Time)\"})\n",
    "    significance_summary = significance_summary.merge(\n",
    "        significant_time[[\"Dataset\", \"Framework A\", \"Framework B\", \"p-value (Training Time)\"]],\n",
    "        on=[\"Dataset\", \"Framework A\", \"Framework B\"],\n",
    "        how=\"left\"\n",
    "    )\n",
    "\n",
    "    return significance_summary.dropna()  # Remove rows with no significant training time comparisons\n",
    "\n",
    "# Call the function\n",
    "significant_results = extract_significant_comparisons(df_posthoc)\n",
    "significant_results"
   ]
  },
  {
   "cell_type": "code",
   "execution_count": 29,
   "id": "e2af083f-047d-481d-b196-98694524d3f4",
   "metadata": {
    "execution": {
     "iopub.execute_input": "2025-02-15T07:23:02.272852Z",
     "iopub.status.busy": "2025-02-15T07:23:02.271853Z",
     "iopub.status.idle": "2025-02-15T07:23:02.292271Z",
     "shell.execute_reply": "2025-02-15T07:23:02.292271Z"
    },
    "papermill": {
     "duration": 0.034433,
     "end_time": "2025-02-15T07:23:02.293287",
     "exception": false,
     "start_time": "2025-02-15T07:23:02.258854",
     "status": "completed"
    },
    "tags": []
   },
   "outputs": [
    {
     "name": "stdout",
     "output_type": "stream",
     "text": [
      "### Dataset 285 Analysis\n",
      "- Significant differences for F1 Score:\n",
      "  - autokeras vs autosklearn: p = 0.000\n",
      "  - autosklearn vs autokeras: p = 0.000\n",
      "- Significant differences for Training Time:\n",
      "  - autokeras vs autogluon: p = 0.002\n",
      "  - autosklearn vs autokeras: p = 0.000\n",
      "  - autosklearn vs autokeras: p = 0.000\n",
      "\n",
      "### Dataset 41464 Analysis\n",
      "- Significant differences for F1 Score:\n",
      "  - autogluon vs autokeras: p = 0.001\n",
      "  - autogluon vs autosklearn: p = 0.000\n",
      "  - autokeras vs autosklearn: p = 0.001\n",
      "- Significant differences for Training Time:\n",
      "  - autokeras vs autogluon: p = 0.000\n",
      "  - autosklearn vs autokeras: p = 0.000\n",
      "  - autokeras vs autosklearn: p = 0.000\n",
      "\n",
      "### Dataset 41465 Analysis\n",
      "- Significant differences for F1 Score:\n",
      "  - autokeras vs autogluon: p = 0.000\n",
      "  - autosklearn vs autokeras: p = 0.000\n",
      "  - autosklearn vs fedot: p = 0.000\n",
      "  - autokeras vs autosklearn: p = 0.000\n",
      "  - fedot vs autokeras: p = 0.000\n",
      "  - fedot vs autosklearn: p = 0.000\n",
      "- Significant differences for Training Time:\n",
      "  - autokeras vs autogluon: p = 0.013\n",
      "  - autokeras vs autosklearn: p = 0.000\n",
      "  - fedot vs autokeras: p = 0.000\n",
      "  - autosklearn vs autokeras: p = 0.000\n",
      "\n",
      "### Dataset 41468 Analysis\n",
      "- Significant differences for F1 Score:\n",
      "  - autogluon vs autokeras: p = 0.000\n",
      "  - autogluon vs autosklearn: p = 0.000\n",
      "  - autogluon vs fedot: p = 0.020\n",
      "  - autosklearn vs autokeras: p = 0.022\n",
      "  - fedot vs autosklearn: p = 0.000\n",
      "  - autosklearn vs fedot: p = 0.000\n",
      "- Significant differences for Training Time:\n",
      "  - autokeras vs autosklearn: p = 0.000\n",
      "  - fedot vs autokeras: p = 0.000\n",
      "  - autosklearn vs autokeras: p = 0.000\n",
      "  - autosklearn vs fedot: p = 0.044\n",
      "  - autosklearn vs fedot: p = 0.044\n",
      "\n",
      "### Dataset 41470 Analysis\n",
      "- Significant differences for F1 Score:\n",
      "  - autokeras vs autogluon: p = 0.001\n",
      "  - autokeras vs autosklearn: p = 0.000\n",
      "  - autokeras vs autosklearn: p = 0.000\n",
      "  - autosklearn vs fedot: p = 0.001\n",
      "- Significant differences for Training Time:\n",
      "  - autogluon vs autokeras: p = 0.013\n",
      "  - autogluon vs autosklearn: p = 0.000\n",
      "  - autogluon vs fedot: p = 0.000\n",
      "  - autosklearn vs autokeras: p = 0.014\n",
      "  - autosklearn vs fedot: p = 0.013\n",
      "  - autosklearn vs fedot: p = 0.013\n",
      "\n",
      "### Dataset 41471 Analysis\n",
      "- Significant differences for F1 Score:\n",
      "  - autogluon vs autokeras: p = 0.000\n",
      "  - autogluon vs autosklearn: p = 0.000\n",
      "  - fedot vs autogluon: p = 0.007\n",
      "  - autokeras vs autosklearn: p = 0.007\n",
      "  - autokeras vs fedot: p = 0.030\n",
      "  - fedot vs autosklearn: p = 0.000\n",
      "- Significant differences for Training Time:\n",
      "  - autokeras vs autogluon: p = 0.013\n",
      "  - autosklearn vs autokeras: p = 0.000\n",
      "  - autosklearn vs fedot: p = 0.016\n",
      "  - autosklearn vs autokeras: p = 0.000\n",
      "  - fedot vs autosklearn: p = 0.016\n",
      "  - fedot vs autosklearn: p = 0.016\n",
      "\n",
      "### Dataset 41473 Analysis\n",
      "- Significant differences for F1 Score:\n",
      "  - autosklearn vs autogluon: p = 0.000\n",
      "  - fedot vs autosklearn: p = 0.000\n",
      "  - autosklearn vs autokeras: p = 0.000\n",
      "  - fedot vs autosklearn: p = 0.000\n",
      "  - autosklearn vs fedot: p = 0.000\n",
      "- Significant differences for Training Time:\n",
      "  - autogluon vs autokeras: p = 0.000\n",
      "  - autogluon vs fedot: p = 0.000\n",
      "  - autosklearn vs autokeras: p = 0.000\n",
      "  - fedot vs autosklearn: p = 0.000\n",
      "  - fedot vs autosklearn: p = 0.000\n",
      "\n",
      "\n"
     ]
    }
   ],
   "source": [
    "def summarize_posthoc(df):\n",
    "    summary = \"\"\n",
    "\n",
    "    for dataset in df['dataset'].unique():\n",
    "        dataset_results = df[df['dataset'] == dataset]\n",
    "        \n",
    "        summary += f\"### Dataset {dataset} Analysis\\n\"\n",
    "        \n",
    "        for metric in dataset_results['metric'].unique():\n",
    "            metric_results = dataset_results[dataset_results['metric'] == metric]\n",
    "            significant_pairs = metric_results[metric_results['p-value'] < alpha]\n",
    "            \n",
    "            if significant_pairs.empty:\n",
    "                summary += f\"- No significant differences found for {metric}.\\n\"\n",
    "            else:\n",
    "                summary += f\"- Significant differences for {metric}:\\n\"\n",
    "                for _, row in significant_pairs.iterrows():\n",
    "                    summary += f\"  - {row['Framework A']} vs {row['Framework B']}: p = {row['p-value']:.3f}\\n\"\n",
    "        \n",
    "        summary += \"\\n\"\n",
    "    \n",
    "    return summary\n",
    "\n",
    "# Generate summary\n",
    "posthoc_summary = summarize_posthoc(df_posthoc)\n",
    "print(posthoc_summary)"
   ]
  }
 ],
 "metadata": {
  "kernelspec": {
   "display_name": "Python 3 (ipykernel)",
   "language": "python",
   "name": "python3"
  },
  "language_info": {
   "codemirror_mode": {
    "name": "ipython",
    "version": 3
   },
   "file_extension": ".py",
   "mimetype": "text/x-python",
   "name": "python",
   "nbconvert_exporter": "python",
   "pygments_lexer": "ipython3",
   "version": "3.9.18"
  },
  "papermill": {
   "default_parameters": {},
   "duration": 9.618788,
   "end_time": "2025-02-15T07:23:02.637701",
   "environment_variables": {},
   "exception": null,
   "input_path": "stats_step_1_analysis_per_dataset.ipynb",
   "output_path": "stats/multilabel_native/step_1_analysis_per_dataset_output.ipynb",
   "parameters": {
    "alpha": 0.05,
    "scenario": "multilabel_native"
   },
   "start_time": "2025-02-15T07:22:53.018913",
   "version": "2.6.0"
  }
 },
 "nbformat": 4,
 "nbformat_minor": 5
}